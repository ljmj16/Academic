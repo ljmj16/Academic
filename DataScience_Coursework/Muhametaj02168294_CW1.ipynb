{
 "cells": [
  {
   "cell_type": "markdown",
   "metadata": {
    "id": "4xHSx8l1tUYN"
   },
   "source": [
    "<a name=\"outline\"></a>\n",
    "\n",
    "## Outline\n",
    "\n",
    "- [Task 1](#task-1): Regression\n",
    "  - [1.1](#q11) Linear regression\n",
    "  - [1.2](#q12) Ridge regression\n",
    "  - [1.3](#q13) Relaxation of Lasso regression\n",
    "- [Task 2](#task-2): Classification\n",
    "  - [2.1](#q21) kNN classifier\n",
    "  - [2.2](#q22) Random forest \n",
    "  - [2.3](#q23) Support vector machine (SVM) \n",
    "- [Task 3](#task-3): Mastery component \n",
    "  - [3.1](#q31) Logistic regression and bagging \n",
    "  - [3.2](#q32) Kernelised SVM classifier "
   ]
  },
  {
   "cell_type": "code",
   "execution_count": 1712,
   "metadata": {},
   "outputs": [],
   "source": [
    "import numpy as np\n",
    "from numpy import random\n",
    "import random\n",
    "import pandas as pd\n",
    "import matplotlib.pyplot as plt\n",
    "from collections import defaultdict\n",
    "import itertools"
   ]
  },
  {
   "cell_type": "markdown",
   "metadata": {},
   "source": [
    "I built this notebook in order so some functions in some exercises may use other functions defined in the previous exercises."
   ]
  },
  {
   "cell_type": "markdown",
   "metadata": {
    "id": "J3sSxTA3yzhN"
   },
   "source": [
    "<a name=\"task-1\"></a>\n",
    "# Task 1: Regression [^](#outline)\n",
    "\n"
   ]
  },
  {
   "cell_type": "markdown",
   "metadata": {
    "id": "1gY8lFgnyzsF"
   },
   "source": [
    "<a name=\"q11\"></a>\n",
    "\n",
    "## 1.1: Linear regression  [^](#outline) \n",
    "\n"
   ]
  },
  {
   "cell_type": "markdown",
   "metadata": {},
   "source": [
    "### 1.1.1\n",
    "We upload the data from $\\texttt{chemistry_samples.csv}$."
   ]
  },
  {
   "cell_type": "code",
   "execution_count": 1206,
   "metadata": {},
   "outputs": [
    {
     "data": {
      "text/html": [
       "<div>\n",
       "<style scoped>\n",
       "    .dataframe tbody tr th:only-of-type {\n",
       "        vertical-align: middle;\n",
       "    }\n",
       "\n",
       "    .dataframe tbody tr th {\n",
       "        vertical-align: top;\n",
       "    }\n",
       "\n",
       "    .dataframe thead th {\n",
       "        text-align: right;\n",
       "    }\n",
       "</style>\n",
       "<table border=\"1\" class=\"dataframe\">\n",
       "  <thead>\n",
       "    <tr style=\"text-align: right;\">\n",
       "      <th></th>\n",
       "      <th>CIC0</th>\n",
       "      <th>SM1_Dz(Z)</th>\n",
       "      <th>GATS1i</th>\n",
       "      <th>NdsCH</th>\n",
       "      <th>NdssC</th>\n",
       "      <th>MLOGP</th>\n",
       "      <th>FV1</th>\n",
       "      <th>VFV</th>\n",
       "      <th>FV2</th>\n",
       "      <th>FV3</th>\n",
       "      <th>LC50</th>\n",
       "    </tr>\n",
       "  </thead>\n",
       "  <tbody>\n",
       "    <tr>\n",
       "      <th>0</th>\n",
       "      <td>3.661280</td>\n",
       "      <td>0.658363</td>\n",
       "      <td>1.602232</td>\n",
       "      <td>1.994272</td>\n",
       "      <td>0.836488</td>\n",
       "      <td>3.153623</td>\n",
       "      <td>15.893033</td>\n",
       "      <td>-27.724370</td>\n",
       "      <td>0.059355</td>\n",
       "      <td>0.756698</td>\n",
       "      <td>5.506249</td>\n",
       "    </tr>\n",
       "    <tr>\n",
       "      <th>1</th>\n",
       "      <td>3.936362</td>\n",
       "      <td>1.154287</td>\n",
       "      <td>1.146997</td>\n",
       "      <td>0.904295</td>\n",
       "      <td>2.948308</td>\n",
       "      <td>5.141095</td>\n",
       "      <td>13.590177</td>\n",
       "      <td>-31.821521</td>\n",
       "      <td>-13.408855</td>\n",
       "      <td>1.161298</td>\n",
       "      <td>6.636791</td>\n",
       "    </tr>\n",
       "    <tr>\n",
       "      <th>2</th>\n",
       "      <td>0.964144</td>\n",
       "      <td>0.415485</td>\n",
       "      <td>1.481028</td>\n",
       "      <td>2.136585</td>\n",
       "      <td>0.043679</td>\n",
       "      <td>-1.156783</td>\n",
       "      <td>15.989419</td>\n",
       "      <td>-3.699312</td>\n",
       "      <td>2.561525</td>\n",
       "      <td>0.500115</td>\n",
       "      <td>1.563388</td>\n",
       "    </tr>\n",
       "    <tr>\n",
       "      <th>3</th>\n",
       "      <td>2.074617</td>\n",
       "      <td>1.417296</td>\n",
       "      <td>0.486216</td>\n",
       "      <td>0.000908</td>\n",
       "      <td>-0.066980</td>\n",
       "      <td>2.610960</td>\n",
       "      <td>7.962046</td>\n",
       "      <td>-16.374439</td>\n",
       "      <td>2.448975</td>\n",
       "      <td>1.481888</td>\n",
       "      <td>6.248432</td>\n",
       "    </tr>\n",
       "    <tr>\n",
       "      <th>4</th>\n",
       "      <td>1.448569</td>\n",
       "      <td>0.836892</td>\n",
       "      <td>1.951012</td>\n",
       "      <td>0.028318</td>\n",
       "      <td>-0.039121</td>\n",
       "      <td>1.851095</td>\n",
       "      <td>22.285266</td>\n",
       "      <td>-9.526361</td>\n",
       "      <td>2.870400</td>\n",
       "      <td>0.649234</td>\n",
       "      <td>3.676796</td>\n",
       "    </tr>\n",
       "    <tr>\n",
       "      <th>...</th>\n",
       "      <td>...</td>\n",
       "      <td>...</td>\n",
       "      <td>...</td>\n",
       "      <td>...</td>\n",
       "      <td>...</td>\n",
       "      <td>...</td>\n",
       "      <td>...</td>\n",
       "      <td>...</td>\n",
       "      <td>...</td>\n",
       "      <td>...</td>\n",
       "      <td>...</td>\n",
       "    </tr>\n",
       "    <tr>\n",
       "      <th>4106</th>\n",
       "      <td>2.762548</td>\n",
       "      <td>0.139194</td>\n",
       "      <td>1.630518</td>\n",
       "      <td>0.141917</td>\n",
       "      <td>0.360599</td>\n",
       "      <td>0.539647</td>\n",
       "      <td>18.861590</td>\n",
       "      <td>-21.369570</td>\n",
       "      <td>1.470872</td>\n",
       "      <td>0.277810</td>\n",
       "      <td>2.526064</td>\n",
       "    </tr>\n",
       "    <tr>\n",
       "      <th>4107</th>\n",
       "      <td>3.806224</td>\n",
       "      <td>0.546949</td>\n",
       "      <td>0.853502</td>\n",
       "      <td>0.045760</td>\n",
       "      <td>-0.045528</td>\n",
       "      <td>4.691096</td>\n",
       "      <td>11.109325</td>\n",
       "      <td>-26.873982</td>\n",
       "      <td>3.592650</td>\n",
       "      <td>0.649017</td>\n",
       "      <td>5.876928</td>\n",
       "    </tr>\n",
       "    <tr>\n",
       "      <th>4108</th>\n",
       "      <td>2.512367</td>\n",
       "      <td>0.324823</td>\n",
       "      <td>1.920923</td>\n",
       "      <td>0.125953</td>\n",
       "      <td>0.020476</td>\n",
       "      <td>0.599234</td>\n",
       "      <td>18.817749</td>\n",
       "      <td>-18.689915</td>\n",
       "      <td>3.200544</td>\n",
       "      <td>0.431711</td>\n",
       "      <td>2.691485</td>\n",
       "    </tr>\n",
       "    <tr>\n",
       "      <th>4109</th>\n",
       "      <td>2.597895</td>\n",
       "      <td>0.335068</td>\n",
       "      <td>1.608763</td>\n",
       "      <td>0.107764</td>\n",
       "      <td>-0.206002</td>\n",
       "      <td>-0.393034</td>\n",
       "      <td>18.070758</td>\n",
       "      <td>-20.050566</td>\n",
       "      <td>4.586632</td>\n",
       "      <td>0.222328</td>\n",
       "      <td>2.096450</td>\n",
       "    </tr>\n",
       "    <tr>\n",
       "      <th>4110</th>\n",
       "      <td>3.053333</td>\n",
       "      <td>0.416593</td>\n",
       "      <td>1.646663</td>\n",
       "      <td>0.001029</td>\n",
       "      <td>0.975002</td>\n",
       "      <td>1.013529</td>\n",
       "      <td>18.443987</td>\n",
       "      <td>-22.755477</td>\n",
       "      <td>-2.822340</td>\n",
       "      <td>0.548011</td>\n",
       "      <td>3.542785</td>\n",
       "    </tr>\n",
       "  </tbody>\n",
       "</table>\n",
       "<p>4111 rows × 11 columns</p>\n",
       "</div>"
      ],
      "text/plain": [
       "          CIC0  SM1_Dz(Z)    GATS1i     NdsCH     NdssC     MLOGP        FV1  \\\n",
       "0     3.661280   0.658363  1.602232  1.994272  0.836488  3.153623  15.893033   \n",
       "1     3.936362   1.154287  1.146997  0.904295  2.948308  5.141095  13.590177   \n",
       "2     0.964144   0.415485  1.481028  2.136585  0.043679 -1.156783  15.989419   \n",
       "3     2.074617   1.417296  0.486216  0.000908 -0.066980  2.610960   7.962046   \n",
       "4     1.448569   0.836892  1.951012  0.028318 -0.039121  1.851095  22.285266   \n",
       "...        ...        ...       ...       ...       ...       ...        ...   \n",
       "4106  2.762548   0.139194  1.630518  0.141917  0.360599  0.539647  18.861590   \n",
       "4107  3.806224   0.546949  0.853502  0.045760 -0.045528  4.691096  11.109325   \n",
       "4108  2.512367   0.324823  1.920923  0.125953  0.020476  0.599234  18.817749   \n",
       "4109  2.597895   0.335068  1.608763  0.107764 -0.206002 -0.393034  18.070758   \n",
       "4110  3.053333   0.416593  1.646663  0.001029  0.975002  1.013529  18.443987   \n",
       "\n",
       "            VFV        FV2       FV3      LC50  \n",
       "0    -27.724370   0.059355  0.756698  5.506249  \n",
       "1    -31.821521 -13.408855  1.161298  6.636791  \n",
       "2     -3.699312   2.561525  0.500115  1.563388  \n",
       "3    -16.374439   2.448975  1.481888  6.248432  \n",
       "4     -9.526361   2.870400  0.649234  3.676796  \n",
       "...         ...        ...       ...       ...  \n",
       "4106 -21.369570   1.470872  0.277810  2.526064  \n",
       "4107 -26.873982   3.592650  0.649017  5.876928  \n",
       "4108 -18.689915   3.200544  0.431711  2.691485  \n",
       "4109 -20.050566   4.586632  0.222328  2.096450  \n",
       "4110 -22.755477  -2.822340  0.548011  3.542785  \n",
       "\n",
       "[4111 rows x 11 columns]"
      ]
     },
     "execution_count": 1206,
     "metadata": {},
     "output_type": "execute_result"
    }
   ],
   "source": [
    "df_chemistry_samples = pd.read_csv(\"chemistry_samples.csv\") #reading from th csv file\n",
    "df_chemistry_samples #showing the data"
   ]
  },
  {
   "cell_type": "markdown",
   "metadata": {},
   "source": [
    "Supposing that the data is already clean we can proceed looking for a linear regression model. We are looking for $\\boldsymbol \\beta$ such that we can built a model $y = \\boldsymbol X\\boldsymbol\\beta + \\epsilon$, where $\\boldsymbol X\\in\\mathbb{R}^{NxD} $ represents the inputs ($N$ is the number of rows in the dataset and $D=10$ is the number of features) and $y\\in\\mathbb{R}^N$ the noisy observations (corresponding to $\\texttt{LC50}$). The parameter vector $\\boldsymbol\\beta\\in\\mathbb{R}^D$ is used to parametrize the function. It is important to recall that the parameter vector $\\boldsymbol \\beta$ can be obtained solving a least-squares optimisation problem. In particular at the end we will have $\\boldsymbol \\beta = (\\boldsymbol X^T \\boldsymbol X)^{-1} \\boldsymbol X^T y$"
   ]
  },
  {
   "cell_type": "code",
   "execution_count": 1207,
   "metadata": {},
   "outputs": [],
   "source": [
    "#Obtaining the matrices and the arrays from the data set\n",
    "X_1 = df_chemistry_samples.to_numpy()\n",
    "y = X_1[:,10] # creating the array y with the observation (LC50)\n",
    "N = len(y)\n",
    "X = X_1[:,:10] #creating a matrix storing the input data\n",
    "X_aug = np.hstack([1.0 * np.ones((len(y),1)), X]) #augmented training matrix"
   ]
  },
  {
   "cell_type": "code",
   "execution_count": 1208,
   "metadata": {},
   "outputs": [],
   "source": [
    "def betaobtainer(X_aug, y):\n",
    "    \"\"\"This function is used to obtain the parameters beta0, beta1, ...\n",
    "    Inputs:\n",
    "    \n",
    "    X_aug: numpy matrix with the input data\n",
    "    y: numpy array with the observed LC50\n",
    "    \n",
    "    Output:\n",
    "    beta: array of parameters of the model\"\"\"\n",
    "    \n",
    "    beta = np.linalg.solve(X_aug.T@X_aug,X_aug.T@y)\n",
    "    \n",
    "    return beta"
   ]
  },
  {
   "cell_type": "markdown",
   "metadata": {},
   "source": [
    "Now we print the parameters"
   ]
  },
  {
   "cell_type": "code",
   "execution_count": 1209,
   "metadata": {},
   "outputs": [
    {
     "name": "stdout",
     "output_type": "stream",
     "text": [
      "beta = [ 2.61638041e+00  4.47138333e-02  1.25871884e+00 -3.80092766e-02\n",
      "  3.63073448e-01  4.66534885e-03  3.90510052e-01 -7.46028629e-02\n",
      " -3.57069460e-02 -1.52588258e-02 -1.80315940e-03]\n"
     ]
    }
   ],
   "source": [
    "beta = betaobtainer(X_aug,y)\n",
    "print('beta =' ,beta)"
   ]
  },
  {
   "cell_type": "markdown",
   "metadata": {},
   "source": [
    "Now we will compute the coefficient $R^2$ to determine how correct our model is. We remember that $R^2 = 1-\\frac{\\sum_i^N (y_i-(\\tilde y_i))^2}{\\sum_i^N (y_i-(\\hat y ))^2}$, where $\\hat y$ is the mean of the values of $y$, and $\\tilde y$, is the vector of the predicted $\\texttt{LC50}$ "
   ]
  },
  {
   "cell_type": "code",
   "execution_count": 1210,
   "metadata": {},
   "outputs": [],
   "source": [
    "#I define a general R_square calcolator functions\n",
    "\n",
    "def R_square_calculator(X,y,beta):\n",
    "    '''Calculates the coefficient Rsquare'''\n",
    "    \n",
    "    N = len(y)\n",
    "    y_hat = np.mean(y) # computing the mean of the given y (vector of the values of 𝙻𝙲𝟻𝟶)\n",
    "    # I will build an array from this in order to exploit numpy's functionalities\n",
    "    y_hat_vectorized = y_hat*np.ones(N) #N is the dimension of y, y_hat_vectorized is a vector with all values equal to the mean\n",
    "    y_tilde = X@beta #expected 𝙻𝙲𝟻𝟶, for given beta\n",
    "    R_square = 1-np.linalg.norm(y-y_tilde)**2/np.linalg.norm(y-y_hat_vectorized)**2 #calculation of the coefficient R_square, using the formula \n",
    "\n",
    "    return R_square\n"
   ]
  },
  {
   "cell_type": "code",
   "execution_count": 1211,
   "metadata": {},
   "outputs": [
    {
     "name": "stdout",
     "output_type": "stream",
     "text": [
      "0.8718259975718016\n"
     ]
    }
   ],
   "source": [
    "#We calculare R_square score for the data set \n",
    "R_square = R_square_calculator(X_aug,y,beta)\n",
    "print(R_square)"
   ]
  },
  {
   "cell_type": "markdown",
   "metadata": {},
   "source": [
    "### 1.1.2\n",
    "We upload from $\\texttt{chemistry_test.csv}$."
   ]
  },
  {
   "cell_type": "code",
   "execution_count": 1212,
   "metadata": {},
   "outputs": [
    {
     "data": {
      "text/html": [
       "<div>\n",
       "<style scoped>\n",
       "    .dataframe tbody tr th:only-of-type {\n",
       "        vertical-align: middle;\n",
       "    }\n",
       "\n",
       "    .dataframe tbody tr th {\n",
       "        vertical-align: top;\n",
       "    }\n",
       "\n",
       "    .dataframe thead th {\n",
       "        text-align: right;\n",
       "    }\n",
       "</style>\n",
       "<table border=\"1\" class=\"dataframe\">\n",
       "  <thead>\n",
       "    <tr style=\"text-align: right;\">\n",
       "      <th></th>\n",
       "      <th>CIC0</th>\n",
       "      <th>SM1_Dz(Z)</th>\n",
       "      <th>GATS1i</th>\n",
       "      <th>NdsCH</th>\n",
       "      <th>NdssC</th>\n",
       "      <th>MLOGP</th>\n",
       "      <th>FV1</th>\n",
       "      <th>VFV</th>\n",
       "      <th>FV2</th>\n",
       "      <th>FV3</th>\n",
       "      <th>LC50</th>\n",
       "    </tr>\n",
       "  </thead>\n",
       "  <tbody>\n",
       "    <tr>\n",
       "      <th>0</th>\n",
       "      <td>1.617579</td>\n",
       "      <td>0.376167</td>\n",
       "      <td>1.224281</td>\n",
       "      <td>0.849464</td>\n",
       "      <td>1.101738</td>\n",
       "      <td>-0.448372</td>\n",
       "      <td>14.913614</td>\n",
       "      <td>-9.091450</td>\n",
       "      <td>-1.953849</td>\n",
       "      <td>0.328298</td>\n",
       "      <td>1.791786</td>\n",
       "    </tr>\n",
       "    <tr>\n",
       "      <th>1</th>\n",
       "      <td>4.278766</td>\n",
       "      <td>0.514788</td>\n",
       "      <td>1.259734</td>\n",
       "      <td>0.210436</td>\n",
       "      <td>0.819626</td>\n",
       "      <td>4.446118</td>\n",
       "      <td>12.904817</td>\n",
       "      <td>-37.986185</td>\n",
       "      <td>-2.804426</td>\n",
       "      <td>0.452758</td>\n",
       "      <td>6.125609</td>\n",
       "    </tr>\n",
       "    <tr>\n",
       "      <th>2</th>\n",
       "      <td>3.578652</td>\n",
       "      <td>0.221018</td>\n",
       "      <td>1.552583</td>\n",
       "      <td>1.007153</td>\n",
       "      <td>-0.013073</td>\n",
       "      <td>1.960720</td>\n",
       "      <td>17.393050</td>\n",
       "      <td>-27.188863</td>\n",
       "      <td>3.565159</td>\n",
       "      <td>0.341665</td>\n",
       "      <td>3.953270</td>\n",
       "    </tr>\n",
       "    <tr>\n",
       "      <th>3</th>\n",
       "      <td>3.021762</td>\n",
       "      <td>1.602774</td>\n",
       "      <td>1.044233</td>\n",
       "      <td>0.054776</td>\n",
       "      <td>2.060890</td>\n",
       "      <td>4.510903</td>\n",
       "      <td>12.777434</td>\n",
       "      <td>-22.710306</td>\n",
       "      <td>-7.966119</td>\n",
       "      <td>1.729511</td>\n",
       "      <td>6.995314</td>\n",
       "    </tr>\n",
       "    <tr>\n",
       "      <th>4</th>\n",
       "      <td>2.487163</td>\n",
       "      <td>0.799948</td>\n",
       "      <td>1.005727</td>\n",
       "      <td>0.094923</td>\n",
       "      <td>0.146542</td>\n",
       "      <td>2.298082</td>\n",
       "      <td>13.336721</td>\n",
       "      <td>-16.839870</td>\n",
       "      <td>2.607198</td>\n",
       "      <td>0.904353</td>\n",
       "      <td>5.253633</td>\n",
       "    </tr>\n",
       "    <tr>\n",
       "      <th>...</th>\n",
       "      <td>...</td>\n",
       "      <td>...</td>\n",
       "      <td>...</td>\n",
       "      <td>...</td>\n",
       "      <td>...</td>\n",
       "      <td>...</td>\n",
       "      <td>...</td>\n",
       "      <td>...</td>\n",
       "      <td>...</td>\n",
       "      <td>...</td>\n",
       "      <td>...</td>\n",
       "    </tr>\n",
       "    <tr>\n",
       "      <th>1023</th>\n",
       "      <td>2.484857</td>\n",
       "      <td>0.281358</td>\n",
       "      <td>1.763974</td>\n",
       "      <td>0.051496</td>\n",
       "      <td>-0.247010</td>\n",
       "      <td>0.555638</td>\n",
       "      <td>20.134148</td>\n",
       "      <td>-15.019887</td>\n",
       "      <td>3.323621</td>\n",
       "      <td>0.207371</td>\n",
       "      <td>2.693712</td>\n",
       "    </tr>\n",
       "    <tr>\n",
       "      <th>1024</th>\n",
       "      <td>1.732649</td>\n",
       "      <td>0.241483</td>\n",
       "      <td>1.332879</td>\n",
       "      <td>0.044737</td>\n",
       "      <td>-0.087352</td>\n",
       "      <td>0.478807</td>\n",
       "      <td>15.717319</td>\n",
       "      <td>-12.796126</td>\n",
       "      <td>2.762564</td>\n",
       "      <td>0.238815</td>\n",
       "      <td>2.690946</td>\n",
       "    </tr>\n",
       "    <tr>\n",
       "      <th>1025</th>\n",
       "      <td>3.478114</td>\n",
       "      <td>0.316327</td>\n",
       "      <td>1.196378</td>\n",
       "      <td>0.161062</td>\n",
       "      <td>0.021289</td>\n",
       "      <td>2.905319</td>\n",
       "      <td>13.947115</td>\n",
       "      <td>-29.829123</td>\n",
       "      <td>2.334150</td>\n",
       "      <td>0.157853</td>\n",
       "      <td>4.631151</td>\n",
       "    </tr>\n",
       "    <tr>\n",
       "      <th>1026</th>\n",
       "      <td>3.661736</td>\n",
       "      <td>0.388453</td>\n",
       "      <td>1.497032</td>\n",
       "      <td>0.018769</td>\n",
       "      <td>0.246858</td>\n",
       "      <td>3.307575</td>\n",
       "      <td>14.560784</td>\n",
       "      <td>-29.526837</td>\n",
       "      <td>1.566413</td>\n",
       "      <td>0.474895</td>\n",
       "      <td>3.846075</td>\n",
       "    </tr>\n",
       "    <tr>\n",
       "      <th>1027</th>\n",
       "      <td>1.522468</td>\n",
       "      <td>0.066783</td>\n",
       "      <td>1.100577</td>\n",
       "      <td>0.146540</td>\n",
       "      <td>-0.259380</td>\n",
       "      <td>0.583446</td>\n",
       "      <td>12.796534</td>\n",
       "      <td>-11.206991</td>\n",
       "      <td>3.167980</td>\n",
       "      <td>0.299786</td>\n",
       "      <td>2.180131</td>\n",
       "    </tr>\n",
       "  </tbody>\n",
       "</table>\n",
       "<p>1028 rows × 11 columns</p>\n",
       "</div>"
      ],
      "text/plain": [
       "          CIC0  SM1_Dz(Z)    GATS1i     NdsCH     NdssC     MLOGP        FV1  \\\n",
       "0     1.617579   0.376167  1.224281  0.849464  1.101738 -0.448372  14.913614   \n",
       "1     4.278766   0.514788  1.259734  0.210436  0.819626  4.446118  12.904817   \n",
       "2     3.578652   0.221018  1.552583  1.007153 -0.013073  1.960720  17.393050   \n",
       "3     3.021762   1.602774  1.044233  0.054776  2.060890  4.510903  12.777434   \n",
       "4     2.487163   0.799948  1.005727  0.094923  0.146542  2.298082  13.336721   \n",
       "...        ...        ...       ...       ...       ...       ...        ...   \n",
       "1023  2.484857   0.281358  1.763974  0.051496 -0.247010  0.555638  20.134148   \n",
       "1024  1.732649   0.241483  1.332879  0.044737 -0.087352  0.478807  15.717319   \n",
       "1025  3.478114   0.316327  1.196378  0.161062  0.021289  2.905319  13.947115   \n",
       "1026  3.661736   0.388453  1.497032  0.018769  0.246858  3.307575  14.560784   \n",
       "1027  1.522468   0.066783  1.100577  0.146540 -0.259380  0.583446  12.796534   \n",
       "\n",
       "            VFV       FV2       FV3      LC50  \n",
       "0     -9.091450 -1.953849  0.328298  1.791786  \n",
       "1    -37.986185 -2.804426  0.452758  6.125609  \n",
       "2    -27.188863  3.565159  0.341665  3.953270  \n",
       "3    -22.710306 -7.966119  1.729511  6.995314  \n",
       "4    -16.839870  2.607198  0.904353  5.253633  \n",
       "...         ...       ...       ...       ...  \n",
       "1023 -15.019887  3.323621  0.207371  2.693712  \n",
       "1024 -12.796126  2.762564  0.238815  2.690946  \n",
       "1025 -29.829123  2.334150  0.157853  4.631151  \n",
       "1026 -29.526837  1.566413  0.474895  3.846075  \n",
       "1027 -11.206991  3.167980  0.299786  2.180131  \n",
       "\n",
       "[1028 rows x 11 columns]"
      ]
     },
     "execution_count": 1212,
     "metadata": {},
     "output_type": "execute_result"
    }
   ],
   "source": [
    "df_chemistry_test = pd.read_csv(\"chemistry_test.csv\") #reading from th csv file\n",
    "df_chemistry_test #showing "
   ]
  },
  {
   "cell_type": "code",
   "execution_count": 1364,
   "metadata": {},
   "outputs": [],
   "source": [
    "#Obtaining the matrices and the arrays from the testing data set \n",
    "X_test_1 = df_chemistry_test.to_numpy()\n",
    "y_test = X_test_1[:,10] # creating the array y with the observation (LC50)\n",
    "N_test = len(y_test)\n",
    "X_test = X_test_1[:,:10] #creating a matrix storing the input data\n",
    "X_aug_test = np.hstack([np.ones((len(y_test),1)), X_test])"
   ]
  },
  {
   "cell_type": "markdown",
   "metadata": {},
   "source": [
    "Now we can calculate the predicted values from the model starting from the data of our test dataset. We will calculate the coefficient $R^2$, to analyse if the model works well with this testing dataset. (Note that we are going to use the beta obtained from exercise 1.1)"
   ]
  },
  {
   "cell_type": "code",
   "execution_count": 1359,
   "metadata": {},
   "outputs": [
    {
     "name": "stdout",
     "output_type": "stream",
     "text": [
      "0.8642933369927281\n"
     ]
    }
   ],
   "source": [
    "#We compute the R_square score for the testing data set\n",
    "R_square_test = R_square_calculator(X_aug_test,y_test,beta)\n",
    "print(R_square_test)"
   ]
  },
  {
   "cell_type": "markdown",
   "metadata": {},
   "source": [
    "We can compute the difference between the scores"
   ]
  },
  {
   "cell_type": "code",
   "execution_count": 1360,
   "metadata": {},
   "outputs": [
    {
     "name": "stdout",
     "output_type": "stream",
     "text": [
      "difference = 0.007532660579073425\n",
      "rel difference in percentage = 0.86\n"
     ]
    }
   ],
   "source": [
    "#difference\n",
    "diff_R_square_score = np.abs(R_square-R_square_test) \n",
    "#relative difference in percentage\n",
    "rel_diff_R_square_score = (diff_R_square_score/R_square)*100\n",
    "\n",
    "print ('difference =',diff_R_square_score)\n",
    "print ('rel difference in percentage =',round(rel_diff_R_square_score,2))"
   ]
  },
  {
   "cell_type": "markdown",
   "metadata": {},
   "source": [
    "Clearly the $R^2$ score for the testing data is smaller than the one for the training data-set, but this is understandable since the model was trained on this data. Then we can see that our model used for the testing data set has a 'comparable accuracy' to the 'accuracy' that this model provides for the training data set. In particular the $R^2$ score is only $0.86\\%$ smaller for the training data set.\n",
    "We can say that the model we build can be used for predictions since it's not to 'overfitted' to the training data.\n",
    "\n",
    "However this analysis always depends from the requested precision. In fact what said before gives as a relationship between the two $R^2$ score, but in some real life cases we may need higher precision."
   ]
  },
  {
   "cell_type": "markdown",
   "metadata": {},
   "source": [
    "<a name=\"q12\"></a>\n",
    "## 1.2: Ridge regression [^](#outline)\n",
    "\n",
    "### 1.2.1  \n",
    "Ridge regretion can be computed with the introduction of a parameter $\\lambda >0$, that we call 'penalty term', and then minimizing the loss function $L_{RIDGE}(\\beta)=||y-X\\beta||^2+\\lambda ||\\beta||^2$.\n",
    "The parameter $\\lambda$ has the duty to penalize high components of $\\beta$.\n",
    "\n",
    "First of all we code a function that computes $\\beta$ for the ridge regression for a given dataset and a given parameter $\\lambda$"
   ]
  },
  {
   "cell_type": "code",
   "execution_count": 1304,
   "metadata": {},
   "outputs": [],
   "source": [
    "def ridge_estimate(X, y, lamb):\n",
    "    \"\"\"Implements the ridge regression, with given parameter lambda and returns the parameter beta_ridge (which we need to build the regression model)\n",
    "    Inputs:\n",
    "    \n",
    "    X: NxD matrix containing the training inputs\n",
    "    y: Nx1 array containing the training observations\n",
    "    lamb:\n",
    "     \n",
    "    returns: beta_ridge\"\"\"\n",
    "    \n",
    "    N, D = X.shape\n",
    "    I = np.identity(D)\n",
    "    I[0,0] = 0\n",
    "    beta_ridge = np.linalg.solve(X.T@X+lamb*I,X.T@y) \n",
    "    return beta_ridge"
   ]
  },
  {
   "cell_type": "markdown",
   "metadata": {},
   "source": [
    "In this point we will use 5-fold cross-validation in order to look for the hyper-parameter of the model. This approach consists in the division of the dataset in 5 sub-sets. Fixed one of this sub-sets, say $S_t$, we call it 'validation set', and the remaining 4 sub-sets are the training set. Now we build a model from the training set and use it to predict over the set $S_t$. We compute the errors (measuring them with $MSE_t = \\frac{1}{N}\\sum_{i\\in S_t}[f(x^{(i)})-y^{(i)}]^2$, where$f(x^{(i)})$ is the prediction we get). We repeat this process for all the 5 possible sub-sets (choosing each time one of them as validation set and the other ones as training set) and compute the average MSE.\n",
    "\n",
    "We can build the average MSE dependant from $\\lambda$ and use it to determine a good parameter $\\lambda$\n"
   ]
  },
  {
   "cell_type": "markdown",
   "metadata": {},
   "source": [
    "First of all we divide the indices in 5 sets, and write a function that computes the average MSE with given $\\lambda$."
   ]
  },
  {
   "cell_type": "code",
   "execution_count": 2038,
   "metadata": {},
   "outputs": [],
   "source": [
    "#Obtaining the matrices and the arrays from the data set\n",
    "X_1 = df_chemistry_samples.to_numpy()\n",
    "y = X_1[:,10] # creating the array y with the observation (LC50)\n",
    "N = len(y)\n",
    "X = X_1[:,:10] #creating a matrix storing the input data\n",
    "X_aug = np.hstack([np.ones((len(y),1)), X]) #augmented training matrix\n",
    "\n",
    "\n",
    "\n",
    "X_aug_ridge = 1.0*X_aug\n",
    "y_ridge = 1.0*y\n",
    "\n",
    "# Now we divide the indices in 5 sets\n",
    "folds_indexes = np.split(np.arange(len(y)-1), 5)"
   ]
  },
  {
   "cell_type": "markdown",
   "metadata": {},
   "source": [
    "We define a function to calculate the MSE for a given $\\beta$ and a function which implements cross validation and computes the average MSE over all the 5 validation-sets MSEs"
   ]
  },
  {
   "cell_type": "code",
   "execution_count": 1306,
   "metadata": {},
   "outputs": [],
   "source": [
    "def MSEcalculator(X_val,y_val,beta):\n",
    "    \"\"\"Calculates the MSE\"\"\"\n",
    "    N = len(y_val)\n",
    "    values = []\n",
    "    for i in range(N):\n",
    "        calc = (y_val[i]-(X_val@beta)[i])**2\n",
    "        values.append(calc)\n",
    "    MSE = sum(values)/N\n",
    "    return MSE\n",
    "\n",
    "\n",
    "        \n",
    "\n",
    "def cross_validation_score(X, y, folds, lamb):\n",
    "   #Calculates the average MSE computing cross validation\n",
    "    #Inputs: \n",
    "\n",
    "    #X: matrix \n",
    "    #y: vector\n",
    "    #folds: folds with the indices\n",
    "    #lamb: given parameter\n",
    "    \n",
    "    #returns: MSE\n",
    "\n",
    "  scores = []\n",
    "  for i in range(5):  #part of the code for this loop is taken from the functions provided in the weekly coding tasks of this module\n",
    "    \n",
    "    val_indexes = folds[i]\n",
    "    train_indexes = list(set(range(y.shape[0]-1)) - set(val_indexes))\n",
    "    \n",
    "    #defining the training X and y\n",
    "    X_train_i = X[train_indexes, :]\n",
    "    y_train_i = y[train_indexes]\n",
    "\n",
    "    #defining the validation X and y\n",
    "    X_val_i = X[val_indexes, :] \n",
    "    y_val_i = y[val_indexes]\n",
    "    \n",
    "    beta_i = ridge_estimate(X_train_i,y_train_i,lamb=lamb) #calculating beta (with the ridge regression) for each one of the 5 training sets\n",
    "    \n",
    "    scores_i = MSEcalculator(X_val_i,y_val_i,beta_i) #calculating MSE \n",
    "    scores.append(scores_i)\n",
    "\n",
    "  # Computing the average MSE\n",
    "  return np.mean(scores)"
   ]
  },
  {
   "cell_type": "markdown",
   "metadata": {},
   "source": [
    "Now we plot the behaviour of the average MSE for evolving parameter $\\lambda$"
   ]
  },
  {
   "cell_type": "code",
   "execution_count": 1307,
   "metadata": {},
   "outputs": [
    {
     "data": {
      "text/plain": [
       "[<matplotlib.lines.Line2D at 0x7fe02a095a10>]"
      ]
     },
     "execution_count": 1307,
     "metadata": {},
     "output_type": "execute_result"
    },
    {
     "data": {
      "image/png": "[encoded data removed]",
      "text/plain": [
       "<Figure size 432x288 with 1 Axes>"
      ]
     },
     "metadata": {
      "needs_background": "light"
     },
     "output_type": "display_data"
    }
   ],
   "source": [
    "#plotting average MSE vs lambda\n",
    "l1 = [] #to store the values of the average MSE\n",
    "m1 = [] #to store the values of the parameter lambda \n",
    "for i in range(0,200):\n",
    "    lambda_val = 0.01*i\n",
    "    m1.append(lambda_val)\n",
    "    l1.append(cross_validation_score(X_aug_ridge, y_ridge, folds_indexes, lambda_val)) #calculating MSE and appending it to l\n",
    "plt.plot(m1,l1)\n"
   ]
  },
  {
   "cell_type": "markdown",
   "metadata": {},
   "source": [
    "We can see that for increaing $\\lambda$ the model gets worse and so for to small values of $\\lambda$"
   ]
  },
  {
   "cell_type": "markdown",
   "metadata": {},
   "source": [
    "We know compute the optimal $\\lambda$ minimizing the average MSE"
   ]
  },
  {
   "cell_type": "code",
   "execution_count": 1308,
   "metadata": {},
   "outputs": [],
   "source": [
    "def choose_best_lambda(X, y, folds_indexes, lambda_range):   #part of the code for this loop is taken from the functions provided in the weekly coding tasks of this module\n",
    "    lambda_scores = np.zeros((len(lambda_range),))\n",
    "  \n",
    "    for i, lamb in enumerate(lambda_range):\n",
    "        lambda_scores[i] = cross_validation_score(X, y, folds_indexes, lamb)\n",
    "        print(f'lambda={lamb}: average MSE= {lambda_scores[i]:.7f}')\n",
    "\n",
    "    best_lambda_index = np.argmin(lambda_scores)  #We choose the optimal lambda\n",
    "    return lambda_range[best_lambda_index]\n",
    "\n"
   ]
  },
  {
   "cell_type": "code",
   "execution_count": 1309,
   "metadata": {
    "scrolled": true
   },
   "outputs": [
    {
     "name": "stdout",
     "output_type": "stream",
     "text": [
      "lambda=0.0001: average MSE= 0.1879288\n",
      "lambda=0.00512462311557789: average MSE= 0.1879287\n",
      "lambda=0.01014924623115578: average MSE= 0.1879287\n",
      "lambda=0.015173869346733669: average MSE= 0.1879287\n",
      "lambda=0.02019849246231156: average MSE= 0.1879286\n",
      "lambda=0.02522311557788945: average MSE= 0.1879286\n",
      "lambda=0.03024773869346734: average MSE= 0.1879286\n",
      "lambda=0.035272361809045236: average MSE= 0.1879286\n",
      "lambda=0.04029698492462312: average MSE= 0.1879285\n",
      "lambda=0.04532160804020101: average MSE= 0.1879285\n",
      "lambda=0.0503462311557789: average MSE= 0.1879285\n",
      "lambda=0.055370854271356795: average MSE= 0.1879284\n",
      "lambda=0.06039547738693468: average MSE= 0.1879284\n",
      "lambda=0.06542010050251257: average MSE= 0.1879284\n",
      "lambda=0.07044472361809047: average MSE= 0.1879283\n",
      "lambda=0.07546934673366835: average MSE= 0.1879283\n",
      "lambda=0.08049396984924624: average MSE= 0.1879283\n",
      "lambda=0.08551859296482413: average MSE= 0.1879283\n",
      "lambda=0.09054321608040201: average MSE= 0.1879282\n",
      "lambda=0.09556783919597991: average MSE= 0.1879282\n",
      "lambda=0.1005924623115578: average MSE= 0.1879282\n",
      "lambda=0.10561708542713569: average MSE= 0.1879282\n",
      "lambda=0.11064170854271359: average MSE= 0.1879281\n",
      "lambda=0.11566633165829147: average MSE= 0.1879281\n",
      "lambda=0.12069095477386936: average MSE= 0.1879281\n",
      "lambda=0.12571557788944723: average MSE= 0.1879280\n",
      "lambda=0.13074020100502512: average MSE= 0.1879280\n",
      "lambda=0.135764824120603: average MSE= 0.1879280\n",
      "lambda=0.14078944723618092: average MSE= 0.1879280\n",
      "lambda=0.1458140703517588: average MSE= 0.1879279\n",
      "lambda=0.1508386934673367: average MSE= 0.1879279\n",
      "lambda=0.15586331658291458: average MSE= 0.1879279\n",
      "lambda=0.16088793969849247: average MSE= 0.1879279\n",
      "lambda=0.16591256281407035: average MSE= 0.1879279\n",
      "lambda=0.17093718592964824: average MSE= 0.1879278\n",
      "lambda=0.17596180904522613: average MSE= 0.1879278\n",
      "lambda=0.180986432160804: average MSE= 0.1879278\n",
      "lambda=0.18601105527638193: average MSE= 0.1879278\n",
      "lambda=0.1910356783919598: average MSE= 0.1879277\n",
      "lambda=0.1960603015075377: average MSE= 0.1879277\n",
      "lambda=0.20108492462311559: average MSE= 0.1879277\n",
      "lambda=0.20610954773869347: average MSE= 0.1879277\n",
      "lambda=0.21113417085427136: average MSE= 0.1879276\n",
      "lambda=0.21615879396984924: average MSE= 0.1879276\n",
      "lambda=0.22118341708542716: average MSE= 0.1879276\n",
      "lambda=0.22620804020100505: average MSE= 0.1879276\n",
      "lambda=0.23123266331658293: average MSE= 0.1879276\n",
      "lambda=0.23625728643216082: average MSE= 0.1879275\n",
      "lambda=0.2412819095477387: average MSE= 0.1879275\n",
      "lambda=0.2463065326633166: average MSE= 0.1879275\n",
      "lambda=0.2513311557788945: average MSE= 0.1879275\n",
      "lambda=0.25635577889447236: average MSE= 0.1879275\n",
      "lambda=0.26138040201005025: average MSE= 0.1879274\n",
      "lambda=0.26640502512562814: average MSE= 0.1879274\n",
      "lambda=0.271429648241206: average MSE= 0.1879274\n",
      "lambda=0.2764542713567839: average MSE= 0.1879274\n",
      "lambda=0.28147889447236185: average MSE= 0.1879274\n",
      "lambda=0.28650351758793974: average MSE= 0.1879273\n",
      "lambda=0.2915281407035176: average MSE= 0.1879273\n",
      "lambda=0.2965527638190955: average MSE= 0.1879273\n",
      "lambda=0.3015773869346734: average MSE= 0.1879273\n",
      "lambda=0.3066020100502513: average MSE= 0.1879273\n",
      "lambda=0.31162663316582917: average MSE= 0.1879273\n",
      "lambda=0.31665125628140706: average MSE= 0.1879272\n",
      "lambda=0.32167587939698494: average MSE= 0.1879272\n",
      "lambda=0.32670050251256283: average MSE= 0.1879272\n",
      "lambda=0.3317251256281407: average MSE= 0.1879272\n",
      "lambda=0.3367497487437186: average MSE= 0.1879272\n",
      "lambda=0.3417743718592965: average MSE= 0.1879272\n",
      "lambda=0.3467989949748744: average MSE= 0.1879271\n",
      "lambda=0.35182361809045226: average MSE= 0.1879271\n",
      "lambda=0.35684824120603015: average MSE= 0.1879271\n",
      "lambda=0.36187286432160803: average MSE= 0.1879271\n",
      "lambda=0.366897487437186: average MSE= 0.1879271\n",
      "lambda=0.37192211055276386: average MSE= 0.1879271\n",
      "lambda=0.37694673366834175: average MSE= 0.1879270\n",
      "lambda=0.38197135678391964: average MSE= 0.1879270\n",
      "lambda=0.3869959798994975: average MSE= 0.1879270\n",
      "lambda=0.3920206030150754: average MSE= 0.1879270\n",
      "lambda=0.3970452261306533: average MSE= 0.1879270\n",
      "lambda=0.4020698492462312: average MSE= 0.1879270\n",
      "lambda=0.40709447236180907: average MSE= 0.1879270\n",
      "lambda=0.41211909547738695: average MSE= 0.1879269\n",
      "lambda=0.41714371859296484: average MSE= 0.1879269\n",
      "lambda=0.4221683417085427: average MSE= 0.1879269\n",
      "lambda=0.4271929648241206: average MSE= 0.1879269\n",
      "lambda=0.4322175879396985: average MSE= 0.1879269\n",
      "lambda=0.4372422110552764: average MSE= 0.1879269\n",
      "lambda=0.44226683417085433: average MSE= 0.1879269\n",
      "lambda=0.4472914572864322: average MSE= 0.1879269\n",
      "lambda=0.4523160804020101: average MSE= 0.1879269\n",
      "lambda=0.457340703517588: average MSE= 0.1879268\n",
      "lambda=0.4623653266331659: average MSE= 0.1879268\n",
      "lambda=0.46738994974874376: average MSE= 0.1879268\n",
      "lambda=0.47241457286432165: average MSE= 0.1879268\n",
      "lambda=0.47743919597989953: average MSE= 0.1879268\n",
      "lambda=0.4824638190954774: average MSE= 0.1879268\n",
      "lambda=0.4874884422110553: average MSE= 0.1879268\n",
      "lambda=0.4925130653266332: average MSE= 0.1879268\n",
      "lambda=0.4975376884422111: average MSE= 0.1879268\n",
      "lambda=0.502562311557789: average MSE= 0.1879268\n",
      "lambda=0.5075869346733669: average MSE= 0.1879267\n",
      "lambda=0.5126115577889447: average MSE= 0.1879267\n",
      "lambda=0.5176361809045227: average MSE= 0.1879267\n",
      "lambda=0.5226608040201005: average MSE= 0.1879267\n",
      "lambda=0.5276854271356785: average MSE= 0.1879267\n",
      "lambda=0.5327100502512563: average MSE= 0.1879267\n",
      "lambda=0.5377346733668342: average MSE= 0.1879267\n",
      "lambda=0.5427592964824121: average MSE= 0.1879267\n",
      "lambda=0.54778391959799: average MSE= 0.1879267\n",
      "lambda=0.5528085427135678: average MSE= 0.1879267\n",
      "lambda=0.5578331658291458: average MSE= 0.1879267\n",
      "lambda=0.5628577889447237: average MSE= 0.1879267\n",
      "lambda=0.5678824120603015: average MSE= 0.1879267\n",
      "lambda=0.5729070351758795: average MSE= 0.1879267\n",
      "lambda=0.5779316582914573: average MSE= 0.1879266\n",
      "lambda=0.5829562814070353: average MSE= 0.1879266\n",
      "lambda=0.5879809045226131: average MSE= 0.1879266\n",
      "lambda=0.593005527638191: average MSE= 0.1879266\n",
      "lambda=0.5980301507537689: average MSE= 0.1879266\n",
      "lambda=0.6030547738693468: average MSE= 0.1879266\n",
      "lambda=0.6080793969849246: average MSE= 0.1879266\n",
      "lambda=0.6131040201005026: average MSE= 0.1879266\n",
      "lambda=0.6181286432160804: average MSE= 0.1879266\n",
      "lambda=0.6231532663316584: average MSE= 0.1879266\n",
      "lambda=0.6281778894472362: average MSE= 0.1879266\n",
      "lambda=0.6332025125628141: average MSE= 0.1879266\n",
      "lambda=0.638227135678392: average MSE= 0.1879266\n",
      "lambda=0.6432517587939699: average MSE= 0.1879266\n",
      "lambda=0.6482763819095478: average MSE= 0.1879266\n",
      "lambda=0.6533010050251257: average MSE= 0.1879266\n",
      "lambda=0.6583256281407036: average MSE= 0.1879266\n",
      "lambda=0.6633502512562814: average MSE= 0.1879266\n",
      "lambda=0.6683748743718594: average MSE= 0.1879266\n",
      "lambda=0.6733994974874372: average MSE= 0.1879266\n",
      "lambda=0.6784241206030152: average MSE= 0.1879266\n",
      "lambda=0.683448743718593: average MSE= 0.1879266\n",
      "lambda=0.6884733668341709: average MSE= 0.1879266\n",
      "lambda=0.6934979899497488: average MSE= 0.1879266\n",
      "lambda=0.6985226130653267: average MSE= 0.1879266\n",
      "lambda=0.7035472361809045: average MSE= 0.1879266\n",
      "lambda=0.7085718592964825: average MSE= 0.1879266\n",
      "lambda=0.7135964824120603: average MSE= 0.1879266\n",
      "lambda=0.7186211055276382: average MSE= 0.1879266\n",
      "lambda=0.7236457286432161: average MSE= 0.1879266\n",
      "lambda=0.728670351758794: average MSE= 0.1879266\n",
      "lambda=0.733694974874372: average MSE= 0.1879266\n",
      "lambda=0.7387195979899498: average MSE= 0.1879266\n",
      "lambda=0.7437442211055277: average MSE= 0.1879266\n",
      "lambda=0.7487688442211056: average MSE= 0.1879266\n",
      "lambda=0.7537934673366835: average MSE= 0.1879266\n",
      "lambda=0.7588180904522613: average MSE= 0.1879266\n",
      "lambda=0.7638427135678393: average MSE= 0.1879266\n",
      "lambda=0.7688673366834171: average MSE= 0.1879266\n",
      "lambda=0.773891959798995: average MSE= 0.1879266\n",
      "lambda=0.7789165829145729: average MSE= 0.1879266\n",
      "lambda=0.7839412060301508: average MSE= 0.1879266\n",
      "lambda=0.7889658291457287: average MSE= 0.1879266\n",
      "lambda=0.7939904522613066: average MSE= 0.1879266\n",
      "lambda=0.7990150753768844: average MSE= 0.1879266\n",
      "lambda=0.8040396984924624: average MSE= 0.1879266\n",
      "lambda=0.8090643216080403: average MSE= 0.1879266\n",
      "lambda=0.8140889447236181: average MSE= 0.1879266\n",
      "lambda=0.8191135678391961: average MSE= 0.1879266\n",
      "lambda=0.8241381909547739: average MSE= 0.1879266\n",
      "lambda=0.8291628140703519: average MSE= 0.1879266\n",
      "lambda=0.8341874371859297: average MSE= 0.1879266\n",
      "lambda=0.8392120603015076: average MSE= 0.1879267\n"
     ]
    },
    {
     "name": "stdout",
     "output_type": "stream",
     "text": [
      "lambda=0.8442366834170855: average MSE= 0.1879267\n",
      "lambda=0.8492613065326634: average MSE= 0.1879267\n",
      "lambda=0.8542859296482412: average MSE= 0.1879267\n",
      "lambda=0.8593105527638192: average MSE= 0.1879267\n",
      "lambda=0.864335175879397: average MSE= 0.1879267\n",
      "lambda=0.869359798994975: average MSE= 0.1879267\n",
      "lambda=0.8743844221105528: average MSE= 0.1879267\n",
      "lambda=0.8794090452261307: average MSE= 0.1879267\n",
      "lambda=0.8844336683417087: average MSE= 0.1879267\n",
      "lambda=0.8894582914572865: average MSE= 0.1879267\n",
      "lambda=0.8944829145728644: average MSE= 0.1879267\n",
      "lambda=0.8995075376884423: average MSE= 0.1879267\n",
      "lambda=0.9045321608040202: average MSE= 0.1879267\n",
      "lambda=0.909556783919598: average MSE= 0.1879268\n",
      "lambda=0.914581407035176: average MSE= 0.1879268\n",
      "lambda=0.9196060301507538: average MSE= 0.1879268\n",
      "lambda=0.9246306532663318: average MSE= 0.1879268\n",
      "lambda=0.9296552763819096: average MSE= 0.1879268\n",
      "lambda=0.9346798994974875: average MSE= 0.1879268\n",
      "lambda=0.9397045226130654: average MSE= 0.1879268\n",
      "lambda=0.9447291457286433: average MSE= 0.1879268\n",
      "lambda=0.9497537688442211: average MSE= 0.1879268\n",
      "lambda=0.9547783919597991: average MSE= 0.1879268\n",
      "lambda=0.9598030150753769: average MSE= 0.1879269\n",
      "lambda=0.9648276381909549: average MSE= 0.1879269\n",
      "lambda=0.9698522613065328: average MSE= 0.1879269\n",
      "lambda=0.9748768844221106: average MSE= 0.1879269\n",
      "lambda=0.9799015075376886: average MSE= 0.1879269\n",
      "lambda=0.9849261306532664: average MSE= 0.1879269\n",
      "lambda=0.9899507537688443: average MSE= 0.1879269\n",
      "lambda=0.9949753768844222: average MSE= 0.1879269\n",
      "lambda=1.0: average MSE= 0.1879269\n",
      "best_lambda: 0.7035472361809045\n"
     ]
    }
   ],
   "source": [
    "lambda_scores = np.linspace(0.0001,1,200)\n",
    "\n",
    "best_lambda = choose_best_lambda(X_aug_ridge, y_ridge, folds_indexes, lambda_scores)\n",
    "\n",
    "print('best_lambda:', best_lambda)"
   ]
  },
  {
   "cell_type": "code",
   "execution_count": 1310,
   "metadata": {},
   "outputs": [
    {
     "data": {
      "text/plain": [
       "0.18792657379824249"
      ]
     },
     "execution_count": 1310,
     "metadata": {},
     "output_type": "execute_result"
    }
   ],
   "source": [
    "#average MSE for lambda=0.06\n",
    "cross_validation_score(X_aug_ridge, y_ridge, folds_indexes, 0.7035472361809045)"
   ]
  },
  {
   "cell_type": "markdown",
   "metadata": {},
   "source": [
    "So our optimal optimal parameter is $\\lambda = 0.7035472361809045$ and for this value our average MSE is equal to $0.18792657379824249$"
   ]
  },
  {
   "cell_type": "markdown",
   "metadata": {},
   "source": [
    "Now we will analyse the bias and the variance. We know that $MSE = Variance+Bias^2$. In particular we will have for incrasing $\\lambda$ greater bias and lower variance. So the aim of the research of the hyperparameter is to find the right compromise."
   ]
  },
  {
   "cell_type": "markdown",
   "metadata": {},
   "source": [
    "### 1.2.2\n",
    "We now assume the parameter to be the optimal one, so $\\lambda = 0.7035472361809045$. Then we compute $\\beta$ for this parameter."
   ]
  },
  {
   "cell_type": "code",
   "execution_count": 1313,
   "metadata": {},
   "outputs": [
    {
     "name": "stdout",
     "output_type": "stream",
     "text": [
      "optimal beta = [ 2.61820782  0.04433538  1.25232768 -0.03780222  0.36279709  0.00495263\n",
      "  0.39065421 -0.0746366  -0.03570966 -0.01524782  0.00318129]\n"
     ]
    }
   ],
   "source": [
    "#beta for ridge regression with optimal parameter lambda\n",
    "beta_optimal_ridge = ridge_estimate(X_aug_ridge,y_ridge,lamb = 0.7035472361809045)\n",
    "print('optimal beta =', beta_optimal_ridge)"
   ]
  },
  {
   "cell_type": "markdown",
   "metadata": {},
   "source": [
    "Now I can compute the parameter $R^2$ for the set $\\texttt{chemistry_samples.csv}$"
   ]
  },
  {
   "cell_type": "code",
   "execution_count": 1314,
   "metadata": {},
   "outputs": [
    {
     "name": "stdout",
     "output_type": "stream",
     "text": [
      "0.8718250505208601\n"
     ]
    }
   ],
   "source": [
    "R_square_ridge = R_square_calculator(X_aug,y,beta_optimal_ridge)\n",
    "R_square_ridge\n",
    "print(R_square_ridge)"
   ]
  },
  {
   "cell_type": "markdown",
   "metadata": {},
   "source": [
    "Now we can compute the parameter $R^2$ for the set of $\\texttt{chemistry_test.csv}$"
   ]
  },
  {
   "cell_type": "code",
   "execution_count": 1315,
   "metadata": {},
   "outputs": [
    {
     "name": "stdout",
     "output_type": "stream",
     "text": [
      "0.8642792450696695\n"
     ]
    }
   ],
   "source": [
    "R_square_ridge_test = R_square_calculator(X_aug_test,y_test,beta_optimal_ridge)\n",
    "print(R_square_ridge_test)\n",
    "\n"
   ]
  },
  {
   "cell_type": "markdown",
   "metadata": {},
   "source": [
    "We can compute the 'relative' difference in percentage"
   ]
  },
  {
   "cell_type": "code",
   "execution_count": 1316,
   "metadata": {},
   "outputs": [
    {
     "name": "stdout",
     "output_type": "stream",
     "text": [
      "relative difference = 0.8655183108907591\n"
     ]
    }
   ],
   "source": [
    "#difference training-test R_squares\n",
    "diff_122_tt = R_square_ridge-R_square_ridge_test\n",
    "diff_122_percent_rel_tt = diff_122_tt/R_square_ridge*100\n",
    "print ('relative difference =', diff_122_percent_rel_tt)"
   ]
  },
  {
   "cell_type": "markdown",
   "metadata": {},
   "source": [
    "We can see that that like for the linear regression the $R^2$ score is better for the training set (since the model has been built on it), however the model can be generalised, as we can see from the fact that also for the test set we get a good score. In particular for the testing data set the $R^2$ score drops by $0.86\\%$"
   ]
  },
  {
   "cell_type": "markdown",
   "metadata": {},
   "source": [
    "Now we can see the difference between this model and the linear regression of the previous excercise. We compute the difference between the $R^2$ score for the testing data with the previous model, and the score we obtain using the ridge-regression model"
   ]
  },
  {
   "cell_type": "code",
   "execution_count": 1303,
   "metadata": {},
   "outputs": [
    {
     "name": "stdout",
     "output_type": "stream",
     "text": [
      "relative difference -0.0016304560564716544\n"
     ]
    }
   ],
   "source": [
    "diff_122 = R_square_ridge_test-R_square_test\n",
    "diff_122_percent_rel = diff_122/R_square_test*100\n",
    "print ('relative difference', diff_122_percent_rel)"
   ]
  },
  {
   "cell_type": "markdown",
   "metadata": {},
   "source": [
    "We can see that Ridge Regression is slightly worse, but still the difference is not so 'heavy', so both approachs provide a good model for the problem"
   ]
  },
  {
   "cell_type": "markdown",
   "metadata": {
    "id": "K9OTrzYly0Oz"
   },
   "source": [
    "<a name=\"q13\"></a>\n",
    "\n",
    "## 1.3: Relaxation of Lasso Regression [^](#outline)\n",
    "\n",
    "\n"
   ]
  },
  {
   "cell_type": "markdown",
   "metadata": {},
   "source": [
    "### 1.3.1\n",
    "We are considering a smooth version of Lasso, which uses the Huber functions $L_c$. The cost function can be written as $L(\\beta) = ||y-X\\beta||^2+\\lambda \\sum_i^p L_c(\\beta_i)$, where the $\\lambda$ is the penalty hyper parameter and p the number of the predictors we have."
   ]
  },
  {
   "cell_type": "markdown",
   "metadata": {},
   "source": [
    "### 1.3.2\n",
    "We import the data set and we shuffle, then we also define the folds indexes, that we will use for the 5-fold cross-validation"
   ]
  },
  {
   "cell_type": "code",
   "execution_count": 1343,
   "metadata": {
    "id": "JV3UJe2A0IH-"
   },
   "outputs": [],
   "source": [
    "import numpy as np"
   ]
  },
  {
   "cell_type": "code",
   "execution_count": 1344,
   "metadata": {},
   "outputs": [],
   "source": [
    "df_chemistry_samples = pd.read_csv(\"chemistry_samples.csv\") #reading from th csv file\n",
    "#Obtaining the matrices and the arrays from the data set\n",
    "X_1 = df_chemistry_samples.to_numpy()\n",
    "y = X_1[:,10] # creating the array y with the observation (LC50)\n",
    "N = len(y)\n",
    "X = X_1[:,:10] #creating a matrix storing the input data\n",
    "X_aug = np.hstack([np.ones((len(y),1)), X]) #augmented training matrix\n",
    "\n",
    "\n",
    "\n",
    "#I also shuffle my data \n",
    "p_lasso = np.random.permutation(len(y))\n",
    "X_aug_lasso = 1.0*X_aug\n",
    "y_lasso = 1.0*y\n",
    "\n",
    "# Now we divide the indices in 5 sets\n",
    "folds_indexes = np.split(np.arange(len(y)-1), 5)"
   ]
  },
  {
   "cell_type": "markdown",
   "metadata": {},
   "source": [
    "We define a function computing the huber function. We know that $L_c(\\beta) = \\begin{cases} \n",
    "      \\frac{1}{2} \\beta^2  & |\\beta|\\leq c \\\\\n",
    "     c(|\\beta|-\\frac{1}{2}c) & otherwise\n",
    "   \\end{cases}\n",
    "$. The function we implement works in particular for arrays (so each component will be $L_c(\\beta_i)$. Note that in the cost function for Lasso we had the sum $\\sum_i^p L_c(\\beta_i)$, where each $\\beta_i$ is a component of $\\beta$. \n",
    "Now we can see that if we do the gradient we get $\\nabla (\\sum_i^p L_c(\\beta_i))= \\nabla (L_c(\\beta_1)+L_c(\\beta_2)+...+L_c(\\beta_p)) = v $, where $v$ is a p-dimensional array where each component $i$ is $\\frac{d L_c(\\beta_i)}{d \\beta_i} = \\begin{cases} \n",
    "       \\beta_i  & |\\beta_i|\\leq c \\\\\n",
    "     c\\frac{\\beta_i}{|\\beta_i|} & otherwise\n",
    "   \\end{cases}$. \n",
    "   \n",
    "We define then a function $\\texttt{grad_huber}$, which computes this gradient. "
   ]
  },
  {
   "cell_type": "code",
   "execution_count": 1345,
   "metadata": {
    "id": "jg2TWPoT0J0Z"
   },
   "outputs": [],
   "source": [
    "#Uber functions\n",
    "def huber(beta, c=1e-6):\n",
    "    \n",
    "    p = len(beta)\n",
    "    huber = np.zeros(p)\n",
    "    for j in range(p): #runs over each component\n",
    "        if np.abs(beta[j])<=c:     #for this condition we return 1/2*beta^2\n",
    "             huber[j] = 0.5*beta[j]**2 \n",
    "        else:\n",
    "              huber[j] = c*(np.abs(beta[j])-0.5*c)  #Otherwise I return this\n",
    "    return huber\n",
    "\n",
    "#gradient of Huber\n",
    "\n",
    "def grad_huber(beta, c=1e-6):\n",
    "    #Given a beta p - dimensional array and c, this functions computes the gradient of \n",
    "    # the gradient of SUM from i to p of Lc(beta_i)\n",
    "    p = len(beta)\n",
    "    grad_huber = np.zeros(p)\n",
    "    for j in range(p): #runs over each component\n",
    "        if np.abs(beta[j])<=c:   #first case\n",
    "            grad_huber[j] = beta[j]\n",
    "        else:     #second possible case\n",
    "            k = beta[j]\n",
    "            l = np.abs(beta[j])\n",
    "            grad_huber[j] = c*(k/l)\n",
    "    return grad_huber #return the gradient"
   ]
  },
  {
   "cell_type": "markdown",
   "metadata": {},
   "source": [
    "Now we see that $\n",
    "\\frac{\\partial ||y-X\\beta||^2}{\\partial \\beta}=2X^TX\\beta-2X^Ty$, so we can compute $\\nabla L_{lasso}(\\beta) = 2X^TX\\beta-2X^Ty +\\lambda v$, with $v$ defined as above."
   ]
  },
  {
   "cell_type": "markdown",
   "metadata": {},
   "source": [
    "We can now implement a functions which runs the gradient descent. We give as a max number of iterations 10000 and stepsize $10^{-3}$, and return the beta obtained with the method."
   ]
  },
  {
   "cell_type": "code",
   "execution_count": 1346,
   "metadata": {
    "id": "U7hMrAxK0LQN"
   },
   "outputs": [],
   "source": [
    "def minimize_ls_huber(X, y, lambd, n_iters=100000, step_size=1e-3):\n",
    "    n, p = X.shape\n",
    "    XX = X.T @ X /n\n",
    "    Xy = X.T @ y /n\n",
    "    \n",
    "    # next line: initialise betas\n",
    "    beta = np.array([ 2.59176109e+00,  5.24173069e-02,  1.25879616e+00, -4.75743650e-02,\n",
    "         3.63434515e-01,  5.35322170e-03,  3.90598346e-01, -7.30193241e-02,\n",
    "        -3.51297259e-02, -1.49767687e-02,  1.65132173e-03])  #we start from a point we already now being a good one, to get better results\n",
    "    Loss = 0\n",
    "    \n",
    "    # gradient descent \n",
    "    for i in range(n_iters):\n",
    "        grad = 2*XX@beta-2*Xy+lambd*grad_huber(beta,c=1e-6)\n",
    "        # next line: gradient descent update\n",
    "        beta = beta-step_size*grad\n",
    "        Loss = np.linalg.norm(y-X@beta)**2+lambd*np.sum(huber(beta,c = 1e-6))\n",
    "        #print(np.linalg.norm(grad))\n",
    "        \n",
    "    return beta"
   ]
  },
  {
   "cell_type": "markdown",
   "metadata": {},
   "source": [
    "We compute the 5-cross validation for the Lasso-Huber with a function, which we will call $\\texttt{cross_validation_score_lasso}$. (We proceed similarly as for the ridge-regression part"
   ]
  },
  {
   "cell_type": "code",
   "execution_count": 1348,
   "metadata": {},
   "outputs": [],
   "source": [
    "def MSEcalculator_Lasso(X_val,y_val,beta):\n",
    "    \"\"\"Calculates the MSE\"\"\"\n",
    "    N = len(y_val)\n",
    "    values = []\n",
    "    for i in range(N):\n",
    "        calc = (y_val[i]-(X_val@beta)[i])**2\n",
    "        values.append(calc)\n",
    "    MSE = sum(values)/N\n",
    "    return MSE\n",
    "        \n",
    "\n",
    "def cross_validation_score_lasso(X, y, folds, lambd):\n",
    "   #Calculates the average MSE computing cross validation\n",
    "    #Inputs: \n",
    "\n",
    "    #X: matrix \n",
    "    #y: vector\n",
    "    #folds: folds with the indices\n",
    "    #lamb: given parameter\n",
    "    \n",
    "    #returns: MSE\n",
    "\n",
    "  scores = []\n",
    "  for i in range(5):  #part of the code for this loop is taken from the functions provided in the weekly coding tasks of this module\n",
    "    \n",
    "    val_indexes = folds[i]\n",
    "    train_indexes = list(set(range(y.shape[0]-1)) - set(val_indexes))\n",
    "    \n",
    "    #defining the training X and y\n",
    "    X_train_i = X[train_indexes, :]\n",
    "    y_train_i = y[train_indexes]\n",
    "\n",
    "    #defining the validation X and y\n",
    "    X_val_i = X[val_indexes, :] \n",
    "    y_val_i = y[val_indexes]\n",
    "    \n",
    "    beta_i = minimize_ls_huber(X_train_i, y_train_i, lambd, n_iters=10000, step_size=1e-3) #calculating beta for each one of the 5 training sets\n",
    "    \n",
    "    scores_i = np.linalg.norm(y_val_i-(X_val_i@beta_i))**2/len(y_val_i) #calculating MSE \n",
    "    scores.append(scores_i)\n",
    "\n",
    "  # Computing the average MSE\n",
    "  return sum(scores) / 5"
   ]
  },
  {
   "cell_type": "markdown",
   "metadata": {},
   "source": [
    "Now we choose the best parameter $\\lambda$ minimizing the average MSE"
   ]
  },
  {
   "cell_type": "code",
   "execution_count": 1350,
   "metadata": {},
   "outputs": [
    {
     "name": "stdout",
     "output_type": "stream",
     "text": [
      "lambda=0.0: average MSE= 0.1875454918240246\n",
      "lambda=8.695652173913043: average MSE= 0.1875454843660000\n",
      "lambda=17.391304347826086: average MSE= 0.1875454756133821\n",
      "lambda=26.08695652173913: average MSE= 0.1875454657024281\n",
      "lambda=34.78260869565217: average MSE= 0.1875454547071871\n",
      "lambda=43.47826086956522: average MSE= 0.1875454427464378\n",
      "lambda=52.17391304347826: average MSE= 0.1875454298587919\n",
      "lambda=60.8695652173913: average MSE= 0.1875454161538284\n",
      "lambda=69.56521739130434: average MSE= 0.1875454016866974\n",
      "lambda=78.26086956521739: average MSE= 0.1875453865051617\n",
      "lambda=86.95652173913044: average MSE= 0.1875453706933509\n",
      "lambda=95.65217391304347: average MSE= 0.1875453542828553\n",
      "lambda=104.34782608695652: average MSE= 0.1875453372671916\n",
      "lambda=113.04347826086956: average MSE= 0.1875453198089238\n",
      "lambda=121.7391304347826: average MSE= 0.1875453018402916\n",
      "lambda=130.43478260869566: average MSE= 0.1875452834327340\n",
      "lambda=139.1304347826087: average MSE= 0.1875452646405085\n",
      "lambda=147.82608695652172: average MSE= 0.1875452454975147\n",
      "lambda=156.52173913043478: average MSE= 0.1875452260351219\n",
      "lambda=165.2173913043478: average MSE= 0.1875452062802972\n",
      "lambda=173.91304347826087: average MSE= 0.1875451861917836\n",
      "lambda=182.6086956521739: average MSE= 0.1875451659138602\n",
      "lambda=191.30434782608694: average MSE= 0.1875451453555362\n",
      "lambda=200.0: average MSE= 0.1875451246549557\n",
      "lambda=208.69565217391303: average MSE= 0.1875451037512310\n",
      "lambda=217.39130434782606: average MSE= 0.1875450826649569\n",
      "lambda=226.08695652173913: average MSE= 0.1875450614431885\n",
      "lambda=234.78260869565216: average MSE= 0.1875450401024296\n",
      "lambda=243.4782608695652: average MSE= 0.1875450186378964\n",
      "lambda=252.17391304347825: average MSE= 0.1875449970513177\n",
      "lambda=260.8695652173913: average MSE= 0.1875449754201444\n",
      "lambda=269.5652173913043: average MSE= 0.1875449537082031\n",
      "lambda=278.2608695652174: average MSE= 0.1875449319304878\n",
      "lambda=286.95652173913044: average MSE= 0.1875449100937411\n",
      "lambda=295.65217391304344: average MSE= 0.1875448882595120\n",
      "lambda=304.3478260869565: average MSE= 0.1875448663718974\n",
      "lambda=313.04347826086956: average MSE= 0.1875448444549964\n",
      "lambda=321.73913043478257: average MSE= 0.1875448225351163\n",
      "lambda=330.4347826086956: average MSE= 0.1875448006197216\n",
      "lambda=339.1304347826087: average MSE= 0.1875447787156657\n",
      "lambda=347.82608695652175: average MSE= 0.1875447568166963\n",
      "lambda=356.52173913043475: average MSE= 0.1875447349129061\n",
      "lambda=365.2173913043478: average MSE= 0.1875447130648246\n",
      "lambda=373.9130434782609: average MSE= 0.1875446912568521\n",
      "lambda=382.6086956521739: average MSE= 0.1875446694482445\n",
      "lambda=391.30434782608694: average MSE= 0.1875446477244686\n",
      "lambda=400.0: average MSE= 0.1875446260168571\n",
      "lambda=408.695652173913: average MSE= 0.1875446043574840\n",
      "lambda=417.39130434782606: average MSE= 0.1875445827897748\n",
      "lambda=426.0869565217391: average MSE= 0.1875445612619747\n",
      "lambda=434.78260869565213: average MSE= 0.1875445397895751\n",
      "lambda=443.4782608695652: average MSE= 0.1875445183876621\n",
      "lambda=452.17391304347825: average MSE= 0.1875444970589272\n",
      "lambda=460.86956521739125: average MSE= 0.1875444758058213\n",
      "lambda=469.5652173913043: average MSE= 0.1875444671455259\n",
      "lambda=478.2608695652174: average MSE= 0.1875444590365403\n",
      "lambda=486.9565217391304: average MSE= 0.1875444502483272\n",
      "lambda=495.65217391304344: average MSE= 0.1875444411393685\n",
      "lambda=504.3478260869565: average MSE= 0.1875444318929101\n",
      "lambda=513.0434782608695: average MSE= 0.1875444226260863\n",
      "lambda=521.7391304347826: average MSE= 0.1875444134094902\n",
      "lambda=530.4347826086956: average MSE= 0.1875444042855021\n",
      "lambda=539.1304347826086: average MSE= 0.1875443952850128\n",
      "lambda=547.8260869565217: average MSE= 0.1875443864309278\n",
      "lambda=556.5217391304348: average MSE= 0.1875443777390288\n",
      "lambda=565.2173913043478: average MSE= 0.1875443692160803\n",
      "lambda=573.9130434782609: average MSE= 0.1875443608731048\n",
      "lambda=582.6086956521739: average MSE= 0.1875443527129746\n",
      "lambda=591.3043478260869: average MSE= 0.1875443447393123\n",
      "lambda=600.0: average MSE= 0.1875443369543440\n",
      "lambda=608.695652173913: average MSE= 0.1875443293579401\n",
      "lambda=617.391304347826: average MSE= 0.1875443219479346\n",
      "lambda=626.0869565217391: average MSE= 0.1875443147230899\n",
      "lambda=634.7826086956521: average MSE= 0.1875443076822116\n",
      "lambda=643.4782608695651: average MSE= 0.1875443008241272\n",
      "lambda=652.1739130434783: average MSE= 0.1875442941476855\n",
      "lambda=660.8695652173913: average MSE= 0.1875442876517567\n",
      "lambda=669.5652173913043: average MSE= 0.1875442813352314\n",
      "lambda=678.2608695652174: average MSE= 0.1875442751970206\n",
      "lambda=686.9565217391304: average MSE= 0.1875442692364977\n",
      "lambda=695.6521739130435: average MSE= 0.1875442634526915\n",
      "lambda=704.3478260869565: average MSE= 0.1875442578442024\n",
      "lambda=713.0434782608695: average MSE= 0.1875442524100145\n",
      "lambda=721.7391304347826: average MSE= 0.1875442471496049\n",
      "lambda=730.4347826086956: average MSE= 0.1875442420626100\n",
      "lambda=739.1304347826086: average MSE= 0.1875442371471176\n",
      "lambda=747.8260869565217: average MSE= 0.1875442324030439\n",
      "lambda=756.5217391304348: average MSE= 0.1875442278297150\n",
      "lambda=765.2173913043478: average MSE= 0.1875442234254726\n",
      "lambda=773.9130434782609: average MSE= 0.1875442191911788\n",
      "lambda=782.6086956521739: average MSE= 0.1875442151242288\n",
      "lambda=791.3043478260869: average MSE= 0.1875442112259376\n",
      "lambda=800.0: average MSE= 0.1875442074938161\n",
      "lambda=808.695652173913: average MSE= 0.1875442039285891\n",
      "lambda=817.391304347826: average MSE= 0.1875442005289040\n",
      "lambda=826.0869565217391: average MSE= 0.1875441972938930\n",
      "lambda=834.7826086956521: average MSE= 0.1875441942243227\n",
      "lambda=843.4782608695651: average MSE= 0.1875441913182232\n",
      "lambda=852.1739130434783: average MSE= 0.1875441885751535\n",
      "lambda=860.8695652173913: average MSE= 0.1875441859958316\n",
      "lambda=869.5652173913043: average MSE= 0.1875441835786595\n",
      "lambda=878.2608695652174: average MSE= 0.1875441813231186\n",
      "lambda=886.9565217391304: average MSE= 0.1875441792287902\n",
      "lambda=895.6521739130434: average MSE= 0.1875441772956178\n",
      "lambda=904.3478260869565: average MSE= 0.1875441755231958\n",
      "lambda=913.0434782608695: average MSE= 0.1875441739106611\n",
      "lambda=921.7391304347825: average MSE= 0.1875441724576168\n",
      "lambda=930.4347826086956: average MSE= 0.1875441711636713\n",
      "lambda=939.1304347826086: average MSE= 0.1875441700284375\n",
      "lambda=947.8260869565216: average MSE= 0.1875441690515330\n",
      "lambda=956.5217391304348: average MSE= 0.1875441682325803\n",
      "lambda=965.2173913043478: average MSE= 0.1875441675712063\n",
      "lambda=973.9130434782608: average MSE= 0.1875441670670426\n",
      "lambda=982.6086956521739: average MSE= 0.1875441667197253\n",
      "lambda=991.3043478260869: average MSE= 0.1875441665288949\n",
      "lambda=1000.0: average MSE= 0.1875441664941963\n",
      "lambda=1008.695652173913: average MSE= 0.1875441666152789\n",
      "lambda=1017.391304347826: average MSE= 0.1875441668917962\n",
      "lambda=1026.086956521739: average MSE= 0.1875441673234061\n",
      "lambda=1034.782608695652: average MSE= 0.1875441679097709\n",
      "lambda=1043.4782608695652: average MSE= 0.1875441686507944\n",
      "lambda=1052.1739130434783: average MSE= 0.1875441695464787\n",
      "lambda=1060.8695652173913: average MSE= 0.1875441705960063\n",
      "lambda=1069.5652173913043: average MSE= 0.1875441717990543\n",
      "lambda=1078.2608695652173: average MSE= 0.1875441731553041\n",
      "lambda=1086.9565217391303: average MSE= 0.1875441746647785\n",
      "lambda=1095.6521739130435: average MSE= 0.1875441763276768\n",
      "lambda=1104.3478260869565: average MSE= 0.1875441781429155\n",
      "lambda=1113.0434782608695: average MSE= 0.1875441801101903\n",
      "lambda=1121.7391304347825: average MSE= 0.1875441822300057\n",
      "lambda=1130.4347826086955: average MSE= 0.1875441845019242\n",
      "lambda=1139.1304347826087: average MSE= 0.1875441869250553\n",
      "lambda=1147.8260869565217: average MSE= 0.1875441894998183\n",
      "lambda=1156.5217391304348: average MSE= 0.1875441922261797\n",
      "lambda=1165.2173913043478: average MSE= 0.1875441951029566\n",
      "lambda=1173.9130434782608: average MSE= 0.1875441981310823\n",
      "lambda=1182.6086956521738: average MSE= 0.1875442013097199\n",
      "lambda=1191.304347826087: average MSE= 0.1875442046382994\n",
      "lambda=1200.0: average MSE= 0.1875442081179504\n",
      "lambda=1208.695652173913: average MSE= 0.1875442117467659\n",
      "lambda=1217.391304347826: average MSE= 0.1875442155262279\n",
      "lambda=1226.086956521739: average MSE= 0.1875442194547554\n",
      "lambda=1234.782608695652: average MSE= 0.1875442235331576\n"
     ]
    },
    {
     "name": "stdout",
     "output_type": "stream",
     "text": [
      "lambda=1243.4782608695652: average MSE= 0.1875442277605922\n",
      "lambda=1252.1739130434783: average MSE= 0.1875442321373713\n",
      "lambda=1260.8695652173913: average MSE= 0.1875442366629232\n",
      "lambda=1269.5652173913043: average MSE= 0.1875442413375257\n",
      "lambda=1278.2608695652173: average MSE= 0.1875442461604207\n",
      "lambda=1286.9565217391303: average MSE= 0.1875442511323027\n",
      "lambda=1295.6521739130435: average MSE= 0.1875442562516430\n",
      "lambda=1304.3478260869565: average MSE= 0.1875442615204090\n",
      "lambda=1313.0434782608695: average MSE= 0.1875442669362117\n",
      "lambda=1321.7391304347825: average MSE= 0.1875442725005752\n",
      "lambda=1330.4347826086955: average MSE= 0.1875442782123914\n",
      "lambda=1339.1304347826085: average MSE= 0.1875442840713931\n",
      "lambda=1347.8260869565217: average MSE= 0.1875442900788736\n",
      "lambda=1356.5217391304348: average MSE= 0.1875442962328776\n",
      "lambda=1365.2173913043478: average MSE= 0.1875443025344085\n",
      "lambda=1373.9130434782608: average MSE= 0.1875443089832491\n",
      "lambda=1382.6086956521738: average MSE= 0.1875443155784638\n",
      "lambda=1391.304347826087: average MSE= 0.1875443223209750\n",
      "lambda=1400.0: average MSE= 0.1875443292103592\n",
      "lambda=1408.695652173913: average MSE= 0.1875443362458308\n",
      "lambda=1417.391304347826: average MSE= 0.1875443434277821\n",
      "lambda=1426.086956521739: average MSE= 0.1875443507569445\n",
      "lambda=1434.782608695652: average MSE= 0.1875443582317420\n",
      "lambda=1443.4782608695652: average MSE= 0.1875443658518747\n",
      "lambda=1452.1739130434783: average MSE= 0.1875443736197429\n",
      "lambda=1460.8695652173913: average MSE= 0.1875443815330421\n",
      "lambda=1469.5652173913043: average MSE= 0.1875443895918091\n",
      "lambda=1478.2608695652173: average MSE= 0.1875443977955409\n",
      "lambda=1486.9565217391303: average MSE= 0.1875444061464295\n",
      "lambda=1495.6521739130435: average MSE= 0.1875444146427035\n",
      "lambda=1504.3478260869565: average MSE= 0.1875444232839862\n",
      "lambda=1513.0434782608695: average MSE= 0.1875444320704346\n",
      "lambda=1521.7391304347825: average MSE= 0.1875444410013272\n",
      "lambda=1530.4347826086955: average MSE= 0.1875444500792449\n",
      "lambda=1539.1304347826085: average MSE= 0.1875444593019045\n",
      "lambda=1547.8260869565217: average MSE= 0.1875444686691525\n",
      "lambda=1556.5217391304348: average MSE= 0.1875444781811938\n",
      "lambda=1565.2173913043478: average MSE= 0.1875444878378020\n",
      "lambda=1573.9130434782608: average MSE= 0.1875444976385205\n",
      "lambda=1582.6086956521738: average MSE= 0.1875445075855798\n",
      "lambda=1591.3043478260868: average MSE= 0.1875445176771274\n",
      "lambda=1600.0: average MSE= 0.1875445279128951\n",
      "lambda=1608.695652173913: average MSE= 0.1875445382928875\n",
      "lambda=1617.391304347826: average MSE= 0.1875445488171877\n",
      "lambda=1626.086956521739: average MSE= 0.1875445594857331\n",
      "lambda=1634.782608695652: average MSE= 0.1875445702984199\n",
      "lambda=1643.478260869565: average MSE= 0.1875445812548376\n",
      "lambda=1652.1739130434783: average MSE= 0.1875445923553488\n",
      "lambda=1660.8695652173913: average MSE= 0.1875446036003854\n",
      "lambda=1669.5652173913043: average MSE= 0.1875446149897436\n",
      "lambda=1678.2608695652173: average MSE= 0.1875446265229310\n",
      "lambda=1686.9565217391303: average MSE= 0.1875446381998870\n",
      "lambda=1695.6521739130435: average MSE= 0.1875446500205521\n",
      "lambda=1704.3478260869565: average MSE= 0.1875446619848667\n",
      "lambda=1713.0434782608695: average MSE= 0.1875446740927717\n",
      "lambda=1721.7391304347825: average MSE= 0.1875446863441353\n",
      "lambda=1730.4347826086955: average MSE= 0.1875446987389792\n",
      "lambda=1739.1304347826085: average MSE= 0.1875447112772597\n",
      "lambda=1747.8260869565217: average MSE= 0.1875447239589198\n",
      "lambda=1756.5217391304348: average MSE= 0.1875447367839032\n",
      "lambda=1765.2173913043478: average MSE= 0.1875447497521532\n",
      "lambda=1773.9130434782608: average MSE= 0.1875447628636143\n",
      "lambda=1782.6086956521738: average MSE= 0.1875447761182309\n",
      "lambda=1791.3043478260868: average MSE= 0.1875447895159235\n",
      "lambda=1800.0: average MSE= 0.1875448030565659\n",
      "lambda=1808.695652173913: average MSE= 0.1875448167401736\n",
      "lambda=1817.391304347826: average MSE= 0.1875448305666917\n",
      "lambda=1826.086956521739: average MSE= 0.1875448445360661\n",
      "lambda=1834.782608695652: average MSE= 0.1875448586482428\n",
      "lambda=1843.478260869565: average MSE= 0.1875448729031683\n",
      "lambda=1852.1739130434783: average MSE= 0.1875448873008826\n",
      "lambda=1860.8695652173913: average MSE= 0.1875449018421340\n",
      "lambda=1869.5652173913043: average MSE= 0.1875449165260597\n",
      "lambda=1878.2608695652173: average MSE= 0.1875449313526073\n",
      "lambda=1886.9565217391303: average MSE= 0.1875449463216067\n",
      "lambda=1895.6521739130433: average MSE= 0.1875449614328049\n",
      "lambda=1904.3478260869565: average MSE= 0.1875449766864444\n",
      "lambda=1913.0434782608695: average MSE= 0.1875449920824745\n",
      "lambda=1921.7391304347825: average MSE= 0.1875450076206358\n",
      "lambda=1930.4347826086955: average MSE= 0.1875450233007768\n",
      "lambda=1939.1304347826085: average MSE= 0.1875450391231251\n",
      "lambda=1947.8260869565215: average MSE= 0.1875450550886083\n",
      "lambda=1956.5217391304348: average MSE= 0.1875450711970937\n",
      "lambda=1965.2173913043478: average MSE= 0.1875450874476856\n",
      "lambda=1973.9130434782608: average MSE= 0.1875451038397419\n",
      "lambda=1982.6086956521738: average MSE= 0.1875451203739119\n",
      "lambda=1991.3043478260868: average MSE= 0.1875451370269390\n",
      "lambda=2000.0: average MSE= 0.1875451521326071\n",
      "lambda=2008.695652173913: average MSE= 0.1875451724924446\n",
      "lambda=2017.391304347826: average MSE= 0.1875451896101943\n",
      "lambda=2026.086956521739: average MSE= 0.1875452032766918\n",
      "lambda=2034.782608695652: average MSE= 0.1875452206134963\n",
      "lambda=2043.478260869565: average MSE= 0.1875452415211266\n",
      "lambda=2052.173913043478: average MSE= 0.1875452597289019\n",
      "lambda=2060.869565217391: average MSE= 0.1875452734766052\n",
      "lambda=2069.565217391304: average MSE= 0.1875452919038924\n",
      "lambda=2078.2608695652175: average MSE= 0.1875453136643195\n",
      "lambda=2086.9565217391305: average MSE= 0.1875453310109374\n",
      "lambda=2095.6521739130435: average MSE= 0.1875453503881815\n",
      "lambda=2104.3478260869565: average MSE= 0.1875453643830684\n",
      "lambda=2113.0434782608695: average MSE= 0.1875453838529508\n",
      "lambda=2121.7391304347825: average MSE= 0.1875454063898593\n",
      "lambda=2130.4347826086955: average MSE= 0.1875454240678898\n",
      "lambda=2139.1304347826085: average MSE= 0.1875454445405251\n",
      "lambda=2147.8260869565215: average MSE= 0.1875454588460405\n",
      "lambda=2156.5217391304345: average MSE= 0.1875454792873568\n",
      "lambda=2165.2173913043475: average MSE= 0.1875454975739461\n",
      "lambda=2173.9130434782605: average MSE= 0.1875455187281732\n",
      "lambda=2182.608695652174: average MSE= 0.1875455423403619\n",
      "lambda=2191.304347826087: average MSE= 0.1875455601991492\n",
      "lambda=2200.0: average MSE= 0.1875455808067581\n",
      "lambda=2208.695652173913: average MSE= 0.1875455972182098\n",
      "lambda=2217.391304347826: average MSE= 0.1875456189967416\n",
      "lambda=2226.086956521739: average MSE= 0.1875456395764410\n",
      "lambda=2234.782608695652: average MSE= 0.1875456584005148\n",
      "lambda=2243.478260869565: average MSE= 0.1875456808756012\n",
      "lambda=2252.173913043478: average MSE= 0.1875457058607368\n",
      "lambda=2260.869565217391: average MSE= 0.1875457243307136\n",
      "lambda=2269.565217391304: average MSE= 0.1875457453755056\n",
      "lambda=2278.2608695652175: average MSE= 0.1875457688867802\n",
      "lambda=2286.9565217391305: average MSE= 0.1875457884156756\n",
      "lambda=2295.6521739130435: average MSE= 0.1875458255766281\n",
      "lambda=2304.3478260869565: average MSE= 0.1875458603437322\n",
      "lambda=2313.0434782608695: average MSE= 0.1875458852400325\n",
      "lambda=2321.7391304347825: average MSE= 0.1875459167006320\n",
      "lambda=2330.4347826086955: average MSE= 0.1875459458662451\n",
      "lambda=2339.1304347826085: average MSE= 0.1875459787789251\n",
      "lambda=2347.8260869565215: average MSE= 0.1875460065137425\n",
      "lambda=2356.5217391304345: average MSE= 0.1875460333112648\n",
      "lambda=2365.2173913043475: average MSE= 0.1875460641778562\n",
      "lambda=2373.9130434782605: average MSE= 0.1875460874866257\n",
      "lambda=2382.608695652174: average MSE= 0.1875461128327594\n",
      "lambda=2391.304347826087: average MSE= 0.1875461367339106\n",
      "lambda=2400.0: average MSE= 0.1875461624317448\n",
      "lambda=2408.695652173913: average MSE= 0.1875461853726621\n",
      "lambda=2417.391304347826: average MSE= 0.1875462099911793\n",
      "lambda=2426.086956521739: average MSE= 0.1875462346138967\n",
      "lambda=2434.782608695652: average MSE= 0.1875462655236349\n",
      "lambda=2443.478260869565: average MSE= 0.1875462929593603\n",
      "lambda=2452.173913043478: average MSE= 0.1875463128920012\n",
      "lambda=2460.869565217391: average MSE= 0.1875463389919958\n"
     ]
    },
    {
     "name": "stdout",
     "output_type": "stream",
     "text": [
      "lambda=2469.565217391304: average MSE= 0.1875463666368886\n",
      "lambda=2478.260869565217: average MSE= 0.1875463912546146\n",
      "lambda=2486.9565217391305: average MSE= 0.1875464104532258\n",
      "lambda=2495.6521739130435: average MSE= 0.1875464353303481\n",
      "lambda=2504.3478260869565: average MSE= 0.1875464591508483\n",
      "lambda=2513.0434782608695: average MSE= 0.1875464939193229\n",
      "lambda=2521.7391304347825: average MSE= 0.1875465243045593\n",
      "lambda=2530.4347826086955: average MSE= 0.1875465454248466\n",
      "lambda=2539.1304347826085: average MSE= 0.1875465786676427\n",
      "lambda=2547.8260869565215: average MSE= 0.1875466058646555\n",
      "lambda=2556.5217391304345: average MSE= 0.1875466410896200\n",
      "lambda=2565.2173913043475: average MSE= 0.1875466680037297\n",
      "lambda=2573.9130434782605: average MSE= 0.1875467107096458\n",
      "lambda=2582.608695652174: average MSE= 0.1875467443973535\n",
      "lambda=2591.304347826087: average MSE= 0.1875467692601903\n",
      "lambda=2600.0: average MSE= 0.1875467993509395\n",
      "best_lambda: 1000.0\n"
     ]
    }
   ],
   "source": [
    "def choose_best_lambda_lasso(X, y, folds_indexes, lambda_range):   #part of the code for this loop is taken from the functions provided in the weekly coding tasks of this module\n",
    "    lambda_scores = np.zeros((len(lambda_range),))\n",
    "  \n",
    "    for i, lamb in enumerate(lambda_range):\n",
    "        lambda_scores[i] = cross_validation_score_lasso(X, y, folds_indexes, lamb)\n",
    "        print(f'lambda={lamb}: average MSE= {lambda_scores[i]:.16f}')\n",
    "\n",
    "    best_lambda_index = np.argmin(lambda_scores)  #We choose the optimal lambda\n",
    "    return lambda_range[best_lambda_index]\n",
    "\n",
    "lambda_scores_lasso = np.linspace(0,2600,300)\n",
    "\n",
    "best_lambda_lasso = choose_best_lambda_lasso(X_aug_lasso, y_lasso, folds_indexes, lambda_scores_lasso)\n",
    "\n",
    "print('best_lambda:', best_lambda_lasso)"
   ]
  },
  {
   "cell_type": "markdown",
   "metadata": {},
   "source": [
    "Our best $\\lambda$ is $1000$. We con compute the $\\beta$ for this hyper parameter"
   ]
  },
  {
   "cell_type": "code",
   "execution_count": 1365,
   "metadata": {},
   "outputs": [
    {
     "data": {
      "text/plain": [
       "array([ 2.59416468e+00,  4.62529464e-02,  1.25796495e+00, -3.89868993e-02,\n",
       "        3.62562016e-01,  3.80725816e-03,  3.91464648e-01, -7.35374758e-02,\n",
       "       -3.57221479e-02, -1.52400109e-02,  7.58410204e-07])"
      ]
     },
     "execution_count": 1365,
     "metadata": {},
     "output_type": "execute_result"
    }
   ],
   "source": [
    "beta_lasso = minimize_ls_huber(X_aug_lasso,y_lasso,1000,n_iters=10000, step_size=1e-3)\n",
    "beta_lasso"
   ]
  },
  {
   "cell_type": "markdown",
   "metadata": {},
   "source": [
    "Let's also plot the average MSE depending on the parameter $\\lambda$ to see what is happening. "
   ]
  },
  {
   "cell_type": "code",
   "execution_count": 1351,
   "metadata": {},
   "outputs": [
    {
     "data": {
      "text/plain": [
       "[<matplotlib.lines.Line2D at 0x7fe001191450>]"
      ]
     },
     "execution_count": 1351,
     "metadata": {},
     "output_type": "execute_result"
    },
    {
     "data": {
      "image/png": "[encoded data removed]",
      "text/plain": [
       "<Figure size 432x288 with 1 Axes>"
      ]
     },
     "metadata": {
      "needs_background": "light"
     },
     "output_type": "display_data"
    }
   ],
   "source": [
    "#plotting average MSE vs lambda\n",
    "l_lasso1 = [] #to store the values of the average MSE\n",
    "m_lasso1 = [] #to store the values of the parameter lambda \n",
    "for i in range(0,100):\n",
    "    lambda_val = 25*i\n",
    "    m_lasso1.append(lambda_val)\n",
    "    l_lasso1.append(cross_validation_score_lasso(X_aug_lasso, y_lasso, folds_indexes, lambda_val)) #calculating MSE and appending it to l\n",
    "plt.plot(m_lasso1,l_lasso1)"
   ]
  },
  {
   "cell_type": "markdown",
   "metadata": {},
   "source": [
    "We know can calculate the $R^2$ score of the Lasso-Huber model for the training data-set (we mean  in-sample)."
   ]
  },
  {
   "cell_type": "code",
   "execution_count": 1366,
   "metadata": {},
   "outputs": [
    {
     "name": "stdout",
     "output_type": "stream",
     "text": [
      "0.8718162628869924\n"
     ]
    }
   ],
   "source": [
    "R_square_lasso = R_square_calculator(X_aug_lasso,y_lasso,beta_lasso)\n",
    "print(R_square_lasso)"
   ]
  },
  {
   "cell_type": "markdown",
   "metadata": {},
   "source": [
    "We know can calculate the $R^2$ score of the Lasso-Huber model for the testing data-set (we mean  out-sample)."
   ]
  },
  {
   "cell_type": "code",
   "execution_count": 1367,
   "metadata": {},
   "outputs": [
    {
     "name": "stdout",
     "output_type": "stream",
     "text": [
      "0.8643183548530967\n"
     ]
    }
   ],
   "source": [
    "R_square_lasso_test = R_square_calculator(X_aug_test,y_test,beta_lasso)\n",
    "print(R_square_lasso_test)"
   ]
  },
  {
   "cell_type": "markdown",
   "metadata": {},
   "source": [
    "As before we can still see that the fist score is better but only slightly, so the method can be generalised, and used for previsions."
   ]
  },
  {
   "cell_type": "markdown",
   "metadata": {},
   "source": [
    "### 1.3.3\n"
   ]
  },
  {
   "cell_type": "markdown",
   "metadata": {},
   "source": [
    "Lasso-Huber forces many parameters to have small values inducing a stronger sparcity then ridge. This can be seen for example in the last component of $\\beta$. In fact for the ridge regression we have this component equal to $0.00318129$, while for the the lasso-huber is $7.58410204e-07$."
   ]
  },
  {
   "cell_type": "code",
   "execution_count": 1410,
   "metadata": {},
   "outputs": [
    {
     "name": "stdout",
     "output_type": "stream",
     "text": [
      "beta for ridge = [ 2.61820782  0.04433538  1.25232768 -0.03780222  0.36279709  0.00495263\n",
      "  0.39065421 -0.0746366  -0.03570966 -0.01524782  0.00318129]\n",
      "beta for lasso = [ 2.59416468e+00  4.62529464e-02  1.25796495e+00 -3.89868993e-02\n",
      "  3.62562016e-01  3.80725816e-03  3.91464648e-01 -7.35374758e-02\n",
      " -3.57221479e-02 -1.52400109e-02  7.58410204e-07]\n"
     ]
    }
   ],
   "source": [
    "print('beta for ridge =',beta_optimal_ridge)\n",
    "print('beta for lasso =',beta_lasso)"
   ]
  },
  {
   "cell_type": "markdown",
   "metadata": {},
   "source": [
    "So an 'increased level' of sparsity passing from Lasso-huber to Ridge can be observed"
   ]
  },
  {
   "cell_type": "markdown",
   "metadata": {},
   "source": [
    "We can also print the difference between the norms of $\\beta$ for the ridge and the lasso regression, to see that the norm for $\\beta$ obtained with ridge is greater than the norm of  $\\beta$ obtained with Lasso-Huber."
   ]
  },
  {
   "cell_type": "code",
   "execution_count": 1414,
   "metadata": {},
   "outputs": [
    {
     "name": "stdout",
     "output_type": "stream",
     "text": [
      "difference = 0.01879303840265134\n",
      "relative difference in % = 0.6364827759835024\n"
     ]
    }
   ],
   "source": [
    "print('difference =',np.linalg.norm(beta_optimal_ridge)-np.linalg.norm(beta_lasso))\n",
    "print('relative difference in % =',(np.linalg.norm(beta_optimal_ridge)-np.linalg.norm(beta_lasso))*100/np.linalg.norm(beta_optimal_ridge))\n",
    "\n"
   ]
  },
  {
   "cell_type": "markdown",
   "metadata": {
    "id": "oi0I8ERdy0mD"
   },
   "source": [
    "<a name=\"task-2\"></a>\n",
    "\n",
    "# Task 2: Classification [^](#outline)"
   ]
  },
  {
   "cell_type": "markdown",
   "metadata": {
    "id": "BgBfTmgpy08Z"
   },
   "source": [
    "<a name=\"q21\"></a>\n",
    "\n",
    "## 2.1: kNN classifier [^](#outline)\n",
    "### 2.1.1\n"
   ]
  },
  {
   "cell_type": "markdown",
   "metadata": {},
   "source": [
    "First of all we import the data from $\\texttt{tumour_samples.csv}$"
   ]
  },
  {
   "cell_type": "code",
   "execution_count": 118,
   "metadata": {},
   "outputs": [
    {
     "data": {
      "text/html": [
       "<div>\n",
       "<style scoped>\n",
       "    .dataframe tbody tr th:only-of-type {\n",
       "        vertical-align: middle;\n",
       "    }\n",
       "\n",
       "    .dataframe tbody tr th {\n",
       "        vertical-align: top;\n",
       "    }\n",
       "\n",
       "    .dataframe thead th {\n",
       "        text-align: right;\n",
       "    }\n",
       "</style>\n",
       "<table border=\"1\" class=\"dataframe\">\n",
       "  <thead>\n",
       "    <tr style=\"text-align: right;\">\n",
       "      <th></th>\n",
       "      <th>Unnamed: 0</th>\n",
       "      <th>n1_radius</th>\n",
       "      <th>n1_texture</th>\n",
       "      <th>n1_perimeter</th>\n",
       "      <th>n1_area</th>\n",
       "      <th>n1_smoothness</th>\n",
       "      <th>n1_compactness</th>\n",
       "      <th>n1_concavity</th>\n",
       "      <th>n1_concave_points</th>\n",
       "      <th>n1_symmetry</th>\n",
       "      <th>...</th>\n",
       "      <th>n3_texture</th>\n",
       "      <th>n3_perimeter</th>\n",
       "      <th>n3_area</th>\n",
       "      <th>n3_smoothness</th>\n",
       "      <th>n3_compactness</th>\n",
       "      <th>n3_concavity</th>\n",
       "      <th>n3_concave_points</th>\n",
       "      <th>n3_symmetry</th>\n",
       "      <th>n3_fractal_dimension</th>\n",
       "      <th>DIAGNOSIS</th>\n",
       "    </tr>\n",
       "  </thead>\n",
       "  <tbody>\n",
       "    <tr>\n",
       "      <th>0</th>\n",
       "      <td>0</td>\n",
       "      <td>10.855170</td>\n",
       "      <td>15.248290</td>\n",
       "      <td>69.167041</td>\n",
       "      <td>359.534878</td>\n",
       "      <td>0.105488</td>\n",
       "      <td>0.080200</td>\n",
       "      <td>0.066410</td>\n",
       "      <td>0.034194</td>\n",
       "      <td>0.182796</td>\n",
       "      <td>...</td>\n",
       "      <td>18.984557</td>\n",
       "      <td>81.443134</td>\n",
       "      <td>466.879302</td>\n",
       "      <td>0.149080</td>\n",
       "      <td>0.200185</td>\n",
       "      <td>0.205695</td>\n",
       "      <td>0.111592</td>\n",
       "      <td>0.335999</td>\n",
       "      <td>0.093477</td>\n",
       "      <td>B</td>\n",
       "    </tr>\n",
       "    <tr>\n",
       "      <th>1</th>\n",
       "      <td>1</td>\n",
       "      <td>10.068958</td>\n",
       "      <td>15.532758</td>\n",
       "      <td>66.130635</td>\n",
       "      <td>330.040665</td>\n",
       "      <td>0.099813</td>\n",
       "      <td>0.109540</td>\n",
       "      <td>0.057583</td>\n",
       "      <td>0.023322</td>\n",
       "      <td>0.195650</td>\n",
       "      <td>...</td>\n",
       "      <td>22.840293</td>\n",
       "      <td>82.133171</td>\n",
       "      <td>473.367822</td>\n",
       "      <td>0.125478</td>\n",
       "      <td>0.330466</td>\n",
       "      <td>0.283304</td>\n",
       "      <td>0.088021</td>\n",
       "      <td>0.312882</td>\n",
       "      <td>0.096158</td>\n",
       "      <td>B</td>\n",
       "    </tr>\n",
       "    <tr>\n",
       "      <th>2</th>\n",
       "      <td>2</td>\n",
       "      <td>12.271409</td>\n",
       "      <td>18.100314</td>\n",
       "      <td>78.195610</td>\n",
       "      <td>421.537832</td>\n",
       "      <td>0.105147</td>\n",
       "      <td>0.095315</td>\n",
       "      <td>0.043317</td>\n",
       "      <td>0.031539</td>\n",
       "      <td>0.188801</td>\n",
       "      <td>...</td>\n",
       "      <td>26.365608</td>\n",
       "      <td>84.598334</td>\n",
       "      <td>620.586067</td>\n",
       "      <td>0.146766</td>\n",
       "      <td>0.118707</td>\n",
       "      <td>0.147900</td>\n",
       "      <td>0.050402</td>\n",
       "      <td>0.291805</td>\n",
       "      <td>0.069556</td>\n",
       "      <td>B</td>\n",
       "    </tr>\n",
       "    <tr>\n",
       "      <th>3</th>\n",
       "      <td>3</td>\n",
       "      <td>10.531733</td>\n",
       "      <td>18.452486</td>\n",
       "      <td>67.227069</td>\n",
       "      <td>340.063033</td>\n",
       "      <td>0.086041</td>\n",
       "      <td>0.049961</td>\n",
       "      <td>0.049709</td>\n",
       "      <td>0.011046</td>\n",
       "      <td>0.203093</td>\n",
       "      <td>...</td>\n",
       "      <td>24.385385</td>\n",
       "      <td>73.296855</td>\n",
       "      <td>429.675600</td>\n",
       "      <td>0.100060</td>\n",
       "      <td>0.143683</td>\n",
       "      <td>0.177225</td>\n",
       "      <td>0.028111</td>\n",
       "      <td>0.287749</td>\n",
       "      <td>0.073174</td>\n",
       "      <td>B</td>\n",
       "    </tr>\n",
       "    <tr>\n",
       "      <th>4</th>\n",
       "      <td>4</td>\n",
       "      <td>12.367686</td>\n",
       "      <td>14.399191</td>\n",
       "      <td>80.643814</td>\n",
       "      <td>460.849710</td>\n",
       "      <td>0.106410</td>\n",
       "      <td>0.101420</td>\n",
       "      <td>0.020806</td>\n",
       "      <td>0.021990</td>\n",
       "      <td>0.195326</td>\n",
       "      <td>...</td>\n",
       "      <td>19.614305</td>\n",
       "      <td>89.910502</td>\n",
       "      <td>472.323112</td>\n",
       "      <td>0.138135</td>\n",
       "      <td>0.276127</td>\n",
       "      <td>0.151098</td>\n",
       "      <td>0.074396</td>\n",
       "      <td>0.345258</td>\n",
       "      <td>0.095830</td>\n",
       "      <td>B</td>\n",
       "    </tr>\n",
       "    <tr>\n",
       "      <th>...</th>\n",
       "      <td>...</td>\n",
       "      <td>...</td>\n",
       "      <td>...</td>\n",
       "      <td>...</td>\n",
       "      <td>...</td>\n",
       "      <td>...</td>\n",
       "      <td>...</td>\n",
       "      <td>...</td>\n",
       "      <td>...</td>\n",
       "      <td>...</td>\n",
       "      <td>...</td>\n",
       "      <td>...</td>\n",
       "      <td>...</td>\n",
       "      <td>...</td>\n",
       "      <td>...</td>\n",
       "      <td>...</td>\n",
       "      <td>...</td>\n",
       "      <td>...</td>\n",
       "      <td>...</td>\n",
       "      <td>...</td>\n",
       "      <td>...</td>\n",
       "    </tr>\n",
       "    <tr>\n",
       "      <th>2561</th>\n",
       "      <td>2561</td>\n",
       "      <td>14.383173</td>\n",
       "      <td>19.454910</td>\n",
       "      <td>100.495126</td>\n",
       "      <td>637.413375</td>\n",
       "      <td>0.076174</td>\n",
       "      <td>0.224136</td>\n",
       "      <td>0.305786</td>\n",
       "      <td>0.073760</td>\n",
       "      <td>0.168884</td>\n",
       "      <td>...</td>\n",
       "      <td>23.016513</td>\n",
       "      <td>108.867289</td>\n",
       "      <td>731.638144</td>\n",
       "      <td>0.079317</td>\n",
       "      <td>0.410666</td>\n",
       "      <td>0.674672</td>\n",
       "      <td>0.146962</td>\n",
       "      <td>0.241495</td>\n",
       "      <td>0.106978</td>\n",
       "      <td>B</td>\n",
       "    </tr>\n",
       "    <tr>\n",
       "      <th>2562</th>\n",
       "      <td>2562</td>\n",
       "      <td>10.018359</td>\n",
       "      <td>18.661516</td>\n",
       "      <td>61.848450</td>\n",
       "      <td>291.512307</td>\n",
       "      <td>0.083671</td>\n",
       "      <td>0.048121</td>\n",
       "      <td>0.028997</td>\n",
       "      <td>0.007389</td>\n",
       "      <td>0.164375</td>\n",
       "      <td>...</td>\n",
       "      <td>24.919767</td>\n",
       "      <td>67.920361</td>\n",
       "      <td>374.629250</td>\n",
       "      <td>0.129882</td>\n",
       "      <td>0.081497</td>\n",
       "      <td>0.109356</td>\n",
       "      <td>0.028243</td>\n",
       "      <td>0.252432</td>\n",
       "      <td>0.081462</td>\n",
       "      <td>B</td>\n",
       "    </tr>\n",
       "    <tr>\n",
       "      <th>2563</th>\n",
       "      <td>2563</td>\n",
       "      <td>11.168036</td>\n",
       "      <td>12.651203</td>\n",
       "      <td>67.102303</td>\n",
       "      <td>376.640056</td>\n",
       "      <td>0.096154</td>\n",
       "      <td>0.050181</td>\n",
       "      <td>0.017739</td>\n",
       "      <td>0.022895</td>\n",
       "      <td>0.183905</td>\n",
       "      <td>...</td>\n",
       "      <td>17.412221</td>\n",
       "      <td>73.221040</td>\n",
       "      <td>421.681446</td>\n",
       "      <td>0.135757</td>\n",
       "      <td>0.089036</td>\n",
       "      <td>0.070456</td>\n",
       "      <td>0.039851</td>\n",
       "      <td>0.295527</td>\n",
       "      <td>0.070584</td>\n",
       "      <td>B</td>\n",
       "    </tr>\n",
       "    <tr>\n",
       "      <th>2564</th>\n",
       "      <td>2564</td>\n",
       "      <td>11.719646</td>\n",
       "      <td>18.933783</td>\n",
       "      <td>78.556817</td>\n",
       "      <td>426.631397</td>\n",
       "      <td>0.113492</td>\n",
       "      <td>0.091756</td>\n",
       "      <td>0.070046</td>\n",
       "      <td>0.039025</td>\n",
       "      <td>0.203736</td>\n",
       "      <td>...</td>\n",
       "      <td>26.677691</td>\n",
       "      <td>86.572055</td>\n",
       "      <td>539.508865</td>\n",
       "      <td>0.132254</td>\n",
       "      <td>0.194688</td>\n",
       "      <td>0.179610</td>\n",
       "      <td>0.071053</td>\n",
       "      <td>0.330223</td>\n",
       "      <td>0.079510</td>\n",
       "      <td>B</td>\n",
       "    </tr>\n",
       "    <tr>\n",
       "      <th>2565</th>\n",
       "      <td>2565</td>\n",
       "      <td>11.844247</td>\n",
       "      <td>20.689350</td>\n",
       "      <td>74.057823</td>\n",
       "      <td>391.547178</td>\n",
       "      <td>0.110264</td>\n",
       "      <td>0.090631</td>\n",
       "      <td>0.049565</td>\n",
       "      <td>0.019809</td>\n",
       "      <td>0.193889</td>\n",
       "      <td>...</td>\n",
       "      <td>31.513549</td>\n",
       "      <td>82.313581</td>\n",
       "      <td>468.522601</td>\n",
       "      <td>0.163906</td>\n",
       "      <td>0.168648</td>\n",
       "      <td>0.143961</td>\n",
       "      <td>0.073360</td>\n",
       "      <td>0.292210</td>\n",
       "      <td>0.091949</td>\n",
       "      <td>B</td>\n",
       "    </tr>\n",
       "  </tbody>\n",
       "</table>\n",
       "<p>2566 rows × 32 columns</p>\n",
       "</div>"
      ],
      "text/plain": [
       "      Unnamed: 0  n1_radius  n1_texture  n1_perimeter     n1_area  \\\n",
       "0              0  10.855170   15.248290     69.167041  359.534878   \n",
       "1              1  10.068958   15.532758     66.130635  330.040665   \n",
       "2              2  12.271409   18.100314     78.195610  421.537832   \n",
       "3              3  10.531733   18.452486     67.227069  340.063033   \n",
       "4              4  12.367686   14.399191     80.643814  460.849710   \n",
       "...          ...        ...         ...           ...         ...   \n",
       "2561        2561  14.383173   19.454910    100.495126  637.413375   \n",
       "2562        2562  10.018359   18.661516     61.848450  291.512307   \n",
       "2563        2563  11.168036   12.651203     67.102303  376.640056   \n",
       "2564        2564  11.719646   18.933783     78.556817  426.631397   \n",
       "2565        2565  11.844247   20.689350     74.057823  391.547178   \n",
       "\n",
       "      n1_smoothness  n1_compactness  n1_concavity  n1_concave_points  \\\n",
       "0          0.105488        0.080200      0.066410           0.034194   \n",
       "1          0.099813        0.109540      0.057583           0.023322   \n",
       "2          0.105147        0.095315      0.043317           0.031539   \n",
       "3          0.086041        0.049961      0.049709           0.011046   \n",
       "4          0.106410        0.101420      0.020806           0.021990   \n",
       "...             ...             ...           ...                ...   \n",
       "2561       0.076174        0.224136      0.305786           0.073760   \n",
       "2562       0.083671        0.048121      0.028997           0.007389   \n",
       "2563       0.096154        0.050181      0.017739           0.022895   \n",
       "2564       0.113492        0.091756      0.070046           0.039025   \n",
       "2565       0.110264        0.090631      0.049565           0.019809   \n",
       "\n",
       "      n1_symmetry  ...  n3_texture  n3_perimeter     n3_area  n3_smoothness  \\\n",
       "0        0.182796  ...   18.984557     81.443134  466.879302       0.149080   \n",
       "1        0.195650  ...   22.840293     82.133171  473.367822       0.125478   \n",
       "2        0.188801  ...   26.365608     84.598334  620.586067       0.146766   \n",
       "3        0.203093  ...   24.385385     73.296855  429.675600       0.100060   \n",
       "4        0.195326  ...   19.614305     89.910502  472.323112       0.138135   \n",
       "...           ...  ...         ...           ...         ...            ...   \n",
       "2561     0.168884  ...   23.016513    108.867289  731.638144       0.079317   \n",
       "2562     0.164375  ...   24.919767     67.920361  374.629250       0.129882   \n",
       "2563     0.183905  ...   17.412221     73.221040  421.681446       0.135757   \n",
       "2564     0.203736  ...   26.677691     86.572055  539.508865       0.132254   \n",
       "2565     0.193889  ...   31.513549     82.313581  468.522601       0.163906   \n",
       "\n",
       "      n3_compactness  n3_concavity  n3_concave_points  n3_symmetry  \\\n",
       "0           0.200185      0.205695           0.111592     0.335999   \n",
       "1           0.330466      0.283304           0.088021     0.312882   \n",
       "2           0.118707      0.147900           0.050402     0.291805   \n",
       "3           0.143683      0.177225           0.028111     0.287749   \n",
       "4           0.276127      0.151098           0.074396     0.345258   \n",
       "...              ...           ...                ...          ...   \n",
       "2561        0.410666      0.674672           0.146962     0.241495   \n",
       "2562        0.081497      0.109356           0.028243     0.252432   \n",
       "2563        0.089036      0.070456           0.039851     0.295527   \n",
       "2564        0.194688      0.179610           0.071053     0.330223   \n",
       "2565        0.168648      0.143961           0.073360     0.292210   \n",
       "\n",
       "      n3_fractal_dimension  DIAGNOSIS  \n",
       "0                 0.093477          B  \n",
       "1                 0.096158          B  \n",
       "2                 0.069556          B  \n",
       "3                 0.073174          B  \n",
       "4                 0.095830          B  \n",
       "...                    ...        ...  \n",
       "2561              0.106978          B  \n",
       "2562              0.081462          B  \n",
       "2563              0.070584          B  \n",
       "2564              0.079510          B  \n",
       "2565              0.091949          B  \n",
       "\n",
       "[2566 rows x 32 columns]"
      ]
     },
     "execution_count": 118,
     "metadata": {},
     "output_type": "execute_result"
    }
   ],
   "source": [
    "df_tumour_samples = pd.read_csv(\"tumour_samples.csv\") #reading from thr csv file\n",
    "df_tumour_samples\n"
   ]
  },
  {
   "cell_type": "markdown",
   "metadata": {},
   "source": [
    "We obtain matrices and arrays to work with from the dataset and standardise"
   ]
  },
  {
   "cell_type": "code",
   "execution_count": 119,
   "metadata": {},
   "outputs": [],
   "source": [
    "#Obtaining the matrices and the arrays from the data set\n",
    "Tumour_samples = df_tumour_samples.to_numpy()\n",
    "y_tumour_samples = Tumour_samples[:,31] # creating the array with the classifications (B or M)\n",
    "N_tumour_samples = len(y_tumour_samples)\n",
    "X_tumour_samples = Tumour_samples[:,1:31] #creating a matrix storing the input data\n",
    "X_tumour_samples.astype(float)\n",
    "\n",
    "#We stamdardise\n",
    "X_tumour_samples = (X_tumour_samples-np.mean(X_tumour_samples))/np.std(X_tumour_samples)"
   ]
  },
  {
   "cell_type": "markdown",
   "metadata": {},
   "source": [
    "We define the euclidian dinstance. (Which could be defined also by hand, but I prefered to use numpy's built in function np.linalg.norm)"
   ]
  },
  {
   "cell_type": "code",
   "execution_count": 120,
   "metadata": {},
   "outputs": [],
   "source": [
    "def euclidian_distance(p, q):\n",
    "    return np.linalg.norm(p-q)"
   ]
  },
  {
   "cell_type": "markdown",
   "metadata": {},
   "source": [
    "Now we will define the KNN function. This function takes a training set (both data and measured values), a parameter $k$ and return the predictions for we want to esaminate. More precisely the algorithm works as follows:\n",
    "1. We take a 'point' x (in this case the point is a vector containing the 30 features we want to use in the prediction). We want to predict the diagnosis for this point.\n",
    "2. We analyse the k-nearest 'point' and check their diagnosis\n",
    "3. If analysing the diagnosis of this k elements we see that we have more 'B' than 'M', we 'predict' for x the diagnosis 'B' and vice-versa\n"
   ]
  },
  {
   "cell_type": "markdown",
   "metadata": {},
   "source": [
    "This function is structured in quite an original way compared to the one provided in the weekly notebooks. I tried to use dictionaries and I coded in a different way to make the implementation faster"
   ]
  },
  {
   "cell_type": "code",
   "execution_count": 121,
   "metadata": {},
   "outputs": [],
   "source": [
    "def k_neighbours(X_train, X_test, y_train, k, return_distance=False):\n",
    "    \"\"\"k-NN\n",
    "    returns: the predictor array y_test\"\"\"\n",
    "    number_neighbours = k\n",
    "    dist = []\n",
    "    neigh_ind = []\n",
    "    strs = ['' for x in range((X_test).shape[0])]\n",
    "    y_pred = np.array(strs)\n",
    "    for j in range((X_test).shape[0]):\n",
    "        x_test = X_test[j,:]\n",
    "        D = {euclidian_distance(x_test,X_train[i,:]):y_train[i] for i in range(X_train.shape[0])} #{dictionary distance:diagnosis}\n",
    "        listfuc = [D[key] for key in sorted(D)] #sorting and creating a list with the diagnosis of the sorted distance (I this way i have a list of diagnosis, in which each diagnosis is associated to a measurement more distant from the tester than the previous one)\n",
    "        listfuc_k = listfuc[:k] #only the diagnosis of the nearest k elements\n",
    "        my_dict = {i:listfuc_k.count(i) for i in listfuc_k} #counting the number of 'B' and 'M'\n",
    "        \n",
    "        #predicting analysing the number of 'B' and 'M' on the k nearest diagnosis\n",
    "        if 'B' in my_dict:\n",
    "            if my_dict['B'] > k//2:  #if more than half are 'B' assigns 'B', otherwise 'M'. \n",
    "                y_pred[j] = 'B'\n",
    "            else:\n",
    "                y_pred[j] = 'M'\n",
    "        else:\n",
    "            y_pred[j] = 'M'\n",
    "    return y_pred"
   ]
  },
  {
   "cell_type": "markdown",
   "metadata": {},
   "source": [
    "(Note that in tie situations we assign 'M'. This decision is made on a 'real life adaptation' idea. In fact in my opinion in this case is better to have false positive patients which can be proceed with further diagnosis, instead of false negatives patients who are not aware of their medical condition.)"
   ]
  },
  {
   "cell_type": "markdown",
   "metadata": {},
   "source": [
    "To evaluate we will use the mean accuracy to see the precision of the predictions. We define a function to do that, which counts the number of the 'test points' that have been classified in a correct way and divides this number by the number of the elements we want to predict\n"
   ]
  },
  {
   "cell_type": "code",
   "execution_count": 122,
   "metadata": {},
   "outputs": [],
   "source": [
    "def score(X_train, y_train, X_test, y_test, k):   #This function is strongly inspired by the weekly notebooks of this module\n",
    "    y_pred = k_neighbours(X_train,X_test, y_train, k=k) \n",
    "    return float(sum(y_pred==y_test))/ float(len(y_test))"
   ]
  },
  {
   "cell_type": "markdown",
   "metadata": {},
   "source": [
    "Let's define a function to perform the 5-fold cross-validation. Before we will divide the indexes in 5 sets."
   ]
  },
  {
   "cell_type": "code",
   "execution_count": 123,
   "metadata": {},
   "outputs": [],
   "source": [
    "# shuffling the rows in X and y\n",
    "p = np.random.permutation(len(y_tumour_samples))\n",
    "X_tumour_samples = X_tumour_samples[p]\n",
    "y_tumour_samples = y_tumour_samples[p]\n",
    "\n",
    "\n",
    "# Now we divide the indices in 5 sets\n",
    "folds_indexes_tumour_samples = np.split(np.arange(len(y_tumour_samples)-1), 5)\n"
   ]
  },
  {
   "cell_type": "markdown",
   "metadata": {},
   "source": [
    "The function is similar to the cross-validation functions we've done previusly in this coursework. We use the 'accuracy' to evaluate"
   ]
  },
  {
   "cell_type": "code",
   "execution_count": 124,
   "metadata": {},
   "outputs": [],
   "source": [
    "def cross_validation_score_KNN(X_train, y_train, folds, k):\n",
    "    #performs 5 cross validation and returns the average accuracy\n",
    "    \n",
    "  scores = []\n",
    "  for i in range(len(folds)):\n",
    "    val_indexes = folds[i]\n",
    "    train_indexes = list(set(range(y_train.shape[0]-1)) - set(val_indexes))\n",
    "    \n",
    "    X_train_i = X_train[train_indexes, :]\n",
    "    y_train_i = y_train[train_indexes]\n",
    "\n",
    "\n",
    "    X_val_i = X_train[val_indexes, :] \n",
    "    y_val_i = y_train[val_indexes] \n",
    "\n",
    "    score_i = score(X_train_i, y_train_i, X_val_i, y_val_i, k=k) \n",
    "    scores.append(score_i)\n",
    "\n",
    "  # Return the average score\n",
    "  return sum(scores) / len(scores) "
   ]
  },
  {
   "cell_type": "markdown",
   "metadata": {},
   "source": [
    "We choose the best k"
   ]
  },
  {
   "cell_type": "code",
   "execution_count": 125,
   "metadata": {},
   "outputs": [],
   "source": [
    "def choose_best_k(X_train, y_train, folds, k_range):   #This function is strongly inspired by the weekly notebooks of this module\n",
    "  k_scores = np.zeros((len(k_range),))\n",
    "  \n",
    "  for i, k in enumerate(k_range):\n",
    "    k_scores[i] = cross_validation_score_KNN(X_train, y_train, folds, k)\n",
    "    print(f'CV_ACC@k={k}: {k_scores[i]:f}')\n",
    "\n",
    "  best_k_index = np.argmax(k_scores)\n",
    "  return k_range[best_k_index]\n",
    "\n"
   ]
  },
  {
   "cell_type": "code",
   "execution_count": 126,
   "metadata": {
    "scrolled": false
   },
   "outputs": [
    {
     "name": "stdout",
     "output_type": "stream",
     "text": [
      "CV_ACC@k=1: 0.959454\n",
      "CV_ACC@k=2: 0.957505\n",
      "CV_ACC@k=3: 0.962573\n",
      "CV_ACC@k=4: 0.963743\n",
      "CV_ACC@k=5: 0.959844\n",
      "CV_ACC@k=6: 0.961793\n",
      "CV_ACC@k=7: 0.960234\n",
      "CV_ACC@k=8: 0.961404\n",
      "CV_ACC@k=9: 0.960234\n",
      "CV_ACC@k=10: 0.960234\n",
      "CV_ACC@k=11: 0.959454\n",
      "CV_ACC@k=12: 0.960234\n",
      "CV_ACC@k=13: 0.958674\n",
      "CV_ACC@k=14: 0.958674\n",
      "best_k: 4\n"
     ]
    }
   ],
   "source": [
    "best_k = choose_best_k(X_tumour_samples, y_tumour_samples, folds_indexes_tumour_samples, np.arange(1, 15))\n",
    "\n",
    "print('best_k:', best_k)"
   ]
  },
  {
   "cell_type": "markdown",
   "metadata": {},
   "source": [
    "###### The best $k$ we get is $k=4$"
   ]
  },
  {
   "cell_type": "markdown",
   "metadata": {},
   "source": [
    "Now we plot the accuracy vs $k$ to see how it evolves for $k$ between 3 and 10. We expect the plot to reach a peak for $k=4$"
   ]
  },
  {
   "cell_type": "code",
   "execution_count": 127,
   "metadata": {},
   "outputs": [
    {
     "data": {
      "text/plain": [
       "[<matplotlib.lines.Line2D at 0x7f975051a650>]"
      ]
     },
     "execution_count": 127,
     "metadata": {},
     "output_type": "execute_result"
    },
    {
     "data": {
      "image/png": "[encoded data removed]",
      "text/plain": [
       "<Figure size 432x288 with 1 Axes>"
      ]
     },
     "metadata": {
      "needs_background": "light"
     },
     "output_type": "display_data"
    }
   ],
   "source": [
    "#plotting accuracy vs k\n",
    "l_knn1 = [] #to store the values of the accuracy\n",
    "m_knn1 = [] #to store the values of the parameter k\n",
    "for i in range(3,10):\n",
    "    k_val = i\n",
    "    m_knn1.append(k_val)\n",
    "    l_knn1.append(cross_validation_score_KNN(X_tumour_samples, y_tumour_samples, folds_indexes_tumour_samples, k_val)) #calculating accuracy and appending it to l_knn1\n",
    "plt.plot(m_knn1,l_knn1)"
   ]
  },
  {
   "cell_type": "markdown",
   "metadata": {},
   "source": [
    "### 2.1.2"
   ]
  },
  {
   "cell_type": "markdown",
   "metadata": {},
   "source": [
    "I import the testing data set and standardising"
   ]
  },
  {
   "cell_type": "code",
   "execution_count": 128,
   "metadata": {
    "scrolled": true
   },
   "outputs": [
    {
     "data": {
      "text/html": [
       "<div>\n",
       "<style scoped>\n",
       "    .dataframe tbody tr th:only-of-type {\n",
       "        vertical-align: middle;\n",
       "    }\n",
       "\n",
       "    .dataframe tbody tr th {\n",
       "        vertical-align: top;\n",
       "    }\n",
       "\n",
       "    .dataframe thead th {\n",
       "        text-align: right;\n",
       "    }\n",
       "</style>\n",
       "<table border=\"1\" class=\"dataframe\">\n",
       "  <thead>\n",
       "    <tr style=\"text-align: right;\">\n",
       "      <th></th>\n",
       "      <th>Unnamed: 0</th>\n",
       "      <th>n1_radius</th>\n",
       "      <th>n1_texture</th>\n",
       "      <th>n1_perimeter</th>\n",
       "      <th>n1_area</th>\n",
       "      <th>n1_smoothness</th>\n",
       "      <th>n1_compactness</th>\n",
       "      <th>n1_concavity</th>\n",
       "      <th>n1_concave_points</th>\n",
       "      <th>n1_symmetry</th>\n",
       "      <th>...</th>\n",
       "      <th>n3_texture</th>\n",
       "      <th>n3_perimeter</th>\n",
       "      <th>n3_area</th>\n",
       "      <th>n3_smoothness</th>\n",
       "      <th>n3_compactness</th>\n",
       "      <th>n3_concavity</th>\n",
       "      <th>n3_concave_points</th>\n",
       "      <th>n3_symmetry</th>\n",
       "      <th>n3_fractal_dimension</th>\n",
       "      <th>DIAGNOSIS</th>\n",
       "    </tr>\n",
       "  </thead>\n",
       "  <tbody>\n",
       "    <tr>\n",
       "      <th>0</th>\n",
       "      <td>0</td>\n",
       "      <td>13.40</td>\n",
       "      <td>20.52</td>\n",
       "      <td>88.64</td>\n",
       "      <td>556.7</td>\n",
       "      <td>0.11060</td>\n",
       "      <td>0.14690</td>\n",
       "      <td>0.14450</td>\n",
       "      <td>0.08172</td>\n",
       "      <td>0.2116</td>\n",
       "      <td>...</td>\n",
       "      <td>29.66</td>\n",
       "      <td>113.30</td>\n",
       "      <td>844.4</td>\n",
       "      <td>0.15740</td>\n",
       "      <td>0.38560</td>\n",
       "      <td>0.51060</td>\n",
       "      <td>0.20510</td>\n",
       "      <td>0.3585</td>\n",
       "      <td>0.11090</td>\n",
       "      <td>M</td>\n",
       "    </tr>\n",
       "    <tr>\n",
       "      <th>1</th>\n",
       "      <td>1</td>\n",
       "      <td>13.21</td>\n",
       "      <td>25.25</td>\n",
       "      <td>84.10</td>\n",
       "      <td>537.9</td>\n",
       "      <td>0.08791</td>\n",
       "      <td>0.05205</td>\n",
       "      <td>0.02772</td>\n",
       "      <td>0.02068</td>\n",
       "      <td>0.1619</td>\n",
       "      <td>...</td>\n",
       "      <td>34.23</td>\n",
       "      <td>91.29</td>\n",
       "      <td>632.9</td>\n",
       "      <td>0.12890</td>\n",
       "      <td>0.10630</td>\n",
       "      <td>0.13900</td>\n",
       "      <td>0.06005</td>\n",
       "      <td>0.2444</td>\n",
       "      <td>0.06788</td>\n",
       "      <td>B</td>\n",
       "    </tr>\n",
       "    <tr>\n",
       "      <th>2</th>\n",
       "      <td>2</td>\n",
       "      <td>14.02</td>\n",
       "      <td>15.66</td>\n",
       "      <td>89.59</td>\n",
       "      <td>606.5</td>\n",
       "      <td>0.07966</td>\n",
       "      <td>0.05581</td>\n",
       "      <td>0.02087</td>\n",
       "      <td>0.02652</td>\n",
       "      <td>0.1589</td>\n",
       "      <td>...</td>\n",
       "      <td>19.31</td>\n",
       "      <td>96.53</td>\n",
       "      <td>688.9</td>\n",
       "      <td>0.10340</td>\n",
       "      <td>0.10170</td>\n",
       "      <td>0.06260</td>\n",
       "      <td>0.08216</td>\n",
       "      <td>0.2136</td>\n",
       "      <td>0.06710</td>\n",
       "      <td>B</td>\n",
       "    </tr>\n",
       "    <tr>\n",
       "      <th>3</th>\n",
       "      <td>3</td>\n",
       "      <td>14.26</td>\n",
       "      <td>18.17</td>\n",
       "      <td>91.22</td>\n",
       "      <td>633.1</td>\n",
       "      <td>0.06576</td>\n",
       "      <td>0.05220</td>\n",
       "      <td>0.02475</td>\n",
       "      <td>0.01374</td>\n",
       "      <td>0.1635</td>\n",
       "      <td>...</td>\n",
       "      <td>25.26</td>\n",
       "      <td>105.80</td>\n",
       "      <td>819.7</td>\n",
       "      <td>0.09445</td>\n",
       "      <td>0.21670</td>\n",
       "      <td>0.15650</td>\n",
       "      <td>0.07530</td>\n",
       "      <td>0.2636</td>\n",
       "      <td>0.07676</td>\n",
       "      <td>B</td>\n",
       "    </tr>\n",
       "    <tr>\n",
       "      <th>4</th>\n",
       "      <td>4</td>\n",
       "      <td>13.03</td>\n",
       "      <td>18.42</td>\n",
       "      <td>82.61</td>\n",
       "      <td>523.8</td>\n",
       "      <td>0.08983</td>\n",
       "      <td>0.03766</td>\n",
       "      <td>0.02562</td>\n",
       "      <td>0.02923</td>\n",
       "      <td>0.1467</td>\n",
       "      <td>...</td>\n",
       "      <td>22.81</td>\n",
       "      <td>84.46</td>\n",
       "      <td>545.9</td>\n",
       "      <td>0.09701</td>\n",
       "      <td>0.04619</td>\n",
       "      <td>0.04833</td>\n",
       "      <td>0.05013</td>\n",
       "      <td>0.1987</td>\n",
       "      <td>0.06169</td>\n",
       "      <td>B</td>\n",
       "    </tr>\n",
       "    <tr>\n",
       "      <th>...</th>\n",
       "      <td>...</td>\n",
       "      <td>...</td>\n",
       "      <td>...</td>\n",
       "      <td>...</td>\n",
       "      <td>...</td>\n",
       "      <td>...</td>\n",
       "      <td>...</td>\n",
       "      <td>...</td>\n",
       "      <td>...</td>\n",
       "      <td>...</td>\n",
       "      <td>...</td>\n",
       "      <td>...</td>\n",
       "      <td>...</td>\n",
       "      <td>...</td>\n",
       "      <td>...</td>\n",
       "      <td>...</td>\n",
       "      <td>...</td>\n",
       "      <td>...</td>\n",
       "      <td>...</td>\n",
       "      <td>...</td>\n",
       "      <td>...</td>\n",
       "    </tr>\n",
       "    <tr>\n",
       "      <th>195</th>\n",
       "      <td>195</td>\n",
       "      <td>19.73</td>\n",
       "      <td>19.82</td>\n",
       "      <td>130.70</td>\n",
       "      <td>1206.0</td>\n",
       "      <td>0.10620</td>\n",
       "      <td>0.18490</td>\n",
       "      <td>0.24170</td>\n",
       "      <td>0.09740</td>\n",
       "      <td>0.1733</td>\n",
       "      <td>...</td>\n",
       "      <td>25.59</td>\n",
       "      <td>159.80</td>\n",
       "      <td>1933.0</td>\n",
       "      <td>0.17100</td>\n",
       "      <td>0.59550</td>\n",
       "      <td>0.84890</td>\n",
       "      <td>0.25070</td>\n",
       "      <td>0.2749</td>\n",
       "      <td>0.12970</td>\n",
       "      <td>M</td>\n",
       "    </tr>\n",
       "    <tr>\n",
       "      <th>196</th>\n",
       "      <td>196</td>\n",
       "      <td>23.29</td>\n",
       "      <td>26.67</td>\n",
       "      <td>158.90</td>\n",
       "      <td>1685.0</td>\n",
       "      <td>0.11410</td>\n",
       "      <td>0.20840</td>\n",
       "      <td>0.35230</td>\n",
       "      <td>0.16200</td>\n",
       "      <td>0.2200</td>\n",
       "      <td>...</td>\n",
       "      <td>32.68</td>\n",
       "      <td>177.00</td>\n",
       "      <td>1986.0</td>\n",
       "      <td>0.15360</td>\n",
       "      <td>0.41670</td>\n",
       "      <td>0.78920</td>\n",
       "      <td>0.27330</td>\n",
       "      <td>0.3198</td>\n",
       "      <td>0.08762</td>\n",
       "      <td>M</td>\n",
       "    </tr>\n",
       "    <tr>\n",
       "      <th>197</th>\n",
       "      <td>197</td>\n",
       "      <td>13.20</td>\n",
       "      <td>17.43</td>\n",
       "      <td>84.13</td>\n",
       "      <td>541.6</td>\n",
       "      <td>0.07215</td>\n",
       "      <td>0.04524</td>\n",
       "      <td>0.04336</td>\n",
       "      <td>0.01105</td>\n",
       "      <td>0.1487</td>\n",
       "      <td>...</td>\n",
       "      <td>27.82</td>\n",
       "      <td>88.28</td>\n",
       "      <td>602.0</td>\n",
       "      <td>0.11010</td>\n",
       "      <td>0.15080</td>\n",
       "      <td>0.22980</td>\n",
       "      <td>0.04970</td>\n",
       "      <td>0.2767</td>\n",
       "      <td>0.07198</td>\n",
       "      <td>B</td>\n",
       "    </tr>\n",
       "    <tr>\n",
       "      <th>198</th>\n",
       "      <td>198</td>\n",
       "      <td>13.64</td>\n",
       "      <td>15.60</td>\n",
       "      <td>87.38</td>\n",
       "      <td>575.3</td>\n",
       "      <td>0.09423</td>\n",
       "      <td>0.06630</td>\n",
       "      <td>0.04705</td>\n",
       "      <td>0.03731</td>\n",
       "      <td>0.1717</td>\n",
       "      <td>...</td>\n",
       "      <td>19.05</td>\n",
       "      <td>94.11</td>\n",
       "      <td>683.4</td>\n",
       "      <td>0.12780</td>\n",
       "      <td>0.12910</td>\n",
       "      <td>0.15330</td>\n",
       "      <td>0.09222</td>\n",
       "      <td>0.2530</td>\n",
       "      <td>0.06510</td>\n",
       "      <td>B</td>\n",
       "    </tr>\n",
       "    <tr>\n",
       "      <th>199</th>\n",
       "      <td>199</td>\n",
       "      <td>14.99</td>\n",
       "      <td>25.20</td>\n",
       "      <td>95.54</td>\n",
       "      <td>698.8</td>\n",
       "      <td>0.09387</td>\n",
       "      <td>0.05131</td>\n",
       "      <td>0.02398</td>\n",
       "      <td>0.02899</td>\n",
       "      <td>0.1565</td>\n",
       "      <td>...</td>\n",
       "      <td>25.20</td>\n",
       "      <td>95.54</td>\n",
       "      <td>698.8</td>\n",
       "      <td>0.09387</td>\n",
       "      <td>0.05131</td>\n",
       "      <td>0.02398</td>\n",
       "      <td>0.02899</td>\n",
       "      <td>0.1565</td>\n",
       "      <td>0.05504</td>\n",
       "      <td>M</td>\n",
       "    </tr>\n",
       "  </tbody>\n",
       "</table>\n",
       "<p>200 rows × 32 columns</p>\n",
       "</div>"
      ],
      "text/plain": [
       "     Unnamed: 0  n1_radius  n1_texture  n1_perimeter  n1_area  n1_smoothness  \\\n",
       "0             0      13.40       20.52         88.64    556.7        0.11060   \n",
       "1             1      13.21       25.25         84.10    537.9        0.08791   \n",
       "2             2      14.02       15.66         89.59    606.5        0.07966   \n",
       "3             3      14.26       18.17         91.22    633.1        0.06576   \n",
       "4             4      13.03       18.42         82.61    523.8        0.08983   \n",
       "..          ...        ...         ...           ...      ...            ...   \n",
       "195         195      19.73       19.82        130.70   1206.0        0.10620   \n",
       "196         196      23.29       26.67        158.90   1685.0        0.11410   \n",
       "197         197      13.20       17.43         84.13    541.6        0.07215   \n",
       "198         198      13.64       15.60         87.38    575.3        0.09423   \n",
       "199         199      14.99       25.20         95.54    698.8        0.09387   \n",
       "\n",
       "     n1_compactness  n1_concavity  n1_concave_points  n1_symmetry  ...  \\\n",
       "0           0.14690       0.14450            0.08172       0.2116  ...   \n",
       "1           0.05205       0.02772            0.02068       0.1619  ...   \n",
       "2           0.05581       0.02087            0.02652       0.1589  ...   \n",
       "3           0.05220       0.02475            0.01374       0.1635  ...   \n",
       "4           0.03766       0.02562            0.02923       0.1467  ...   \n",
       "..              ...           ...                ...          ...  ...   \n",
       "195         0.18490       0.24170            0.09740       0.1733  ...   \n",
       "196         0.20840       0.35230            0.16200       0.2200  ...   \n",
       "197         0.04524       0.04336            0.01105       0.1487  ...   \n",
       "198         0.06630       0.04705            0.03731       0.1717  ...   \n",
       "199         0.05131       0.02398            0.02899       0.1565  ...   \n",
       "\n",
       "     n3_texture  n3_perimeter  n3_area  n3_smoothness  n3_compactness  \\\n",
       "0         29.66        113.30    844.4        0.15740         0.38560   \n",
       "1         34.23         91.29    632.9        0.12890         0.10630   \n",
       "2         19.31         96.53    688.9        0.10340         0.10170   \n",
       "3         25.26        105.80    819.7        0.09445         0.21670   \n",
       "4         22.81         84.46    545.9        0.09701         0.04619   \n",
       "..          ...           ...      ...            ...             ...   \n",
       "195       25.59        159.80   1933.0        0.17100         0.59550   \n",
       "196       32.68        177.00   1986.0        0.15360         0.41670   \n",
       "197       27.82         88.28    602.0        0.11010         0.15080   \n",
       "198       19.05         94.11    683.4        0.12780         0.12910   \n",
       "199       25.20         95.54    698.8        0.09387         0.05131   \n",
       "\n",
       "     n3_concavity  n3_concave_points  n3_symmetry  n3_fractal_dimension  \\\n",
       "0         0.51060            0.20510       0.3585               0.11090   \n",
       "1         0.13900            0.06005       0.2444               0.06788   \n",
       "2         0.06260            0.08216       0.2136               0.06710   \n",
       "3         0.15650            0.07530       0.2636               0.07676   \n",
       "4         0.04833            0.05013       0.1987               0.06169   \n",
       "..            ...                ...          ...                   ...   \n",
       "195       0.84890            0.25070       0.2749               0.12970   \n",
       "196       0.78920            0.27330       0.3198               0.08762   \n",
       "197       0.22980            0.04970       0.2767               0.07198   \n",
       "198       0.15330            0.09222       0.2530               0.06510   \n",
       "199       0.02398            0.02899       0.1565               0.05504   \n",
       "\n",
       "     DIAGNOSIS  \n",
       "0            M  \n",
       "1            B  \n",
       "2            B  \n",
       "3            B  \n",
       "4            B  \n",
       "..         ...  \n",
       "195          M  \n",
       "196          M  \n",
       "197          B  \n",
       "198          B  \n",
       "199          M  \n",
       "\n",
       "[200 rows x 32 columns]"
      ]
     },
     "execution_count": 128,
     "metadata": {},
     "output_type": "execute_result"
    }
   ],
   "source": [
    "import pandas as pd\n",
    "df_tumour_test = pd.read_csv(\"tumour_test.csv\") #reading from thr csv file\n",
    "df_tumour_test"
   ]
  },
  {
   "cell_type": "code",
   "execution_count": 129,
   "metadata": {
    "scrolled": true
   },
   "outputs": [],
   "source": [
    "#Obtaining the matrices and the arrays from the data set\n",
    "Tumour_test = df_tumour_test.to_numpy()\n",
    "y_tumour_test = Tumour_test[:,31] # creating the array with the classifications (B or M)\n",
    "N_tumour_test = len(y_tumour_test)\n",
    "X_tumour_test = Tumour_test[:,1:31] #creating a matrix storing the input data\n",
    "X_tumour_test.astype(float)\n",
    "\n",
    "#I standardise\n",
    "\n",
    "X_tumour_test = (X_tumour_test-np.mean(X_tumour_test))/np.std(X_tumour_test)"
   ]
  },
  {
   "cell_type": "markdown",
   "metadata": {},
   "source": [
    "I obtain the list of the predictions to see what result we have"
   ]
  },
  {
   "cell_type": "code",
   "execution_count": 130,
   "metadata": {},
   "outputs": [],
   "source": [
    "y_pred_testing_set = k_neighbours(X_tumour_samples, X_tumour_test, y_tumour_samples, k=4, return_distance=False)"
   ]
  },
  {
   "cell_type": "code",
   "execution_count": 131,
   "metadata": {
    "scrolled": false
   },
   "outputs": [
    {
     "name": "stdout",
     "output_type": "stream",
     "text": [
      "['B' 'B' 'B' 'B' 'B' 'B' 'B' 'B' 'B' 'B' 'B' 'B' 'B' 'B' 'B' 'M' 'B' 'M'\n",
      " 'M' 'M' 'M' 'B' 'B' 'B' 'M' 'B' 'B' 'B' 'B' 'M' 'B' 'M' 'B' 'M' 'B' 'M'\n",
      " 'B' 'M' 'B' 'B' 'B' 'B' 'M' 'B' 'B' 'M' 'B' 'B' 'B' 'B' 'M' 'B' 'M' 'B'\n",
      " 'B' 'B' 'B' 'B' 'B' 'M' 'B' 'M' 'B' 'B' 'M' 'B' 'M' 'M' 'M' 'B' 'B' 'M'\n",
      " 'B' 'B' 'M' 'B' 'B' 'B' 'B' 'B' 'B' 'M' 'M' 'B' 'B' 'B' 'B' 'B' 'M' 'M'\n",
      " 'B' 'B' 'B' 'B' 'B' 'B' 'M' 'B' 'B' 'B' 'B' 'B' 'B' 'B' 'M' 'B' 'M' 'B'\n",
      " 'B' 'B' 'B' 'M' 'M' 'B' 'B' 'B' 'B' 'B' 'B' 'B' 'B' 'B' 'B' 'B' 'M' 'B'\n",
      " 'B' 'B' 'B' 'B' 'M' 'B' 'B' 'B' 'B' 'B' 'B' 'B' 'M' 'B' 'B' 'B' 'M' 'B'\n",
      " 'B' 'M' 'B' 'B' 'B' 'B' 'B' 'B' 'B' 'B' 'B' 'B' 'B' 'B' 'B' 'M' 'M' 'B'\n",
      " 'B' 'M' 'B' 'B' 'M' 'M' 'B' 'B' 'B' 'B' 'B' 'B' 'M' 'B' 'B' 'B' 'B' 'B'\n",
      " 'M' 'B' 'B' 'M' 'B' 'B' 'B' 'B' 'M' 'B' 'B' 'M' 'B' 'B' 'B' 'M' 'M' 'B'\n",
      " 'B' 'B']\n"
     ]
    }
   ],
   "source": [
    "print(y_pred_testing_set)"
   ]
  },
  {
   "cell_type": "markdown",
   "metadata": {},
   "source": [
    "Now we compute the accuracy for the data set $\\texttt{tumour_samples.csv}$\n",
    "\n"
   ]
  },
  {
   "cell_type": "code",
   "execution_count": 132,
   "metadata": {
    "scrolled": true
   },
   "outputs": [
    {
     "data": {
      "text/plain": [
       "0.9746687451286048"
      ]
     },
     "execution_count": 132,
     "metadata": {},
     "output_type": "execute_result"
    }
   ],
   "source": [
    "score(X_tumour_samples, y_tumour_samples, X_tumour_samples, y_tumour_samples, k = 4)"
   ]
  },
  {
   "cell_type": "markdown",
   "metadata": {},
   "source": [
    "Now we compute the accuracy for the data set $\\texttt{tumour_test.csv}$\n",
    "\n"
   ]
  },
  {
   "cell_type": "code",
   "execution_count": 133,
   "metadata": {},
   "outputs": [
    {
     "data": {
      "text/plain": [
       "0.88"
      ]
     },
     "execution_count": 133,
     "metadata": {},
     "output_type": "execute_result"
    }
   ],
   "source": [
    "score(X_tumour_samples, y_tumour_samples, X_tumour_test, y_tumour_test, k = 4)"
   ]
  },
  {
   "cell_type": "markdown",
   "metadata": {},
   "source": [
    "I can see that our predictions are better for the data set $\\texttt{tumour_samples.csv}$ (we have $0.9746687451286048$, which is normal, because is the data set I used to build the model.\n",
    "However the accuracy for data set $\\texttt{tumour_test.csv}$ is $0.88$, which is good. We can say that our model can be quite generalised and used for prediction.\n",
    "\n",
    "It is important to note however that depending on the circumstances this decrease of 'precision' on the testing data  could not be tolerated"
   ]
  },
  {
   "cell_type": "markdown",
   "metadata": {
    "id": "rCPlajQOy1ER"
   },
   "source": [
    "<a name=\"q22\"></a>\n",
    "\n",
    "## 2.2: Random forest [^](#outline)"
   ]
  },
  {
   "cell_type": "markdown",
   "metadata": {},
   "source": [
    "### 2.2.1\n",
    "In this task we use a 5-cross fold validation to find the combination of optimal parameters (Max Depth of trees, Number of Trees) for the random forest method. To implement this method we use decision trees, that we use in order to classify the data. In particular we:\n",
    "1) Perform bootstrapping on the given training data-set, so we create B sub-samples, from which we obtain a decision tree for each of these. Each tree is used to build a probability vector\n",
    "\n",
    "2) Then averaging the probability vectors obtained from the different subsets we obtain a final probability vector.\n",
    "\n",
    "3) Now we can proceed with our classification, classifing each sample in the class corresponding to the higher probability.\n",
    "\n",
    "It is also important to say that we will proceed employing cross entropy minimization"
   ]
  },
  {
   "cell_type": "markdown",
   "metadata": {},
   "source": [
    "The following functions are taken and adapted from the weekly jupyter notebooks provided as study material during this module"
   ]
  },
  {
   "cell_type": "markdown",
   "metadata": {},
   "source": [
    "We are not going to use weighted samples so we take a vector of ones"
   ]
  },
  {
   "cell_type": "code",
   "execution_count": 1588,
   "metadata": {},
   "outputs": [],
   "source": [
    "sample_weights_basic = np.ones(len(y_tumour_samples))"
   ]
  },
  {
   "cell_type": "code",
   "execution_count": 1691,
   "metadata": {},
   "outputs": [],
   "source": [
    "def CE_index(y, sample_weights=None):    #slight modification of the weekly notebooks functions\n",
    "  \"\"\"  \n",
    "  Calculate the cross entropy-index for labels.\n",
    "  Arguments:\n",
    "      y: array of the training labels, of shape (N,).\n",
    "      sample_weights: weights for each samples, of shape (N,).\n",
    "  Returns:\n",
    "      (float): the cross entropy-index for y.\n",
    "  \"\"\"\n",
    "\n",
    "  # We count different labels in y，and then we store them in label_weights\n",
    "  # initialize with zero for each distinct label.\n",
    "  label_weights = {yi: 0 for yi in set(y)}  #we define a dictionary\n",
    "  for yi, wi in zip(y, sample_weights):\n",
    "      label_weights[yi] += wi\n",
    "\n",
    "  total_weight = sum(label_weights.values())\n",
    "  CE = 0 \n",
    "  for label, weight in label_weights.items():\n",
    "      CE -= (weight / total_weight)*np.log((weight / total_weight))\n",
    "\n",
    "  return CE"
   ]
  },
  {
   "cell_type": "code",
   "execution_count": 1692,
   "metadata": {},
   "outputs": [],
   "source": [
    "def split_samples(X, y, sample_weights, column, value, categorical):  #function taken from the weekly notebooks\n",
    "  \"\"\"\n",
    "  Return the split of data whose column-th feature:\n",
    "    1. equals value, in case `column` is categorical, or\n",
    "    2. less than value, in case `column` is not categorical (i.e. numerical)\n",
    "\n",
    "  Arguments:\n",
    "      X: training features, of shape (N, D).\n",
    "      y: vector of training labels, of shape (N,).\n",
    "      sample_weights: weights for each samples, of shape (N,).\n",
    "      column: the column of the feature for splitting.\n",
    "      value: splitting threshold  the samples \n",
    "      categorical: boolean value indicating whether column is a categorical variable or numerical.\n",
    "  Returns:\n",
    "      tuple(np.array, np.array): tuple of subsets of X splitted based on column-th value.\n",
    "      tuple(np.array, np.array): tuple of subsets of y splitted based on column-th value.\n",
    "      tuple(np.array, np.array): tuple of subsets of sample weights based on column-th value.\n",
    "  \"\"\" \n",
    "\n",
    "  if categorical:\n",
    "    left_mask =(X[:, column] == value)\n",
    "  else:\n",
    "    left_mask = (X[:, column] < value)\n",
    "  X_left, X_right = X[left_mask, :], X[~left_mask, :]\n",
    "  y_left, y_right = y[left_mask], y[~left_mask]\n",
    "  w_left, w_right  = sample_weights[left_mask], sample_weights[~left_mask]\n",
    "  return (X_left, X_right), (y_left, y_right), (w_left, w_right)"
   ]
  },
  {
   "cell_type": "code",
   "execution_count": 2227,
   "metadata": {},
   "outputs": [],
   "source": [
    "def CE_split_value(X, y, sample_weights, column, categorical):\n",
    "  \"\"\"\n",
    "  Calculate the cross entropy -index based on `column` with the split that minimizes the cross entropy -index.\n",
    "  Arguments:\n",
    "      X: training features, of shape (N, D).\n",
    "      y: vector of training labels, of shape (N,).\n",
    "      sample_weights: weights for each samples, of shape (N,).\n",
    "      column: the column of the feature for calculating. 0 <= column < D\n",
    "      categorical: boolean value indicating whether column is a categorical variable or numerical.\n",
    "  Returns:\n",
    "      (float, float): the resulted cross entropy -index and the corresponding value used in splitting.\n",
    "  \"\"\"\n",
    "  \n",
    "  unique_vals = np.unique(X[:, column])\n",
    "\n",
    "  assert len(unique_vals) > 1, f\"There must be more than one distinct feature value. Given: {unique_vals}.\"\n",
    "\n",
    "  CE_index_val, threshold = np.inf, None\n",
    "  \n",
    "  # split the values of i-th feature and calculate the cost \n",
    "  for value in unique_vals:\n",
    "    (X_l, X_r), (y_l, y_r), (w_l, w_r) = split_samples(X, y, sample_weights, column, value, categorical) \n",
    "\n",
    "    # if one of the two sides is empty, skip this split.\n",
    "    if len(y_l) == 0 or len(y_r) == 0:\n",
    "      continue\n",
    "    \n",
    "    p_left = sum(w_l)/(sum(w_l) + sum(w_r))\n",
    "    p_right = 1 - p_left\n",
    "    new_cost = p_left * CE_index(y_l, w_l) + p_right * CE_index(y_r, w_r) \n",
    "    if new_cost < CE_index_val:\n",
    "      CE_index_val, threshold = new_cost, value\n",
    "    \n",
    "  return CE_index_val, threshold"
   ]
  },
  {
   "cell_type": "code",
   "execution_count": 2228,
   "metadata": {},
   "outputs": [
    {
     "data": {
      "text/plain": [
       "(0.41489691189061656, -0.279838916623836)"
      ]
     },
     "execution_count": 2228,
     "metadata": {},
     "output_type": "execute_result"
    }
   ],
   "source": [
    "CE_split_value(X_tumour_samples,y_tumour_samples,sample_weights_basic,column = 4, categorical = False) #just verifying that everything works"
   ]
  },
  {
   "cell_type": "code",
   "execution_count": 2229,
   "metadata": {},
   "outputs": [],
   "source": [
    "def CE_split_rf(n_features, X, y, sample_weights, columns_dict):\n",
    "  \"\"\"\n",
    "  Choose the best feature to split according to criterion.\n",
    "  Args:\n",
    "      n_features: number of sampled features.\n",
    "      X: training features, of shape (N, D).\n",
    "      y: vector of training labels, of shape (N,).\n",
    "      sample_weights: weights for each samples, of shape (N,).\n",
    "      columns_dict: a dictionary mapping column indices to whether the column is categorical or numerical variable.\n",
    "  Returns:\n",
    "      (float, int, float): the minimized cross entropy-index, the best feature index and value used in splitting.\n",
    "  \"\"\"\n",
    "  columns = np.random.choice(list(columns_dict.keys()), n_features, replace=False)\n",
    "  columns_dict = {c: columns_dict[c] for c in columns}\n",
    "\n",
    "  min_CE_index, split_column, split_val = np.inf, 0, 0\n",
    "  for column, categorical in columns_dict.items():\n",
    "    # skip column if samples are not seperable by that column.\n",
    "    if len(np.unique(X[:, column])) < 2:\n",
    "      continue\n",
    "\n",
    "    # search for the best splitting value for the given column.\n",
    "    CE_index, val = CE_split_value(X, y, sample_weights, column, categorical)    \n",
    "    if CE_index < min_CE_index:\n",
    "        min_CE_index, split_column, split_val = CE_index, column, val\n",
    "\n",
    "  return min_CE_index, split_column, split_val"
   ]
  },
  {
   "cell_type": "markdown",
   "metadata": {},
   "source": [
    "The columns we are considering are all numerical, so we will take a dictionary containing all 'false'\n",
    "\n"
   ]
  },
  {
   "cell_type": "code",
   "execution_count": 2230,
   "metadata": {},
   "outputs": [],
   "source": [
    "dictionary_categorical = {index: False for index in range(X_tumour_samples.shape[1])}"
   ]
  },
  {
   "cell_type": "code",
   "execution_count": 2231,
   "metadata": {},
   "outputs": [
    {
     "data": {
      "text/plain": [
       "(0.18150069741187327, 23, 4.8793197669441595)"
      ]
     },
     "execution_count": 2231,
     "metadata": {},
     "output_type": "execute_result"
    }
   ],
   "source": [
    "CE_split_rf(10, X_tumour_samples,y_tumour_samples,sample_weights_basic,dictionary_categorical)  #just verifying that everything works\n",
    "#n_features, X, y, sample_weights, columns_dict"
   ]
  },
  {
   "cell_type": "code",
   "execution_count": 1698,
   "metadata": {},
   "outputs": [],
   "source": [
    "def majority_vote(y, sample_weights):\n",
    "  \"\"\"\n",
    "  Return the label which appears the most in y.\n",
    "  Args:\n",
    "      y: vector of training labels, of shape (N,).\n",
    "      sample_weights: weights for each samples, of shape (N,).\n",
    "  Returns:\n",
    "      (int): the majority label\n",
    "  \"\"\"\n",
    "  majority_label = {yi: 0 for yi in set(y)}\n",
    "\n",
    "  for yi, wi in zip(y, sample_weights):\n",
    "    majority_label[yi] += wi\n",
    "  return max(majority_label, key=majority_label.get)"
   ]
  },
  {
   "cell_type": "markdown",
   "metadata": {},
   "source": [
    "Building tree function"
   ]
  },
  {
   "cell_type": "code",
   "execution_count": 1699,
   "metadata": {},
   "outputs": [],
   "source": [
    "def build_tree_rf(n_features, X, y, sample_weights, columns_dict, depth,  max_depth=10, min_samples_leaf=2):\n",
    "  \"\"\"Build the decision tree according to the data.\n",
    "  Args:\n",
    "      X: (np.array) training features, of shape (N, D).\n",
    "      y: (np.array) vector of training labels, of shape (N,).\n",
    "      sample_weights: weights for each samples, of shape (N,).\n",
    "      columns_dict: a dictionary mapping column indices to whether the column is categorical or numerical variable.\n",
    "      feature_names (list): record the name of features in X in the original dataset.\n",
    "      depth (int): current depth for this node.\n",
    "  Returns:\n",
    "      (dict): a dict denoting the decision tree (binary-tree). Each node has seven attributes:\n",
    "        1. 'feature_name': The column name of the split.\n",
    "        2. 'feature_index': The column index of the split.\n",
    "        3. 'value': The value used for the split.\n",
    "        4. 'categorical': indicator for categorical/numerical variables.\n",
    "        5. 'majority_label': For leaf nodes, this stores the dominant label. Otherwise, it is None.\n",
    "        6. 'left': The left sub-tree with the same structure.\n",
    "        7. 'right' The right sub-tree with the same structure.\n",
    "      Example:\n",
    "          mytree = {\n",
    "              'feature_name': 'petal length (cm)',\n",
    "              'feature_index': 2,\n",
    "              'value': 3.0,\n",
    "              'categorical': False,\n",
    "              'majority_label': None,\n",
    "              'left': {\n",
    "                  'feature_name': str,\n",
    "                  'feature_index': int,\n",
    "                  'value': float,\n",
    "                  'categorical': bool,\n",
    "                  'majority_label': None,\n",
    "                  'left': {..etc.},\n",
    "                  'right': {..etc.}\n",
    "              }\n",
    "              'right': {\n",
    "                  'feature_name': str,\n",
    "                  'feature_index': int,\n",
    "                  'value': float,\n",
    "                  'categorical': bool,\n",
    "                  'majority_label': None,\n",
    "                  'left': {..etc.},\n",
    "                  'right': {..etc.}\n",
    "              }\n",
    "          }\n",
    "  \"\"\"\n",
    "  # include a clause for the cases where (i) all lables are the same, (ii) depth exceed (iii) X is too small\n",
    "  if len(np.unique(y)) == 1 or depth>=max_depth or len(X)<=min_samples_leaf: \n",
    "      return {'majority_label': majority_vote(y, sample_weights)}\n",
    "  \n",
    "  else:\n",
    "    CE, split_index, split_val = CE_split_rf(n_features, X, y, sample_weights, columns_dict)\n",
    "    \n",
    "    # If CE is infinity, it means that samples are not seperable by the sampled features.\n",
    "    if CE == np.inf:\n",
    "      return {'majority_label': majority_vote(y, sample_weights)}\n",
    "    categorical = columns_dict[split_index]\n",
    "    (X_l, X_r), (y_l, y_r), (w_l, w_r) = split_samples(X, y, sample_weights, split_index, split_val, categorical) \n",
    "    return {\n",
    "        'feature_index': split_index,\n",
    "        'value': split_val,\n",
    "        'categorical': categorical,\n",
    "        'majority_label': None,\n",
    "        'left': build_tree_rf(n_features, X_l, y_l, w_l, columns_dict, depth + 1, max_depth, min_samples_leaf),\n",
    "        'right': build_tree_rf(n_features, X_r, y_r, w_r, columns_dict, depth + 1, max_depth, min_samples_leaf)\n",
    "    }"
   ]
  },
  {
   "cell_type": "markdown",
   "metadata": {},
   "source": [
    "Training Function"
   ]
  },
  {
   "cell_type": "code",
   "execution_count": 1700,
   "metadata": {},
   "outputs": [],
   "source": [
    "def train_rf(B, max_depth, n_features, X, y,  columns_dict, sample_weights=None):\n",
    "  \"\"\"\n",
    "  Build the decision tree according to the training data.\n",
    "  Args:\n",
    "      B: number of decision trees.\n",
    "      max_depth: max depth allowed for the trees\n",
    "      X: (pd.Dataframe) training features, of shape (N, D). Each X[i] is a training sample.\n",
    "      y: (pd.Series) vector of training labels, of shape (N,). y[i] is the label for X[i], and each y[i] is\n",
    "      an integer in the range 0 <= y[i] <= C. Here C = 1.\n",
    "      columns_dict: a dictionary mapping column indices to whether the column is categorical or numerical variable.\n",
    "      sample_weights: weights for each samples, of shape (N,).\n",
    "  \"\"\"\n",
    "  if sample_weights is None:\n",
    "      # if the sample weights is not provided, we assume the samples have uniform weights\n",
    "      sample_weights = np.ones(X.shape[0]) / X.shape[0]\n",
    "  else:\n",
    "      sample_weights = np.array(sample_weights) / np.sum(sample_weights)\n",
    "\n",
    "  N = X.shape[0]\n",
    "  training_indices = np.arange(N)\n",
    "  trees = []\n",
    "\n",
    "  for _ in range(B):\n",
    "    sample = np.random.choice(training_indices, N, replace=True)\n",
    "    X_sample = X[sample, :]\n",
    "    y_sample = y[sample]\n",
    "    w_sample = sample_weights[sample]\n",
    "    tree = build_tree_rf(n_features, X_sample, y_sample, w_sample, columns_dict, depth=1,  max_depth=max_depth)\n",
    "    trees.append(tree)\n",
    "\n",
    "  return trees"
   ]
  },
  {
   "cell_type": "markdown",
   "metadata": {},
   "source": [
    "Classification function"
   ]
  },
  {
   "cell_type": "code",
   "execution_count": 1701,
   "metadata": {},
   "outputs": [],
   "source": [
    "def classify(tree, x):\n",
    "  \"\"\"\n",
    "  Classify a single sample with the fitted decision tree.\n",
    "  Args:\n",
    "      x: ((pd.Dataframe) a single sample features, of shape (D,).\n",
    "  Returns:\n",
    "      (int): predicted testing sample label.\n",
    "  \"\"\"\n",
    "  if tree['majority_label'] is not None: \n",
    "    return tree['majority_label']\n",
    "\n",
    "  elif tree['categorical']:\n",
    "    if x[tree['feature_index']] == tree['value']:\n",
    "      return classify(tree['left'], x)\n",
    "    else:\n",
    "      return classify(tree['right'], x)\n",
    "\n",
    "  else:\n",
    "    if x[tree['feature_index']] < tree['value']:\n",
    "      return classify(tree['left'], x)\n",
    "    else:\n",
    "      return classify(tree['right'], x)"
   ]
  },
  {
   "cell_type": "markdown",
   "metadata": {},
   "source": [
    "Prediction function"
   ]
  },
  {
   "cell_type": "code",
   "execution_count": 1702,
   "metadata": {},
   "outputs": [],
   "source": [
    "def predict_rf(rf, X):\n",
    "  \"\"\"\n",
    "  Predict classification results for X.\n",
    "  Args:\n",
    "      rf: A trained random forest through train_rf function.\n",
    "      X: (pd.Dataframe) testing sample features, of shape (N, D).\n",
    "  Returns:\n",
    "      (np.array): predicted testing sample labels, of shape (N,).\n",
    "  \"\"\"\n",
    "\n",
    "  def aggregate(decisions):\n",
    "    count = defaultdict(int)\n",
    "    for decision in decisions:\n",
    "      count[decision] += 1\n",
    "    return max(count, key=count.get)\n",
    "\n",
    "  if len(X.shape) == 1:\n",
    "      return aggregate([classify(tree, X) for tree in rf])\n",
    "  else:\n",
    "      return np.array([aggregate([classify(tree, x) for tree in rf]) for x in X])"
   ]
  },
  {
   "cell_type": "markdown",
   "metadata": {},
   "source": [
    "We re-upload the dataset"
   ]
  },
  {
   "cell_type": "code",
   "execution_count": 1703,
   "metadata": {},
   "outputs": [
    {
     "data": {
      "text/plain": [
       "array([[1.340e+01, 2.052e+01, 8.864e+01, ..., 2.051e-01, 3.585e-01,\n",
       "        1.109e-01],\n",
       "       [1.321e+01, 2.525e+01, 8.410e+01, ..., 6.005e-02, 2.444e-01,\n",
       "        6.788e-02],\n",
       "       [1.402e+01, 1.566e+01, 8.959e+01, ..., 8.216e-02, 2.136e-01,\n",
       "        6.710e-02],\n",
       "       ...,\n",
       "       [1.320e+01, 1.743e+01, 8.413e+01, ..., 4.970e-02, 2.767e-01,\n",
       "        7.198e-02],\n",
       "       [1.364e+01, 1.560e+01, 8.738e+01, ..., 9.222e-02, 2.530e-01,\n",
       "        6.510e-02],\n",
       "       [1.499e+01, 2.520e+01, 9.554e+01, ..., 2.899e-02, 1.565e-01,\n",
       "        5.504e-02]])"
      ]
     },
     "execution_count": 1703,
     "metadata": {},
     "output_type": "execute_result"
    }
   ],
   "source": [
    "#Training\n",
    "Tumour_samples = df_tumour_samples.to_numpy()\n",
    "y_tumour_samples = Tumour_samples[:,31] # creating the array with the classifications (B or M)\n",
    "N_tumour_samples = len(y_tumour_samples)\n",
    "X_tumour_samples = Tumour_samples[:,1:31] #creating a matrix storing the input data\n",
    "\n",
    "\n",
    "#Training\n",
    "Tumour_test = df_tumour_test.to_numpy()\n",
    "y_tumour_test = Tumour_test[:,31] # creating the array with the classifications (B or M)\n",
    "N_tumour_test = len(y_tumour_test)\n",
    "X_tumour_test = Tumour_test[:,1:31] #creating a matrix storing the input data\n",
    "\n"
   ]
  },
  {
   "cell_type": "code",
   "execution_count": 1704,
   "metadata": {},
   "outputs": [],
   "source": [
    "n_features = X_tumour_samples.shape[1] // 3\n",
    "B = 3\n",
    "# fit the random forest with training data\n",
    "rf = train_rf(B,25, n_features, X_tumour_samples, y_tumour_samples, dictionary_categorical)   #training just verifying that everything works"
   ]
  },
  {
   "cell_type": "markdown",
   "metadata": {},
   "source": [
    "Accuracy function"
   ]
  },
  {
   "cell_type": "code",
   "execution_count": 1706,
   "metadata": {},
   "outputs": [],
   "source": [
    "def rf_score(rf, X_test, y_test):\n",
    "  y_pred = predict_rf(rf, X_test) \n",
    "  return np.mean(y_pred==y_test)"
   ]
  },
  {
   "cell_type": "markdown",
   "metadata": {},
   "source": [
    "Cross validation"
   ]
  },
  {
   "cell_type": "code",
   "execution_count": 1759,
   "metadata": {},
   "outputs": [],
   "source": [
    "def cross_validation_score_RF(X_train, y_train, folds, Number_of_trees, max_depth):\n",
    "    #performs 5 cross validation and returns the average accuracy\n",
    "  scores = []\n",
    "  for i in range(len(folds)):\n",
    "    val_indexes = folds[i]\n",
    "    train_indexes = list(set(range(y_train.shape[0]-1)) - set(val_indexes))\n",
    "    \n",
    "    X_train_i = X_train[train_indexes, :]\n",
    "    y_train_i = y_train[train_indexes]\n",
    "\n",
    "\n",
    "    X_val_i = X_train[val_indexes, :] \n",
    "    y_val_i = y_train[val_indexes] \n",
    "    \n",
    "    \n",
    "    n_features = 10\n",
    "\n",
    "    rf = train_rf(Number_of_trees, max_depth, n_features, X_train_i, y_train_i, dictionary_categorical , sample_weights=None) \n",
    "    scorerf = rf_score(rf,X_val_i,y_val_i)\n",
    "    scores.append(scorerf)\n",
    "\n",
    "  # Return the average score\n",
    "  return np.mean(scores) "
   ]
  },
  {
   "cell_type": "markdown",
   "metadata": {},
   "source": [
    "Defining the hyperparameter combinations we will use, which will be: [(5, 1), (5, 3), (5, 5), (10, 1), (10, 3), (10, 5), (15, 1), (15, 3), (15, 5)], where the first value represent the max depth of the trees and the second the number of the trees\n"
   ]
  },
  {
   "cell_type": "code",
   "execution_count": 1782,
   "metadata": {},
   "outputs": [
    {
     "name": "stdout",
     "output_type": "stream",
     "text": [
      "[ 5. 10. 15.]\n",
      "[(5.0, 1.0), (5.0, 3.0), (5.0, 5.0), (10.0, 1.0), (10.0, 3.0), (10.0, 5.0), (15.0, 1.0), (15.0, 3.0), (15.0, 5.0)]\n"
     ]
    }
   ],
   "source": [
    "list_of_max_depths = np.linspace(5,15,3)\n",
    "print(list_of_max_depths)\n",
    "\n",
    "list_of_number_of_trees = np.linspace(1,5,3)\n",
    "\n",
    "list_of_hyperparameters = []\n",
    "for i in itertools.product(list_of_max_depths,list_of_number_of_trees):\n",
    "    list_of_hyperparameters.append(i)\n",
    "    \n",
    "print(list_of_hyperparameters)"
   ]
  },
  {
   "cell_type": "code",
   "execution_count": 1784,
   "metadata": {},
   "outputs": [],
   "source": [
    "def choose_best_hp(X_train, y_train, folds, list_of_hyperparameters):   #This function is strongly inspired by the weekly notebooks of this module\n",
    "  hyperparameter_scores = np.zeros((len(list_of_hyperparameters),))\n",
    "  \n",
    "  for i, hypcomb in enumerate(list_of_hyperparameters):\n",
    "\n",
    "    hyperparameter_scores[i] = cross_validation_score_RF(X_train, y_train, folds, int(hypcomb[1]), int(hypcomb[0]))\n",
    "    \n",
    "    print(f'hyperparameters={hypcomb}: {hyperparameter_scores[i]:f}')\n",
    "\n",
    "  best_hyperparameter_index = np.argmax(hyperparameter_scores)\n",
    "  return list_of_hyperparameters[best_hyperparameter_index]\n",
    "\n"
   ]
  },
  {
   "cell_type": "code",
   "execution_count": 1785,
   "metadata": {},
   "outputs": [
    {
     "name": "stdout",
     "output_type": "stream",
     "text": [
      "hyperparameters=(5.0, 1.0): 0.967251\n",
      "hyperparameters=(5.0, 3.0): 0.977778\n",
      "hyperparameters=(5.0, 5.0): 0.977388\n",
      "hyperparameters=(10.0, 1.0): 0.968811\n",
      "hyperparameters=(10.0, 3.0): 0.979727\n",
      "hyperparameters=(10.0, 5.0): 0.982846\n",
      "hyperparameters=(15.0, 1.0): 0.969201\n",
      "hyperparameters=(15.0, 3.0): 0.982456\n",
      "hyperparameters=(15.0, 5.0): 0.985575\n",
      "best couple of parameters: (15.0, 5.0)\n"
     ]
    }
   ],
   "source": [
    "best_parameters = choose_best_hp(X_tumour_samples, y_tumour_samples, folds_indexes_tumour_samples,list_of_hyperparameters)\n",
    "\n",
    "print('best couple of parameters:', best_parameters)"
   ]
  },
  {
   "cell_type": "markdown",
   "metadata": {},
   "source": [
    "hyperparameters=(5.0, 1.0): 0.967251\n",
    "hyperparameters=(5.0, 3.0): 0.977778\n",
    "hyperparameters=(5.0, 5.0): 0.977388\n",
    "hyperparameters=(10.0, 1.0): 0.968811\n",
    "hyperparameters=(10.0, 3.0): 0.979727\n",
    "hyperparameters=(10.0, 5.0): 0.982846\n",
    "hyperparameters=(15.0, 1.0): 0.969201\n",
    "hyperparameters=(15.0, 3.0): 0.982456\n",
    "hyperparameters=(15.0, 5.0): 0.985575\n",
    "best couple of parameters: (15.0, 5.0)"
   ]
  },
  {
   "cell_type": "markdown",
   "metadata": {},
   "source": [
    "We obtained that the couple with the greatest number of trees and the highest max depth is the best, this however is odd. This is why we will implement cross validation some other times to see what happens for greater numbers"
   ]
  },
  {
   "cell_type": "code",
   "execution_count": 1786,
   "metadata": {},
   "outputs": [
    {
     "name": "stdout",
     "output_type": "stream",
     "text": [
      "[ 5. 10. 15.]\n",
      "[(25.0, 3.0)]\n"
     ]
    }
   ],
   "source": [
    "list_of_max_depths2 = np.linspace(25,25,1)\n",
    "print(list_of_max_depths)\n",
    "\n",
    "list_of_number_of_trees2 = np.linspace(3,3,1)\n",
    "\n",
    "list_of_hyperparameters2 = []\n",
    "for i in itertools.product(list_of_max_depths2,list_of_number_of_trees2):\n",
    "    list_of_hyperparameters2.append(i)\n",
    "    \n",
    "print(list_of_hyperparameters2)"
   ]
  },
  {
   "cell_type": "code",
   "execution_count": 1787,
   "metadata": {},
   "outputs": [
    {
     "name": "stdout",
     "output_type": "stream",
     "text": [
      "hyperparameters=(25.0, 3.0): 0.981287\n",
      "best couple of parameters: (25.0, 3.0)\n"
     ]
    }
   ],
   "source": [
    "best_parameters2 = choose_best_hp(X_tumour_samples, y_tumour_samples, folds_indexes_tumour_samples,list_of_hyperparameters2)\n",
    "\n",
    "print('best couple of parameters:', best_parameters2)"
   ]
  },
  {
   "cell_type": "markdown",
   "metadata": {},
   "source": [
    "We can already see that $(25,3)$ is not better than $(15,3)$, but we can investigate further"
   ]
  },
  {
   "cell_type": "code",
   "execution_count": 1789,
   "metadata": {},
   "outputs": [
    {
     "name": "stdout",
     "output_type": "stream",
     "text": [
      "[ 5. 10. 15.]\n",
      "[(25.0, 3.0), (30.0, 3.0)]\n"
     ]
    }
   ],
   "source": [
    "list_of_max_depths3 = np.linspace(25,30,2)\n",
    "print(list_of_max_depths)\n",
    "\n",
    "list_of_number_of_trees3 = np.linspace(6,10,2)\n",
    "\n",
    "list_of_hyperparameters3 = []\n",
    "for i in itertools.product(list_of_max_depths3,list_of_number_of_trees2):\n",
    "    list_of_hyperparameters3.append(i)\n",
    "    \n",
    "print(list_of_hyperparameters3)"
   ]
  },
  {
   "cell_type": "code",
   "execution_count": 1790,
   "metadata": {},
   "outputs": [
    {
     "name": "stdout",
     "output_type": "stream",
     "text": [
      "hyperparameters=(25.0, 3.0): 0.980507\n",
      "hyperparameters=(30.0, 3.0): 0.979337\n",
      "best couple of parameters: (25.0, 3.0)\n"
     ]
    }
   ],
   "source": [
    "best_parameters3 = choose_best_hp(X_tumour_samples, y_tumour_samples, folds_indexes_tumour_samples,list_of_hyperparameters3)\n",
    "\n",
    "print('best couple of parameters:', best_parameters2)"
   ]
  },
  {
   "cell_type": "markdown",
   "metadata": {},
   "source": [
    "Is it clear that (25,3) and (30,3), despite having a greater possible depth are not better couples than some of the already explored ones.\n",
    "We could investigate further but the computational cost of this algorithm makes it slow and so it requires to time. This is the reason we will stick with the best combination of hyperparameters we have obtained until now, which is (15,5)"
   ]
  },
  {
   "cell_type": "markdown",
   "metadata": {},
   "source": [
    "### 2.2.2"
   ]
  },
  {
   "cell_type": "markdown",
   "metadata": {},
   "source": [
    "The best couple we got is (Max Depth,Number of Trees) = (15,5). We train our model with these 2 parameters. We will give as number of features the value 10."
   ]
  },
  {
   "cell_type": "code",
   "execution_count": 1807,
   "metadata": {},
   "outputs": [],
   "source": [
    "rf_optimal = train_rf(5,15,10, X_tumour_samples, y_tumour_samples, dictionary_categorical)"
   ]
  },
  {
   "cell_type": "code",
   "execution_count": 1808,
   "metadata": {},
   "outputs": [
    {
     "data": {
      "text/plain": [
       "0.9988308651597818"
      ]
     },
     "execution_count": 1808,
     "metadata": {},
     "output_type": "execute_result"
    }
   ],
   "source": [
    "rf_score(rf_optimal,X_tumour_samples,y_tumour_samples)"
   ]
  },
  {
   "cell_type": "code",
   "execution_count": 1809,
   "metadata": {},
   "outputs": [
    {
     "data": {
      "text/plain": [
       "0.975"
      ]
     },
     "execution_count": 1809,
     "metadata": {},
     "output_type": "execute_result"
    }
   ],
   "source": [
    "rf_score(rf_optimal,X_tumour_test,y_tumour_test)"
   ]
  },
  {
   "cell_type": "markdown",
   "metadata": {},
   "source": [
    "We can see that the accuracy is $0.9988308651597818$ on the training set and $0.975$ on the testing set, so the model provides a really good result.\n",
    "\n",
    "We can do a better analysis employing confusion matrices. To do so we will need to slightly modify the accuracy function. (We will take 'B' as negative and 'M' as positive)"
   ]
  },
  {
   "cell_type": "code",
   "execution_count": 1837,
   "metadata": {},
   "outputs": [],
   "source": [
    "def rf_score_CM(rf, X_test, y_test):\n",
    "  y_pred = predict_rf(rf, X_test)\n",
    "  N = len(y_test)\n",
    "  TP = 0 #True positives\n",
    "  TN = 0 #True negatives\n",
    "  FP = 0 #False positives\n",
    "  FN = 0 #False negatives\n",
    "  for j in range(N):\n",
    "    if y_pred[j] == y_test[j] and y_pred[j]== 'B': \n",
    "            TN+=1\n",
    "    elif y_pred[j] == y_test[j] and y_pred[j] == 'M':\n",
    "            TP+=1\n",
    "    elif y_pred[j] != y_test[j] and y_pred[j] == 'M':\n",
    "            FP+=1\n",
    "    elif y_pred[j] != y_test[j] and y_pred[j] == 'B':\n",
    "            FN+=1\n",
    "            \n",
    "  return np.mean(y_pred==y_test),TP,TN,FP,FN"
   ]
  },
  {
   "cell_type": "markdown",
   "metadata": {},
   "source": [
    "We calculate true positives, true negatives, false positives, false negatives"
   ]
  },
  {
   "cell_type": "code",
   "execution_count": 1838,
   "metadata": {
    "scrolled": true
   },
   "outputs": [
    {
     "name": "stdout",
     "output_type": "stream",
     "text": [
      "0.9980514419329696 420 2141 1 4\n"
     ]
    }
   ],
   "source": [
    "rf_accuracy_samples, TP_1,TN_1,FP_1,FN_1 = rf_score_CM(rf, X_tumour_samples, y_tumour_samples)\n",
    "print(rf_accuracy_samples, TP_1,TN_1,FP_1,FN_1)"
   ]
  },
  {
   "cell_type": "code",
   "execution_count": 1839,
   "metadata": {},
   "outputs": [
    {
     "name": "stdout",
     "output_type": "stream",
     "text": [
      "0.98 69 127 0 4\n"
     ]
    }
   ],
   "source": [
    "rf_accuracy_test, TP_2,TN_2,FP_2,FN_2 = rf_score_CM(rf, X_tumour_test, y_tumour_test)\n",
    "print(rf_accuracy_test, TP_2,TN_2,FP_2,FN_2)"
   ]
  },
  {
   "cell_type": "markdown",
   "metadata": {},
   "source": [
    "So on the training samples we have 420 true positive, 2141 true negatives, 1 false positives and 4 false negatives\n",
    "\n",
    "On the testing data set we have 69 true positive, 127 true negatives, 0 false positives and 4 false negatives"
   ]
  },
  {
   "cell_type": "markdown",
   "metadata": {},
   "source": [
    "We want to build the F-Score, so we need the $precision=\\frac{TP}{TP+FP}$, the $recall = \\frac{TP}{TP+FN}$"
   ]
  },
  {
   "cell_type": "code",
   "execution_count": 1851,
   "metadata": {},
   "outputs": [
    {
     "name": "stdout",
     "output_type": "stream",
     "text": [
      "precision for the training set = 0.997624703087886\n",
      "precision for the testing set = 1.0\n",
      "recall for the training set = 0.9905660377358491\n",
      "recall for the testing set = 0.9452054794520548\n"
     ]
    }
   ],
   "source": [
    "#precision for the the training set \n",
    "precision1 = TP_1/(TP_1+FP_1)\n",
    "#precision for the the test set \n",
    "precision2 = TP_2/(TP_2+FP_2)\n",
    "#recall for the the training set \n",
    "recall1 = TP_1/(TP_1+FN_1)\n",
    "#recall for the the testing set \n",
    "recall2 = TP_2/(TP_2+FN_2)\n",
    "print('precision for the training set =',precision1)\n",
    "print('precision for the testing set =',precision2)\n",
    "print('recall for the training set =',recall1)\n",
    "print('recall for the testing set =',recall2)\n"
   ]
  },
  {
   "cell_type": "markdown",
   "metadata": {},
   "source": [
    "We can notice that the precision of the testing set is 1, which is due to the fact that applying the prediction to the testing dataset we get 0 false positives."
   ]
  },
  {
   "cell_type": "code",
   "execution_count": 1850,
   "metadata": {},
   "outputs": [
    {
     "name": "stdout",
     "output_type": "stream",
     "text": [
      "F score for the training dataset =  0.9940828402366864\n",
      "F score for the testing dataset =  0.971830985915493\n"
     ]
    }
   ],
   "source": [
    "F1 = 2*(precision1*recall1)/(precision1+recall1)\n",
    "F2 = 2*(precision2*recall2)/(precision2+recall2)\n",
    "print('F score for the training dataset = ',F1)\n",
    "print('F score for the testing dataset = ',F2)\n",
    "\n"
   ]
  },
  {
   "cell_type": "markdown",
   "metadata": {},
   "source": [
    "The F1-score is a way to measure accuracy. It consists on the harmonic mean of recall and precision and is greater for the training dataset, but still it gives a good result for the testing dataset. "
   ]
  },
  {
   "cell_type": "markdown",
   "metadata": {
    "id": "vfN9uz1qy1L4"
   },
   "source": [
    "<a name=\"q23\"></a>\n",
    "\n",
    "## 2.3: Support vector machine (SVM) [^](#outline)"
   ]
  },
  {
   "cell_type": "markdown",
   "metadata": {},
   "source": [
    "### 2.3.1\n",
    "In this exercise we use Support Vector Machine (SVM). The idea behind SVM is to determinate an hyperplane to separate and classify the given samples. In particular this can be done minimizing $\\frac{1}{2}||w||^2$ subject to $y^{(i)}(x^{(i)}\\cdot w+b)\\ge 1$, $i =1,2,...,N$, where $w$ is the vector perpendicular to the direction of the hyperplane, $y^{(i)}$ is the class of the i-th element and $x^{(i)}$ represents all the 'info' we have about an element.\n",
    "\n",
    "We will use the soft margin version of SVM, which is used to overcome imperfections encountered during the process of separation. In particular to do this we will need to solve the problem:\n",
    "\n",
    "$\\min_{w}\\frac{1}{2}||w||^2+\\frac{\\lambda}{N} \\sum_i^N C^{(i)}$, subject to $1-y^{(i)}(w\\cdot x^{(i)}+b)\\le C^{(i)}$ for $i=1,...,N$\n",
    "\n",
    "where $C^{(i)} = max \\{0,1-(x^{(i)}\\cdot w+b)y^{(i)}\\}$.\n",
    "\n",
    "$\\lambda$ is the hardness hyper-parameter.\n",
    "\n",
    "We will use 5 fold cross validation to find the optimal hyperparameter."
   ]
  },
  {
   "cell_type": "markdown",
   "metadata": {},
   "source": [
    "We will use the functions provided in the weekly notebooks of the module"
   ]
  },
  {
   "cell_type": "code",
   "execution_count": 1890,
   "metadata": {},
   "outputs": [],
   "source": [
    "#Training\n",
    "Tumour_samples = df_tumour_samples.to_numpy()\n",
    "y_tumour_samples = Tumour_samples[:,31] # creating the array with the classifications (B or M)\n",
    "N_tumour_samples = len(y_tumour_samples)\n",
    "X_tumour_samples = Tumour_samples[:,1:31] #creating a matrix storing the input data\n",
    "\n",
    "\n",
    "#We standardise\n",
    "X_tumour_samples = (X_tumour_samples-np.mean(X_tumour_samples))/np.std(X_tumour_samples)\n",
    "\n",
    "#We augment\n",
    "X_tumour_samples_SVM = np.hstack([X_tumour_samples,1.0 * np.ones((len(y_tumour_samples),1))])\n",
    "\n",
    "#Testing\n",
    "Tumour_test = df_tumour_test.to_numpy()\n",
    "y_tumour_test = Tumour_test[:,31] # creating the array with the classifications (B or M)\n",
    "N_tumour_test = len(y_tumour_test)\n",
    "X_tumour_test = Tumour_test[:,1:31] #creating a matrix storing the input data\n",
    "\n",
    "\n",
    "#We standardise\n",
    "X_tumour_test = (X_tumour_test-np.mean(X_tumour_test))/np.std(X_tumour_test)\n",
    "\n",
    "\n",
    "#We augment\n",
    "X_tumour_test_SVM = np.hstack([X_tumour_test,1.0 * np.ones((len(y_tumour_test),1))])\n"
   ]
  },
  {
   "cell_type": "markdown",
   "metadata": {},
   "source": [
    "We define the cost function"
   ]
  },
  {
   "cell_type": "code",
   "execution_count": 1891,
   "metadata": {},
   "outputs": [],
   "source": [
    "def compute_cost(w, X, y, regul_strength=1e5):\n",
    "    n = X.shape[0]\n",
    "    distances = 1 - y * (X @ w)  \n",
    "    distances[distances < 0] = 0  # equivalent to max(0, distance)\n",
    "    hinge = regul_strength * distances.mean()\n",
    "\n",
    "    # calculate cost\n",
    "    return 0.5 * np.dot(w, w) + hinge"
   ]
  },
  {
   "cell_type": "markdown",
   "metadata": {},
   "source": [
    "Function to calculate the gradient in order to implement stochastic gradient descendent"
   ]
  },
  {
   "cell_type": "code",
   "execution_count": 1900,
   "metadata": {},
   "outputs": [],
   "source": [
    "def calculate_cost_gradient(w, X_batch, y_batch, regul_strength=1e5):\n",
    "    # if only one example is passed\n",
    "    if type(y_batch) == np.float64:\n",
    "        y_batch = np.asarray([y_batch])\n",
    "        X_batch = np.asarray([X_batch])  # gives multidimensional array\n",
    "\n",
    "    distance = 1 - (y_batch * (X_batch @ w))\n",
    "    dw = np.zeros(len(w), dtype = float)\n",
    "\n",
    "    for ind, d in enumerate(distance):\n",
    "        if max(0, d)==0:\n",
    "            di = w\n",
    "            di = di.astype(float)\n",
    "        else:\n",
    "            di = w - (regul_strength * y_batch[ind] * X_batch[ind])\n",
    "            di = di.astype(float)\n",
    "        dw += di\n",
    "\n",
    "    return dw/len(y_batch)  # average"
   ]
  },
  {
   "cell_type": "markdown",
   "metadata": {},
   "source": [
    "stochastic gradient descendent"
   ]
  },
  {
   "cell_type": "code",
   "execution_count": 1901,
   "metadata": {},
   "outputs": [],
   "source": [
    "def sgd(X, y, batch_size=16, max_iterations=2000, stop_criterion=0.01, learning_rate=1e-5, regul_strength=1e5, print_outcome=False):\n",
    "    # initialise zero weights\n",
    "    weights = np.zeros(X.shape[1])\n",
    "    nth = 0\n",
    "    # initialise starting cost as infinity\n",
    "    prev_cost = np.inf\n",
    "    \n",
    "    # stochastic gradient descent\n",
    "    indices = np.arange(len(y))\n",
    "    for iteration in range(1, max_iterations):\n",
    "        # shuffle to prevent repeating update cycles\n",
    "        np.random.shuffle(indices)\n",
    "        batch_idx = indices[:batch_size]\n",
    "        X_b, y_b = X[batch_idx], y[batch_idx]\n",
    "        for xi, yi in zip(X_b, y_b):\n",
    "            ascent = calculate_cost_gradient(weights, xi, yi, regul_strength) \n",
    "            weights = weights - (learning_rate * ascent)\n",
    "\n",
    "        # convergence check on 2^n'th iteration\n",
    "        if iteration==2**nth or iteration==max_iterations-1:\n",
    "            # compute cost\n",
    "            cost = compute_cost(weights, X, y, regul_strength)\n",
    "            if print_outcome:\n",
    "                print(\"Iteration is: {}, Cost is: {}\".format(iteration, cost))\n",
    "            # stop criterion\n",
    "            if abs(prev_cost - cost) < stop_criterion * prev_cost:\n",
    "                return weights\n",
    "              \n",
    "            prev_cost = cost\n",
    "            nth += 1\n",
    "    \n",
    "    return weights"
   ]
  },
  {
   "cell_type": "markdown",
   "metadata": {},
   "source": [
    "We need a function to transform our 'diagnosis vectors' in vectors of +1 and -1. We will give +1 for 'M' and -1 for 'B'"
   ]
  },
  {
   "cell_type": "code",
   "execution_count": 1902,
   "metadata": {},
   "outputs": [],
   "source": [
    "def transform_diagnosis(y):\n",
    "    #taked a vector of diagnosis and return a vector long the same containing +1 instead of 'M' and -1 instead of 'B'\n",
    "    N = len(y)\n",
    "    y_tr = np.zeros(N)\n",
    "    for i in range(N):\n",
    "        if y[i] == 'M':\n",
    "            y_tr[i]+=1.0\n",
    "        elif y[i] == 'B':\n",
    "            y_tr[i]-=1.0\n",
    "    return y_tr"
   ]
  },
  {
   "cell_type": "code",
   "execution_count": 1903,
   "metadata": {},
   "outputs": [],
   "source": [
    "y_tumour_samples_tr = transform_diagnosis(y_tumour_samples)\n",
    "y_tumour_test_tr = transform_diagnosis(y_tumour_test)"
   ]
  },
  {
   "cell_type": "code",
   "execution_count": 1904,
   "metadata": {},
   "outputs": [
    {
     "name": "stdout",
     "output_type": "stream",
     "text": [
      "Iteration is: 1, Cost is: 1061.701698081285\n",
      "Iteration is: 2, Cost is: 434.3565844210795\n",
      "Iteration is: 4, Cost is: 384.2932850652742\n",
      "Iteration is: 8, Cost is: 323.57924080211563\n",
      "Iteration is: 16, Cost is: 205.35860215972997\n",
      "Iteration is: 32, Cost is: 143.11211625050632\n",
      "Iteration is: 64, Cost is: 130.9301494831552\n",
      "Iteration is: 128, Cost is: 155.9039585351026\n",
      "Iteration is: 256, Cost is: 122.98026353047862\n",
      "Iteration is: 512, Cost is: 135.01091592749418\n",
      "Iteration is: 1024, Cost is: 121.84193931690503\n",
      "Iteration is: 1999, Cost is: 123.34135771042195\n",
      "Training finished.\n"
     ]
    }
   ],
   "source": [
    "# train the model\n",
    "w = sgd(X_tumour_samples_SVM, y_tumour_samples_tr, batch_size=32, max_iterations=2000, stop_criterion=0.01, learning_rate=1e-5, regul_strength=1e3, print_outcome=True)\n",
    "print(\"Training finished.\")"
   ]
  },
  {
   "cell_type": "markdown",
   "metadata": {},
   "source": [
    "Accuracy function"
   ]
  },
  {
   "cell_type": "code",
   "execution_count": 1905,
   "metadata": {},
   "outputs": [],
   "source": [
    "def score_SVM(w, X, y):\n",
    "    y_preds = np.sign(X @ w)\n",
    "    return np.mean(y_preds == y)"
   ]
  },
  {
   "cell_type": "markdown",
   "metadata": {},
   "source": [
    "Cross validation"
   ]
  },
  {
   "cell_type": "code",
   "execution_count": 1927,
   "metadata": {},
   "outputs": [],
   "source": [
    "def cross_validation_score_SVM(X_train, y_train, folds,regul_strength):\n",
    "    #performs 5 cross validation and returns the average accuracy\n",
    "  scores = []\n",
    "  for i in range(len(folds)):\n",
    "    val_indexes = folds[i]\n",
    "    train_indexes = list(set(range(y_train.shape[0]-1)) - set(val_indexes))\n",
    "    \n",
    "    X_train_i = X_train[train_indexes, :]\n",
    "    y_train_i = y_train[train_indexes]\n",
    "\n",
    "\n",
    "    X_val_i = X_train[val_indexes, :] \n",
    "    y_val_i = y_train[val_indexes] \n",
    "    \n",
    "    w = sgd(X_train_i, y_train_i, batch_size=32, max_iterations=2000, stop_criterion=0.01, learning_rate=1e-5, regul_strength = regul_strength, print_outcome=False)\n",
    "\n",
    "\n",
    "    scoreSVM = score_SVM(w,X_val_i,y_val_i)\n",
    "    scores.append(scoreSVM)\n",
    "\n",
    "  # Return the average score\n",
    "  return np.mean(scores) "
   ]
  },
  {
   "cell_type": "code",
   "execution_count": 1928,
   "metadata": {},
   "outputs": [],
   "source": [
    "def choose_best_lambda_SVM(X_train, y_train, folds, lambda_range):   #This function is strongly inspired by the weekly notebooks of this module\n",
    "  lambda_scores = np.zeros((len(lambda_range),))\n",
    "  \n",
    "  for i, lamb in enumerate(lambda_range):\n",
    "    lambda_scores[i] = cross_validation_score_SVM(X_train, y_train, folds, lamb)\n",
    "    print(f'Hyperparameter lambda={lamb}: {lambda_scores[i]:f}')\n",
    "\n",
    "  best_lambda_index = np.argmax(lambda_scores)\n",
    "  return lambda_range[best_lambda_index]\n",
    "\n"
   ]
  },
  {
   "cell_type": "code",
   "execution_count": 2010,
   "metadata": {},
   "outputs": [],
   "source": [
    "list_SVM_param = np.linspace(0.00000001,100,100)\n"
   ]
  },
  {
   "cell_type": "code",
   "execution_count": 2011,
   "metadata": {},
   "outputs": [
    {
     "name": "stdout",
     "output_type": "stream",
     "text": [
      "Hyperparameter lambda=1e-08: 0.834698\n",
      "Hyperparameter lambda=1.01010102: 0.834698\n",
      "Hyperparameter lambda=2.02020203: 0.834698\n",
      "Hyperparameter lambda=3.03030304: 0.834698\n",
      "Hyperparameter lambda=4.04040405: 0.834698\n",
      "Hyperparameter lambda=5.05050506: 0.834698\n",
      "Hyperparameter lambda=6.06060607: 0.834698\n",
      "Hyperparameter lambda=7.070707080000001: 0.861209\n",
      "Hyperparameter lambda=8.080808090000001: 0.881481\n",
      "Hyperparameter lambda=9.090909100000001: 0.885770\n",
      "Hyperparameter lambda=10.10101011: 0.869006\n",
      "Hyperparameter lambda=11.111111120000002: 0.885380\n",
      "Hyperparameter lambda=12.121212130000002: 0.902534\n",
      "Hyperparameter lambda=13.131313140000001: 0.909162\n",
      "Hyperparameter lambda=14.141414150000003: 0.891228\n",
      "Hyperparameter lambda=15.151515160000002: 0.913840\n",
      "Hyperparameter lambda=16.161616170000002: 0.934893\n",
      "Hyperparameter lambda=17.17171718: 0.934113\n",
      "Hyperparameter lambda=18.18181819: 0.936062\n",
      "Hyperparameter lambda=19.1919192: 0.934503\n",
      "Hyperparameter lambda=20.20202021: 0.911891\n",
      "Hyperparameter lambda=21.212121220000004: 0.935673\n",
      "Hyperparameter lambda=22.222222230000003: 0.918908\n",
      "Hyperparameter lambda=23.232323240000003: 0.934503\n",
      "Hyperparameter lambda=24.242424250000003: 0.913840\n",
      "Hyperparameter lambda=25.252525260000002: 0.914230\n",
      "Hyperparameter lambda=26.262626270000002: 0.916959\n",
      "Hyperparameter lambda=27.27272728: 0.916959\n",
      "Hyperparameter lambda=28.282828290000005: 0.938012\n",
      "Hyperparameter lambda=29.292929300000004: 0.938791\n",
      "Hyperparameter lambda=30.303030310000004: 0.939571\n",
      "Hyperparameter lambda=31.313131320000004: 0.939181\n",
      "Hyperparameter lambda=32.32323233: 0.940741\n",
      "Hyperparameter lambda=33.33333334: 0.923977\n",
      "Hyperparameter lambda=34.34343435: 0.939571\n",
      "Hyperparameter lambda=35.35353536: 0.942300\n",
      "Hyperparameter lambda=36.36363637: 0.942300\n",
      "Hyperparameter lambda=37.37373738: 0.940351\n",
      "Hyperparameter lambda=38.38383839: 0.925926\n",
      "Hyperparameter lambda=39.3939394: 0.943860\n",
      "Hyperparameter lambda=40.40404041: 0.945419\n",
      "Hyperparameter lambda=41.41414142000001: 0.944639\n",
      "Hyperparameter lambda=42.42424243000001: 0.943470\n",
      "Hyperparameter lambda=43.434343440000006: 0.941910\n",
      "Hyperparameter lambda=44.444444450000006: 0.944250\n",
      "Hyperparameter lambda=45.454545460000006: 0.943080\n",
      "Hyperparameter lambda=46.464646470000005: 0.918129\n",
      "Hyperparameter lambda=47.474747480000005: 0.943860\n",
      "Hyperparameter lambda=48.484848490000005: 0.948538\n",
      "Hyperparameter lambda=49.494949500000004: 0.855361\n",
      "Hyperparameter lambda=50.505050510000004: 0.945419\n",
      "Hyperparameter lambda=51.51515152: 0.897076\n",
      "Hyperparameter lambda=52.52525253: 0.946199\n",
      "Hyperparameter lambda=53.53535354: 0.946199\n",
      "Hyperparameter lambda=54.54545455: 0.950097\n",
      "Hyperparameter lambda=55.55555556: 0.942690\n",
      "Hyperparameter lambda=56.56565657000001: 0.946979\n",
      "Hyperparameter lambda=57.57575758000001: 0.946979\n",
      "Hyperparameter lambda=58.58585859000001: 0.944250\n",
      "Hyperparameter lambda=59.59595960000001: 0.946199\n",
      "Hyperparameter lambda=60.60606061000001: 0.945029\n",
      "Hyperparameter lambda=61.61616162000001: 0.949318\n",
      "Hyperparameter lambda=62.62626263000001: 0.949708\n",
      "Hyperparameter lambda=63.636363640000006: 0.946589\n",
      "Hyperparameter lambda=64.64646465: 0.947368\n",
      "Hyperparameter lambda=65.65656566: 0.949708\n",
      "Hyperparameter lambda=66.66666667: 0.930604\n",
      "Hyperparameter lambda=67.67676768: 0.948538\n",
      "Hyperparameter lambda=68.68686869: 0.948148\n",
      "Hyperparameter lambda=69.6969697: 0.947368\n",
      "Hyperparameter lambda=70.70707071: 0.947368\n",
      "Hyperparameter lambda=71.71717172: 0.946589\n",
      "Hyperparameter lambda=72.72727273: 0.882261\n",
      "Hyperparameter lambda=73.73737374: 0.945029\n",
      "Hyperparameter lambda=74.74747475: 0.952827\n",
      "Hyperparameter lambda=75.75757576: 0.948148\n",
      "Hyperparameter lambda=76.76767677: 0.946979\n",
      "Hyperparameter lambda=77.77777778: 0.952047\n",
      "Hyperparameter lambda=78.78787879: 0.949708\n",
      "Hyperparameter lambda=79.7979798: 0.952047\n",
      "Hyperparameter lambda=80.80808080999999: 0.948928\n",
      "Hyperparameter lambda=81.81818182: 0.950877\n",
      "Hyperparameter lambda=82.82828283: 0.951657\n",
      "Hyperparameter lambda=83.83838384: 0.951267\n",
      "Hyperparameter lambda=84.84848485: 0.808967\n",
      "Hyperparameter lambda=85.85858586: 0.945029\n",
      "Hyperparameter lambda=86.86868687: 0.949318\n",
      "Hyperparameter lambda=87.87878788: 0.951267\n",
      "Hyperparameter lambda=88.88888889: 0.953996\n",
      "Hyperparameter lambda=89.8989899: 0.948538\n",
      "Hyperparameter lambda=90.90909091: 0.953216\n",
      "Hyperparameter lambda=91.91919192: 0.950097\n",
      "Hyperparameter lambda=92.92929293: 0.946589\n",
      "Hyperparameter lambda=93.93939394: 0.950097\n",
      "Hyperparameter lambda=94.94949495: 0.946589\n",
      "Hyperparameter lambda=95.95959596: 0.949318\n",
      "Hyperparameter lambda=96.96969697: 0.948538\n",
      "Hyperparameter lambda=97.97979798: 0.953996\n",
      "Hyperparameter lambda=98.98989899: 0.946979\n",
      "Hyperparameter lambda=100.0: 0.949318\n",
      "best_lambda: 88.88888889\n"
     ]
    }
   ],
   "source": [
    "best_lambda_SVM = choose_best_lambda_SVM(X_tumour_samples_SVM, y_tumour_samples_tr, folds_indexes_tumour_samples, list_SVM_param)\n",
    "\n",
    "print('best_lambda:', best_lambda_SVM)"
   ]
  },
  {
   "cell_type": "markdown",
   "metadata": {},
   "source": [
    "The optimal parameter from the one we checked is $\\lambda = 88.88888889$"
   ]
  },
  {
   "cell_type": "markdown",
   "metadata": {},
   "source": [
    "The hyperparameter $\\lambda$ is such that for large values we will go for 'better fitting plane', but we will have smaller margines. On the opposite smaller $\\lambda$ gives worse 'fitting plan', but with larger margins."
   ]
  },
  {
   "cell_type": "markdown",
   "metadata": {},
   "source": [
    "We can plot for lambda in [0,1000000] the average accuracy (obtained with cross validation). We get the following plot"
   ]
  },
  {
   "cell_type": "code",
   "execution_count": 1940,
   "metadata": {},
   "outputs": [
    {
     "data": {
      "text/plain": [
       "[<matplotlib.lines.Line2D at 0x7fdfb8106ad0>]"
      ]
     },
     "execution_count": 1940,
     "metadata": {},
     "output_type": "execute_result"
    },
    {
     "data": {
      "image/png": "[encoded data removed]",
      "text/plain": [
       "<Figure size 432x288 with 1 Axes>"
      ]
     },
     "metadata": {
      "needs_background": "light"
     },
     "output_type": "display_data"
    }
   ],
   "source": [
    "#plotting accuracy vs lambda\n",
    "l_SVM1 = [] #to store the values of the accuracy\n",
    "m_SVM1 = [] #to store the values of the parameter lambda\n",
    "for i in range(0,1000000,10000):\n",
    "    lambda_val = i\n",
    "    m_SVM1.append(lambda_val)\n",
    "    l_SVM1.append(cross_validation_score_SVM(X_tumour_samples_SVM, y_tumour_samples_tr, folds_indexes_tumour_samples, lambda_val)) #calculating accuracy and appending it to l_knn1\n",
    "plt.plot(m_SVM1,l_SVM1)"
   ]
  },
  {
   "cell_type": "markdown",
   "metadata": {},
   "source": [
    "Now we plot for lambda in [0,20], and we get the following plot of average accuracies. We can notice how the accuracies are lower for small values of lambda"
   ]
  },
  {
   "cell_type": "code",
   "execution_count": 1948,
   "metadata": {},
   "outputs": [
    {
     "data": {
      "text/plain": [
       "[<matplotlib.lines.Line2D at 0x7fdffdc557d0>]"
      ]
     },
     "execution_count": 1948,
     "metadata": {},
     "output_type": "execute_result"
    },
    {
     "data": {
      "image/png": "[encoded data removed]",
      "text/plain": [
       "<Figure size 432x288 with 1 Axes>"
      ]
     },
     "metadata": {
      "needs_background": "light"
     },
     "output_type": "display_data"
    }
   ],
   "source": [
    "#plotting accuracy vs lambda\n",
    "l_SVM2 = [] #to store the values of the accuracy\n",
    "m_SVM2 = [] #to store the values of the parameter lambda\n",
    "for i in range(1,400,5):\n",
    "    lambda_val = 0.05*i\n",
    "    m_SVM2.append(lambda_val)\n",
    "    l_SVM2.append(cross_validation_score_SVM(X_tumour_samples_SVM, y_tumour_samples_tr, folds_indexes_tumour_samples, lambda_val)) #calculating accuracy and appending it to l_knn1\n",
    "plt.plot(m_SVM2,l_SVM2)"
   ]
  },
  {
   "cell_type": "code",
   "execution_count": null,
   "metadata": {},
   "outputs": [],
   "source": []
  },
  {
   "cell_type": "code",
   "execution_count": null,
   "metadata": {},
   "outputs": [],
   "source": []
  },
  {
   "cell_type": "markdown",
   "metadata": {},
   "source": [
    "### 2.3.2"
   ]
  },
  {
   "cell_type": "markdown",
   "metadata": {},
   "source": [
    "We define a function that counts the true/false positive and true false/negatives and gives as a result $FPR = \\frac{FP}{TN+FP}$, and $TPR = \\frac{TP}{TP+FN}$"
   ]
  },
  {
   "cell_type": "code",
   "execution_count": 2016,
   "metadata": {},
   "outputs": [],
   "source": [
    "def score_SVM_CM(w, X, y):\n",
    "    y_pred = np.sign(X @ w)\n",
    "    N = len(y)\n",
    "    TP = 0 #True positives\n",
    "    TN = 0 #True negatives\n",
    "    FP = 0 #False positives\n",
    "    FN = 0 #False negatives\n",
    "    for j in range(N):\n",
    "        if y_pred[j] == y[j] and y_pred[j]== -1.0: \n",
    "            TN+=1\n",
    "        elif y_pred[j] == y[j] and y_pred[j] == 1.0:\n",
    "            TP+=1\n",
    "        elif y_pred[j] != y[j] and y_pred[j] == 1.0:\n",
    "            FP+=1\n",
    "        elif y_pred[j] != y[j] and y_pred[j] == -1.0:\n",
    "            FN+=1\n",
    "    if (TP + FN) == 0 or (TN + FP) == 0:    #avoiding division by zero\n",
    "        TPR = 'no'\n",
    "        FPR = 'no'\n",
    "    else:\n",
    "        TPR = TP / (TP + FN) \n",
    "        FPR = FP / (TN + FP)\n",
    "    return TPR, FPR"
   ]
  },
  {
   "cell_type": "code",
   "execution_count": null,
   "metadata": {},
   "outputs": [],
   "source": []
  },
  {
   "cell_type": "code",
   "execution_count": 2006,
   "metadata": {},
   "outputs": [],
   "source": [
    "list_TPR = []\n",
    "list_FPR = []\n",
    "lmhs_list = np.linspace(0.001,49999,320)\n",
    "for i in range (319):\n",
    "    w = sgd(X_tumour_samples_SVM, y_tumour_samples_tr, batch_size=32, max_iterations=2000, stop_criterion=0.01, learning_rate=1e-5, regul_strength = lmhs_list[i], print_outcome=False)\n",
    "    TPR,FPR = score_SVM_CM(w, X_tumour_test_SVM, y_tumour_test_tr)\n",
    "    if TPR != 'no' or FPR != 'no':\n",
    "        list_TPR.append(TPR)\n",
    "        list_FPR.append(FPR)\n"
   ]
  },
  {
   "cell_type": "markdown",
   "metadata": {},
   "source": [
    "We get TPR and FPR we get for our optimal $\\lambda$: (notice that we got our optimal parameters checking less possible lambdas than the ones we are using for the ROC)"
   ]
  },
  {
   "cell_type": "code",
   "execution_count": 2017,
   "metadata": {},
   "outputs": [],
   "source": [
    "list_TPR_opt = []\n",
    "list_FPR_opt = []\n",
    "w_optimal = sgd(X_tumour_samples_SVM, y_tumour_samples_tr, batch_size=32, max_iterations=2000, stop_criterion=0.01, learning_rate=1e-5, regul_strength = 88.88888889, print_outcome=False)\n",
    "TPR_opt,FPR_opt = score_SVM_CM(w_optimal, X_tumour_test_SVM, y_tumour_test_tr)\n",
    "list_TPR_opt.append(TPR_opt)\n",
    "list_FPR_opt.append(FPR_opt)"
   ]
  },
  {
   "cell_type": "code",
   "execution_count": 2051,
   "metadata": {},
   "outputs": [
    {
     "data": {
      "image/png": "[encoded data removed]",
      "text/plain": [
       "<Figure size 864x576 with 1 Axes>"
      ]
     },
     "metadata": {
      "needs_background": "light"
     },
     "output_type": "display_data"
    }
   ],
   "source": [
    "plt.figure(figsize=(12,8))\n",
    "plt.title(f\"Receiver Operating Curve\", size=20)\n",
    "plt.scatter(list_FPR, list_TPR)\n",
    "plt.scatter(list_FPR_opt, list_TPR_opt)\n",
    "plt.plot([0, 1], [0, 1],'r--')\n",
    "plt.xlim([0, 1])\n",
    "plt.ylim([0, 1])\n",
    "plt.ylabel('TPR', size=20)\n",
    "plt.xlabel('FPR', size=20)\n",
    "plt.show()"
   ]
  },
  {
   "cell_type": "markdown",
   "metadata": {},
   "source": [
    "We can see that the 'scatter points' representing our ROC (I decided to scatter to have a better view) in blue.They are above the diagonal line, so the model is doing better than a random model. Furthermore our 'curve' goes near to the point (0,1), which is what we would like to see ideally.\n",
    "The point we get for our optimal $\\lambda$ is the one in orange, and how we can see it still is above the red line. We notice that maybe we could have optained something better but we computer our optimal lambda searching it in [0,100], while for the plot of ROC we used a larger set."
   ]
  },
  {
   "cell_type": "markdown",
   "metadata": {},
   "source": [
    "### 2.3.3"
   ]
  },
  {
   "cell_type": "markdown",
   "metadata": {},
   "source": [
    "We import the data $\\texttt{tumour_samples_bal.csv}$ with the balanced data set"
   ]
  },
  {
   "cell_type": "code",
   "execution_count": 2022,
   "metadata": {},
   "outputs": [
    {
     "data": {
      "text/html": [
       "<div>\n",
       "<style scoped>\n",
       "    .dataframe tbody tr th:only-of-type {\n",
       "        vertical-align: middle;\n",
       "    }\n",
       "\n",
       "    .dataframe tbody tr th {\n",
       "        vertical-align: top;\n",
       "    }\n",
       "\n",
       "    .dataframe thead th {\n",
       "        text-align: right;\n",
       "    }\n",
       "</style>\n",
       "<table border=\"1\" class=\"dataframe\">\n",
       "  <thead>\n",
       "    <tr style=\"text-align: right;\">\n",
       "      <th></th>\n",
       "      <th>Unnamed: 0</th>\n",
       "      <th>n1_radius</th>\n",
       "      <th>n1_texture</th>\n",
       "      <th>n1_perimeter</th>\n",
       "      <th>n1_area</th>\n",
       "      <th>n1_smoothness</th>\n",
       "      <th>n1_compactness</th>\n",
       "      <th>n1_concavity</th>\n",
       "      <th>n1_concave_points</th>\n",
       "      <th>n1_symmetry</th>\n",
       "      <th>...</th>\n",
       "      <th>n3_texture</th>\n",
       "      <th>n3_perimeter</th>\n",
       "      <th>n3_area</th>\n",
       "      <th>n3_smoothness</th>\n",
       "      <th>n3_compactness</th>\n",
       "      <th>n3_concavity</th>\n",
       "      <th>n3_concave_points</th>\n",
       "      <th>n3_symmetry</th>\n",
       "      <th>n3_fractal_dimension</th>\n",
       "      <th>DIAGNOSIS</th>\n",
       "    </tr>\n",
       "  </thead>\n",
       "  <tbody>\n",
       "    <tr>\n",
       "      <th>0</th>\n",
       "      <td>0</td>\n",
       "      <td>14.530395</td>\n",
       "      <td>20.421653</td>\n",
       "      <td>85.363155</td>\n",
       "      <td>675.768723</td>\n",
       "      <td>0.108968</td>\n",
       "      <td>0.160971</td>\n",
       "      <td>0.177338</td>\n",
       "      <td>0.076638</td>\n",
       "      <td>0.211611</td>\n",
       "      <td>...</td>\n",
       "      <td>31.530430</td>\n",
       "      <td>117.452224</td>\n",
       "      <td>995.295094</td>\n",
       "      <td>0.149985</td>\n",
       "      <td>0.361014</td>\n",
       "      <td>0.507859</td>\n",
       "      <td>0.194167</td>\n",
       "      <td>0.364020</td>\n",
       "      <td>0.108554</td>\n",
       "      <td>M</td>\n",
       "    </tr>\n",
       "    <tr>\n",
       "      <th>1</th>\n",
       "      <td>1</td>\n",
       "      <td>15.716418</td>\n",
       "      <td>11.961019</td>\n",
       "      <td>102.643405</td>\n",
       "      <td>676.233715</td>\n",
       "      <td>0.126132</td>\n",
       "      <td>0.156888</td>\n",
       "      <td>0.199903</td>\n",
       "      <td>0.109296</td>\n",
       "      <td>0.202276</td>\n",
       "      <td>...</td>\n",
       "      <td>17.016180</td>\n",
       "      <td>118.556593</td>\n",
       "      <td>1073.826428</td>\n",
       "      <td>0.156691</td>\n",
       "      <td>0.391081</td>\n",
       "      <td>0.612940</td>\n",
       "      <td>0.180875</td>\n",
       "      <td>0.302284</td>\n",
       "      <td>0.106598</td>\n",
       "      <td>M</td>\n",
       "    </tr>\n",
       "    <tr>\n",
       "      <th>2</th>\n",
       "      <td>2</td>\n",
       "      <td>21.137170</td>\n",
       "      <td>28.522843</td>\n",
       "      <td>123.110775</td>\n",
       "      <td>1350.096674</td>\n",
       "      <td>0.091688</td>\n",
       "      <td>0.105862</td>\n",
       "      <td>0.168914</td>\n",
       "      <td>0.076865</td>\n",
       "      <td>0.136646</td>\n",
       "      <td>...</td>\n",
       "      <td>36.202911</td>\n",
       "      <td>161.032929</td>\n",
       "      <td>1670.209793</td>\n",
       "      <td>0.114542</td>\n",
       "      <td>0.243286</td>\n",
       "      <td>0.404950</td>\n",
       "      <td>0.149961</td>\n",
       "      <td>0.274891</td>\n",
       "      <td>0.082890</td>\n",
       "      <td>M</td>\n",
       "    </tr>\n",
       "    <tr>\n",
       "      <th>3</th>\n",
       "      <td>3</td>\n",
       "      <td>20.985951</td>\n",
       "      <td>21.139095</td>\n",
       "      <td>123.856163</td>\n",
       "      <td>1214.287779</td>\n",
       "      <td>0.102580</td>\n",
       "      <td>0.117669</td>\n",
       "      <td>0.198974</td>\n",
       "      <td>0.098910</td>\n",
       "      <td>0.204487</td>\n",
       "      <td>...</td>\n",
       "      <td>28.726188</td>\n",
       "      <td>146.057844</td>\n",
       "      <td>1410.132241</td>\n",
       "      <td>0.120466</td>\n",
       "      <td>0.226293</td>\n",
       "      <td>0.363629</td>\n",
       "      <td>0.183632</td>\n",
       "      <td>0.252874</td>\n",
       "      <td>0.072986</td>\n",
       "      <td>M</td>\n",
       "    </tr>\n",
       "    <tr>\n",
       "      <th>4</th>\n",
       "      <td>4</td>\n",
       "      <td>22.136720</td>\n",
       "      <td>23.129660</td>\n",
       "      <td>137.379083</td>\n",
       "      <td>1304.114821</td>\n",
       "      <td>0.096771</td>\n",
       "      <td>0.147616</td>\n",
       "      <td>0.262871</td>\n",
       "      <td>0.129781</td>\n",
       "      <td>0.216392</td>\n",
       "      <td>...</td>\n",
       "      <td>26.846823</td>\n",
       "      <td>172.665832</td>\n",
       "      <td>1815.393844</td>\n",
       "      <td>0.124286</td>\n",
       "      <td>0.361435</td>\n",
       "      <td>0.677388</td>\n",
       "      <td>0.205779</td>\n",
       "      <td>0.311112</td>\n",
       "      <td>0.070464</td>\n",
       "      <td>M</td>\n",
       "    </tr>\n",
       "    <tr>\n",
       "      <th>...</th>\n",
       "      <td>...</td>\n",
       "      <td>...</td>\n",
       "      <td>...</td>\n",
       "      <td>...</td>\n",
       "      <td>...</td>\n",
       "      <td>...</td>\n",
       "      <td>...</td>\n",
       "      <td>...</td>\n",
       "      <td>...</td>\n",
       "      <td>...</td>\n",
       "      <td>...</td>\n",
       "      <td>...</td>\n",
       "      <td>...</td>\n",
       "      <td>...</td>\n",
       "      <td>...</td>\n",
       "      <td>...</td>\n",
       "      <td>...</td>\n",
       "      <td>...</td>\n",
       "      <td>...</td>\n",
       "      <td>...</td>\n",
       "      <td>...</td>\n",
       "    </tr>\n",
       "    <tr>\n",
       "      <th>795</th>\n",
       "      <td>795</td>\n",
       "      <td>12.586262</td>\n",
       "      <td>17.042080</td>\n",
       "      <td>84.933506</td>\n",
       "      <td>558.765229</td>\n",
       "      <td>0.091761</td>\n",
       "      <td>0.056785</td>\n",
       "      <td>0.043764</td>\n",
       "      <td>0.017047</td>\n",
       "      <td>0.201145</td>\n",
       "      <td>...</td>\n",
       "      <td>23.483917</td>\n",
       "      <td>86.850747</td>\n",
       "      <td>582.852909</td>\n",
       "      <td>0.122505</td>\n",
       "      <td>0.150139</td>\n",
       "      <td>0.162602</td>\n",
       "      <td>0.068105</td>\n",
       "      <td>0.366096</td>\n",
       "      <td>0.073594</td>\n",
       "      <td>B</td>\n",
       "    </tr>\n",
       "    <tr>\n",
       "      <th>796</th>\n",
       "      <td>796</td>\n",
       "      <td>11.803064</td>\n",
       "      <td>29.143953</td>\n",
       "      <td>79.909893</td>\n",
       "      <td>432.828557</td>\n",
       "      <td>0.082877</td>\n",
       "      <td>0.050179</td>\n",
       "      <td>0.013556</td>\n",
       "      <td>0.019917</td>\n",
       "      <td>0.185930</td>\n",
       "      <td>...</td>\n",
       "      <td>34.489916</td>\n",
       "      <td>88.370384</td>\n",
       "      <td>575.936260</td>\n",
       "      <td>0.097904</td>\n",
       "      <td>0.109149</td>\n",
       "      <td>0.037035</td>\n",
       "      <td>0.040736</td>\n",
       "      <td>0.228439</td>\n",
       "      <td>0.068118</td>\n",
       "      <td>B</td>\n",
       "    </tr>\n",
       "    <tr>\n",
       "      <th>797</th>\n",
       "      <td>797</td>\n",
       "      <td>9.133855</td>\n",
       "      <td>20.587504</td>\n",
       "      <td>61.884174</td>\n",
       "      <td>230.260769</td>\n",
       "      <td>0.105125</td>\n",
       "      <td>0.072745</td>\n",
       "      <td>0.018446</td>\n",
       "      <td>0.012392</td>\n",
       "      <td>0.172465</td>\n",
       "      <td>...</td>\n",
       "      <td>30.955895</td>\n",
       "      <td>65.333249</td>\n",
       "      <td>370.693374</td>\n",
       "      <td>0.158548</td>\n",
       "      <td>0.166818</td>\n",
       "      <td>0.062229</td>\n",
       "      <td>0.066901</td>\n",
       "      <td>0.292290</td>\n",
       "      <td>0.094359</td>\n",
       "      <td>B</td>\n",
       "    </tr>\n",
       "    <tr>\n",
       "      <th>798</th>\n",
       "      <td>798</td>\n",
       "      <td>14.604268</td>\n",
       "      <td>15.911254</td>\n",
       "      <td>95.571949</td>\n",
       "      <td>670.932144</td>\n",
       "      <td>0.093725</td>\n",
       "      <td>0.104808</td>\n",
       "      <td>0.084452</td>\n",
       "      <td>0.038038</td>\n",
       "      <td>0.193340</td>\n",
       "      <td>...</td>\n",
       "      <td>22.622737</td>\n",
       "      <td>111.460483</td>\n",
       "      <td>831.977088</td>\n",
       "      <td>0.125943</td>\n",
       "      <td>0.317772</td>\n",
       "      <td>0.433252</td>\n",
       "      <td>0.140478</td>\n",
       "      <td>0.299085</td>\n",
       "      <td>0.088326</td>\n",
       "      <td>B</td>\n",
       "    </tr>\n",
       "    <tr>\n",
       "      <th>799</th>\n",
       "      <td>799</td>\n",
       "      <td>12.481708</td>\n",
       "      <td>15.310366</td>\n",
       "      <td>71.156977</td>\n",
       "      <td>396.082845</td>\n",
       "      <td>0.103470</td>\n",
       "      <td>0.065718</td>\n",
       "      <td>0.054012</td>\n",
       "      <td>0.033229</td>\n",
       "      <td>0.188036</td>\n",
       "      <td>...</td>\n",
       "      <td>20.368779</td>\n",
       "      <td>78.216630</td>\n",
       "      <td>499.251547</td>\n",
       "      <td>0.136583</td>\n",
       "      <td>0.119195</td>\n",
       "      <td>0.199128</td>\n",
       "      <td>0.103132</td>\n",
       "      <td>0.283602</td>\n",
       "      <td>0.073796</td>\n",
       "      <td>B</td>\n",
       "    </tr>\n",
       "  </tbody>\n",
       "</table>\n",
       "<p>800 rows × 32 columns</p>\n",
       "</div>"
      ],
      "text/plain": [
       "     Unnamed: 0  n1_radius  n1_texture  n1_perimeter      n1_area  \\\n",
       "0             0  14.530395   20.421653     85.363155   675.768723   \n",
       "1             1  15.716418   11.961019    102.643405   676.233715   \n",
       "2             2  21.137170   28.522843    123.110775  1350.096674   \n",
       "3             3  20.985951   21.139095    123.856163  1214.287779   \n",
       "4             4  22.136720   23.129660    137.379083  1304.114821   \n",
       "..          ...        ...         ...           ...          ...   \n",
       "795         795  12.586262   17.042080     84.933506   558.765229   \n",
       "796         796  11.803064   29.143953     79.909893   432.828557   \n",
       "797         797   9.133855   20.587504     61.884174   230.260769   \n",
       "798         798  14.604268   15.911254     95.571949   670.932144   \n",
       "799         799  12.481708   15.310366     71.156977   396.082845   \n",
       "\n",
       "     n1_smoothness  n1_compactness  n1_concavity  n1_concave_points  \\\n",
       "0         0.108968        0.160971      0.177338           0.076638   \n",
       "1         0.126132        0.156888      0.199903           0.109296   \n",
       "2         0.091688        0.105862      0.168914           0.076865   \n",
       "3         0.102580        0.117669      0.198974           0.098910   \n",
       "4         0.096771        0.147616      0.262871           0.129781   \n",
       "..             ...             ...           ...                ...   \n",
       "795       0.091761        0.056785      0.043764           0.017047   \n",
       "796       0.082877        0.050179      0.013556           0.019917   \n",
       "797       0.105125        0.072745      0.018446           0.012392   \n",
       "798       0.093725        0.104808      0.084452           0.038038   \n",
       "799       0.103470        0.065718      0.054012           0.033229   \n",
       "\n",
       "     n1_symmetry  ...  n3_texture  n3_perimeter      n3_area  n3_smoothness  \\\n",
       "0       0.211611  ...   31.530430    117.452224   995.295094       0.149985   \n",
       "1       0.202276  ...   17.016180    118.556593  1073.826428       0.156691   \n",
       "2       0.136646  ...   36.202911    161.032929  1670.209793       0.114542   \n",
       "3       0.204487  ...   28.726188    146.057844  1410.132241       0.120466   \n",
       "4       0.216392  ...   26.846823    172.665832  1815.393844       0.124286   \n",
       "..           ...  ...         ...           ...          ...            ...   \n",
       "795     0.201145  ...   23.483917     86.850747   582.852909       0.122505   \n",
       "796     0.185930  ...   34.489916     88.370384   575.936260       0.097904   \n",
       "797     0.172465  ...   30.955895     65.333249   370.693374       0.158548   \n",
       "798     0.193340  ...   22.622737    111.460483   831.977088       0.125943   \n",
       "799     0.188036  ...   20.368779     78.216630   499.251547       0.136583   \n",
       "\n",
       "     n3_compactness  n3_concavity  n3_concave_points  n3_symmetry  \\\n",
       "0          0.361014      0.507859           0.194167     0.364020   \n",
       "1          0.391081      0.612940           0.180875     0.302284   \n",
       "2          0.243286      0.404950           0.149961     0.274891   \n",
       "3          0.226293      0.363629           0.183632     0.252874   \n",
       "4          0.361435      0.677388           0.205779     0.311112   \n",
       "..              ...           ...                ...          ...   \n",
       "795        0.150139      0.162602           0.068105     0.366096   \n",
       "796        0.109149      0.037035           0.040736     0.228439   \n",
       "797        0.166818      0.062229           0.066901     0.292290   \n",
       "798        0.317772      0.433252           0.140478     0.299085   \n",
       "799        0.119195      0.199128           0.103132     0.283602   \n",
       "\n",
       "     n3_fractal_dimension  DIAGNOSIS  \n",
       "0                0.108554          M  \n",
       "1                0.106598          M  \n",
       "2                0.082890          M  \n",
       "3                0.072986          M  \n",
       "4                0.070464          M  \n",
       "..                    ...        ...  \n",
       "795              0.073594          B  \n",
       "796              0.068118          B  \n",
       "797              0.094359          B  \n",
       "798              0.088326          B  \n",
       "799              0.073796          B  \n",
       "\n",
       "[800 rows x 32 columns]"
      ]
     },
     "execution_count": 2022,
     "metadata": {},
     "output_type": "execute_result"
    }
   ],
   "source": [
    "df_tumour_samples_bal = pd.read_csv(\"tumour_samples_bal.csv\") #reading from thr csv file\n",
    "df_tumour_samples_bal"
   ]
  },
  {
   "cell_type": "code",
   "execution_count": 2040,
   "metadata": {},
   "outputs": [],
   "source": [
    "Tumour_samples_bal = df_tumour_samples_bal.to_numpy()\n",
    "y_tumour_samples_bal = Tumour_samples_bal[:,31] # creating the array with the classifications (B or M)\n",
    "N_tumour_samples_bal = len(y_tumour_samples_bal)\n",
    "X_tumour_samples_bal = Tumour_samples_bal[:,1:31] #creating a matrix storing the input data\n",
    "X_tumour_samples_bal.astype(float)\n",
    "\n",
    "\n",
    "#We standardise\n",
    "X_tumour_samples_bal = (X_tumour_samples_bal-np.mean(X_tumour_samples_bal))/np.std(X_tumour_samples_bal)\n",
    "\n",
    "#We augment\n",
    "X_tumour_samples_bal_SVM = np.hstack([X_tumour_samples_bal,1.0 * np.ones((len(y_tumour_samples_bal),1))])\n",
    "\n",
    "#We transform y in +1,-1 from 'M' and 'B'\n",
    "y_tumour_samples_bal_tr = transform_diagnosis(y_tumour_samples_bal)\n",
    "\n",
    "#We create the 5 folds\n",
    "folds_indexes_bal = np.split(np.arange(len(y_tumour_samples_bal)), 5)\n"
   ]
  },
  {
   "cell_type": "markdown",
   "metadata": {},
   "source": [
    "We compute the best parameter $\\lambda$  (using the cross validation function we defined before)"
   ]
  },
  {
   "cell_type": "code",
   "execution_count": 2041,
   "metadata": {},
   "outputs": [],
   "source": [
    "def cross_validation_score_SVM_bal(X_train, y_train, folds,regul_strength):\n",
    "    #performs 5 cross validation and returns the average accuracy\n",
    "  scores = []\n",
    "  for i in range(len(folds)):\n",
    "    val_indexes = folds[i]\n",
    "    train_indexes = list(set(range(y_train.shape[0])) - set(val_indexes))\n",
    "    \n",
    "    X_train_i = X_train[train_indexes, :]\n",
    "    y_train_i = y_train[train_indexes]\n",
    "\n",
    "\n",
    "    X_val_i = X_train[val_indexes, :] \n",
    "    y_val_i = y_train[val_indexes] \n",
    "    \n",
    "    w = sgd(X_train_i, y_train_i, batch_size=32, max_iterations=2000, stop_criterion=0.01, learning_rate=1e-5, regul_strength = regul_strength, print_outcome=False)\n",
    "\n",
    "\n",
    "    scoreSVM = score_SVM(w,X_val_i,y_val_i)\n",
    "    scores.append(scoreSVM)\n",
    "\n",
    "  # Return the average score\n",
    "  return np.mean(scores) "
   ]
  },
  {
   "cell_type": "code",
   "execution_count": 2042,
   "metadata": {},
   "outputs": [],
   "source": [
    "def choose_best_lambda_SVM_bal(X_train, y_train, folds, lambda_range):   #This function is strongly inspired by the weekly notebooks of this module\n",
    "  lambda_scores = np.zeros((len(lambda_range),))\n",
    "  \n",
    "  for i, lamb in enumerate(lambda_range):\n",
    "    lambda_scores[i] = cross_validation_score_SVM_bal(X_train, y_train, folds, lamb)\n",
    "    print(f'Hyperparameter lambda={lamb}: {lambda_scores[i]:f}')\n",
    "\n",
    "  best_lambda_index = np.argmax(lambda_scores)\n",
    "  return lambda_range[best_lambda_index]\n",
    "\n",
    "\n"
   ]
  },
  {
   "cell_type": "code",
   "execution_count": 2044,
   "metadata": {},
   "outputs": [
    {
     "name": "stdout",
     "output_type": "stream",
     "text": [
      "Hyperparameter lambda=1e-08: 0.342500\n",
      "Hyperparameter lambda=1.01010102: 0.500000\n",
      "Hyperparameter lambda=2.02020203: 0.498750\n",
      "Hyperparameter lambda=3.03030304: 0.538750\n",
      "Hyperparameter lambda=4.04040405: 0.251250\n",
      "Hyperparameter lambda=5.05050506: 0.523750\n",
      "Hyperparameter lambda=6.06060607: 0.842500\n",
      "Hyperparameter lambda=7.070707080000001: 0.592500\n",
      "Hyperparameter lambda=8.080808090000001: 0.681250\n",
      "Hyperparameter lambda=9.090909100000001: 0.918750\n",
      "Hyperparameter lambda=10.10101011: 0.927500\n",
      "Hyperparameter lambda=11.111111120000002: 0.928750\n",
      "Hyperparameter lambda=12.121212130000002: 0.931250\n",
      "Hyperparameter lambda=13.131313140000001: 0.850000\n",
      "Hyperparameter lambda=14.141414150000003: 0.911250\n",
      "Hyperparameter lambda=15.151515160000002: 0.736250\n",
      "Hyperparameter lambda=16.161616170000002: 0.940000\n",
      "Hyperparameter lambda=17.17171718: 0.762500\n",
      "Hyperparameter lambda=18.18181819: 0.952500\n",
      "Hyperparameter lambda=19.1919192: 0.938750\n",
      "Hyperparameter lambda=20.20202021: 0.870000\n",
      "Hyperparameter lambda=21.212121220000004: 0.938750\n",
      "Hyperparameter lambda=22.222222230000003: 0.942500\n",
      "Hyperparameter lambda=23.232323240000003: 0.736250\n",
      "Hyperparameter lambda=24.242424250000003: 0.936250\n",
      "Hyperparameter lambda=25.252525260000002: 0.512500\n",
      "Hyperparameter lambda=26.262626270000002: 0.942500\n",
      "Hyperparameter lambda=27.27272728: 0.752500\n",
      "Hyperparameter lambda=28.282828290000005: 0.852500\n",
      "Hyperparameter lambda=29.292929300000004: 0.911250\n",
      "Hyperparameter lambda=30.303030310000004: 0.691250\n",
      "Hyperparameter lambda=31.313131320000004: 0.671250\n",
      "Hyperparameter lambda=32.32323233: 0.677500\n",
      "Hyperparameter lambda=33.33333334: 0.897500\n",
      "Hyperparameter lambda=34.34343435: 0.682500\n",
      "Hyperparameter lambda=35.35353536: 0.865000\n",
      "Hyperparameter lambda=36.36363637: 0.601250\n",
      "Hyperparameter lambda=37.37373738: 0.725000\n",
      "Hyperparameter lambda=38.38383839: 0.673750\n",
      "Hyperparameter lambda=39.3939394: 0.895000\n",
      "Hyperparameter lambda=40.40404041: 0.903750\n",
      "Hyperparameter lambda=41.41414142000001: 0.835000\n",
      "Hyperparameter lambda=42.42424243000001: 0.756250\n",
      "Hyperparameter lambda=43.434343440000006: 0.503750\n",
      "Hyperparameter lambda=44.444444450000006: 0.841250\n",
      "Hyperparameter lambda=45.454545460000006: 0.901250\n",
      "Hyperparameter lambda=46.464646470000005: 0.830000\n",
      "Hyperparameter lambda=47.474747480000005: 0.710000\n",
      "Hyperparameter lambda=48.484848490000005: 0.742500\n",
      "Hyperparameter lambda=49.494949500000004: 0.737500\n",
      "Hyperparameter lambda=50.505050510000004: 0.627500\n",
      "Hyperparameter lambda=51.51515152: 0.710000\n",
      "Hyperparameter lambda=52.52525253: 0.518750\n",
      "Hyperparameter lambda=53.53535354: 0.875000\n",
      "Hyperparameter lambda=54.54545455: 0.861250\n",
      "Hyperparameter lambda=55.55555556: 0.726250\n",
      "Hyperparameter lambda=56.56565657000001: 0.498750\n",
      "Hyperparameter lambda=57.57575758000001: 0.565000\n",
      "Hyperparameter lambda=58.58585859000001: 0.661250\n",
      "Hyperparameter lambda=59.59595960000001: 0.603750\n",
      "Hyperparameter lambda=60.60606061000001: 0.377500\n",
      "Hyperparameter lambda=61.61616162000001: 0.802500\n",
      "Hyperparameter lambda=62.62626263000001: 0.873750\n",
      "Hyperparameter lambda=63.636363640000006: 0.897500\n",
      "Hyperparameter lambda=64.64646465: 0.837500\n",
      "Hyperparameter lambda=65.65656566: 0.720000\n",
      "Hyperparameter lambda=66.66666667: 0.685000\n",
      "Hyperparameter lambda=67.67676768: 0.526250\n",
      "Hyperparameter lambda=68.68686869: 0.533750\n",
      "Hyperparameter lambda=69.6969697: 0.705000\n",
      "Hyperparameter lambda=70.70707071: 0.517500\n",
      "Hyperparameter lambda=71.71717172: 0.787500\n",
      "Hyperparameter lambda=72.72727273: 0.688750\n",
      "Hyperparameter lambda=73.73737374: 0.680000\n",
      "Hyperparameter lambda=74.74747475: 0.900000\n",
      "Hyperparameter lambda=75.75757576: 0.860000\n",
      "Hyperparameter lambda=76.76767677: 0.860000\n",
      "Hyperparameter lambda=77.77777778: 0.727500\n",
      "Hyperparameter lambda=78.78787879: 0.686250\n",
      "Hyperparameter lambda=79.7979798: 0.498750\n",
      "Hyperparameter lambda=80.80808080999999: 0.861250\n",
      "Hyperparameter lambda=81.81818182: 0.597500\n",
      "Hyperparameter lambda=82.82828283: 0.752500\n",
      "Hyperparameter lambda=83.83838384: 0.495000\n",
      "Hyperparameter lambda=84.84848485: 0.495000\n",
      "Hyperparameter lambda=85.85858586: 0.497500\n",
      "Hyperparameter lambda=86.86868687: 0.893750\n",
      "Hyperparameter lambda=87.87878788: 0.757500\n",
      "Hyperparameter lambda=88.88888889: 0.676250\n",
      "Hyperparameter lambda=89.8989899: 0.673750\n",
      "Hyperparameter lambda=90.90909091: 0.682500\n",
      "Hyperparameter lambda=91.91919192: 0.858750\n",
      "Hyperparameter lambda=92.92929293: 0.690000\n",
      "Hyperparameter lambda=93.93939394: 0.677500\n",
      "Hyperparameter lambda=94.94949495: 0.675000\n",
      "Hyperparameter lambda=95.95959596: 0.780000\n",
      "Hyperparameter lambda=96.96969697: 0.866250\n",
      "Hyperparameter lambda=97.97979798: 0.526250\n",
      "Hyperparameter lambda=98.98989899: 0.596250\n",
      "Hyperparameter lambda=100.0: 0.858750\n",
      "best_lambda: 18.18181819\n"
     ]
    }
   ],
   "source": [
    "best_lambda_bal_SVM = choose_best_lambda_SVM_bal(X_tumour_samples_bal_SVM, y_tumour_samples_bal_tr, folds_indexes_bal, list_SVM_param)\n",
    "print('best_lambda:', best_lambda_bal_SVM)"
   ]
  },
  {
   "cell_type": "markdown",
   "metadata": {},
   "source": [
    "We can see how we get a different optimal parameter which is $\\lambda = 18.18181819$"
   ]
  },
  {
   "cell_type": "code",
   "execution_count": 2045,
   "metadata": {},
   "outputs": [
    {
     "data": {
      "text/plain": [
       "[<matplotlib.lines.Line2D at 0x7fdffdb86210>]"
      ]
     },
     "execution_count": 2045,
     "metadata": {},
     "output_type": "execute_result"
    },
    {
     "data": {
      "image/png": "[encoded data removed]",
      "text/plain": [
       "<Figure size 432x288 with 1 Axes>"
      ]
     },
     "metadata": {
      "needs_background": "light"
     },
     "output_type": "display_data"
    }
   ],
   "source": [
    "#plotting accuracy vs lambda\n",
    "l_SVM1_bal = [] #to store the values of the accuracy\n",
    "m_SVM1_bal = [] #to store the values of the parameter lambda\n",
    "for i in range(0,1000000,10000):\n",
    "    lambda_val = i\n",
    "    m_SVM1_bal.append(lambda_val)\n",
    "    l_SVM1_bal.append(cross_validation_score_SVM_bal(X_tumour_samples_bal_SVM, y_tumour_samples_bal_tr, folds_indexes_bal, lambda_val)) #calculating accuracy and appending it to l_knn1\n",
    "plt.plot(m_SVM1_bal,l_SVM1_bal)"
   ]
  },
  {
   "cell_type": "code",
   "execution_count": 2046,
   "metadata": {},
   "outputs": [
    {
     "data": {
      "text/plain": [
       "[<matplotlib.lines.Line2D at 0x7fe03a76a350>]"
      ]
     },
     "execution_count": 2046,
     "metadata": {},
     "output_type": "execute_result"
    },
    {
     "data": {
      "image/png": "[encoded data removed]",
      "text/plain": [
       "<Figure size 432x288 with 1 Axes>"
      ]
     },
     "metadata": {
      "needs_background": "light"
     },
     "output_type": "display_data"
    }
   ],
   "source": [
    "#plotting accuracy vs lambda\n",
    "l_SVM2_bal = [] #to store the values of the accuracy\n",
    "m_SVM2_bal = [] #to store the values of the parameter lambda\n",
    "for i in range(1,400,5):\n",
    "    lambda_val = 0.05*i\n",
    "    m_SVM2_bal.append(lambda_val)\n",
    "    l_SVM2_bal.append(cross_validation_score_SVM_bal(X_tumour_samples_bal_SVM, y_tumour_samples_bal_tr, folds_indexes_bal, lambda_val)) #calculating accuracy and appending it to l_knn1\n",
    "plt.plot(m_SVM2_bal,l_SVM2_bal)"
   ]
  },
  {
   "cell_type": "markdown",
   "metadata": {},
   "source": [
    "Plotting (in [0,1000000], and zoomed in [0.05,20]) we can see a similar behaviour to the one we got in the previous exercise with unbalanced data, but there are oscillations noticeable on the 'larger set'. This is probably caused by the presence of less data( only 800 rows instead of 2566 as in the unbalanced data set)"
   ]
  },
  {
   "cell_type": "code",
   "execution_count": 2047,
   "metadata": {},
   "outputs": [],
   "source": [
    "list_TPR_bal = []\n",
    "list_FPR_bal = []\n",
    "lmhs_list = np.linspace(0.001,49999,320)\n",
    "for i in range (319):\n",
    "    w = sgd(X_tumour_samples_bal_SVM, y_tumour_samples_bal_tr, batch_size=32, max_iterations=2000, stop_criterion=0.01, learning_rate=1e-5, regul_strength = lmhs_list[i], print_outcome=False)\n",
    "    TPR,FPR = score_SVM_CM(w, X_tumour_test_SVM, y_tumour_test_tr)\n",
    "    if TPR != 'no' or FPR != 'no':\n",
    "        list_TPR_bal.append(TPR)\n",
    "        list_FPR_bal.append(FPR)\n",
    "\n"
   ]
  },
  {
   "cell_type": "code",
   "execution_count": 2049,
   "metadata": {},
   "outputs": [],
   "source": [
    "list_TPR_opt_bal = []\n",
    "list_FPR_opt_bal = []\n",
    "w_optimal = sgd(X_tumour_samples_bal_SVM, y_tumour_samples_bal_tr, batch_size=32, max_iterations=2000, stop_criterion=0.01, learning_rate=1e-5, regul_strength = 18.18181819, print_outcome=False)\n",
    "TPR_opt,FPR_opt = score_SVM_CM(w_optimal, X_tumour_test_SVM, y_tumour_test_tr)\n",
    "list_TPR_opt_bal.append(TPR_opt)\n",
    "list_FPR_opt_bal.append(FPR_opt)"
   ]
  },
  {
   "cell_type": "code",
   "execution_count": 2052,
   "metadata": {},
   "outputs": [
    {
     "data": {
      "image/png": "[encoded data removed]",
      "text/plain": [
       "<Figure size 864x576 with 1 Axes>"
      ]
     },
     "metadata": {
      "needs_background": "light"
     },
     "output_type": "display_data"
    }
   ],
   "source": [
    "plt.figure(figsize=(12,8))\n",
    "plt.title(f\"Receiver Operating Curve\", size=20)\n",
    "plt.scatter(list_FPR_bal, list_TPR_bal)\n",
    "plt.scatter(list_FPR_opt_bal, list_TPR_opt_bal)\n",
    "plt.plot([0, 1], [0, 1],'r--')\n",
    "plt.xlim([0, 1])\n",
    "plt.ylim([0, 1])\n",
    "plt.ylabel('TPR', size=20)\n",
    "plt.xlabel('FPR', size=20)\n",
    "plt.show()"
   ]
  },
  {
   "cell_type": "markdown",
   "metadata": {},
   "source": [
    "We can see that the 'scatter points' representing our ROC (I decided to scatter to have a better view) in blue.We can again notice how the ROC curve is above the red line, so the model is doing better than a random model. \n",
    "\n",
    "Furthermore our 'curve' (so the scatter point) goes near to the line $TPR=1$, which means than differently from what we got for the unbalanced training data we are less likely to get False negatives (We remember $FPR = \\frac{FP}{TN+FP}$, and $TPR = \\frac{TP}{TP+FN}$). If we think about this problem in a real life context we can say that is better to diagnose false positives than false negatives, since in case of a false positive a patience could proceed with further diagnosis, while on the opposite a false negative patient could underestimate the problem.\n",
    "\n",
    "\n",
    "The point we get for our optimal $\\lambda$ is the one in orange, and how we can see it still is above the red line. Morevoer it seems to be a better result than the one we got in the previous exercise.\n",
    "\n",
    "We notice that maybe we could have optained something better for the optimal lambda but we compute our optimal lambda searching it in [0,100], while for the plot of ROC we used a larger set.\n",
    "\n",
    "Finally is important to notice that the balanced data is composed by roughly less than a third of the data (rows) (800 rows against 2566), but still provides a really good model."
   ]
  },
  {
   "cell_type": "markdown",
   "metadata": {
    "id": "MlwygRTDy1fb"
   },
   "source": [
    "<a name=\"task-3\"></a>\n",
    "\n",
    "# Task 3: Mastery Component [^](#outline)"
   ]
  },
  {
   "cell_type": "markdown",
   "metadata": {
    "id": "NdYowG2Ny1qx"
   },
   "source": [
    "<a name=\"q31\"></a>\n",
    "\n",
    "## 3.1: Logistic regression and bagging [^](#outline)"
   ]
  },
  {
   "cell_type": "markdown",
   "metadata": {},
   "source": [
    "### 3.1.1"
   ]
  },
  {
   "cell_type": "markdown",
   "metadata": {},
   "source": [
    "First of all we import the data and initialise everything (standardising when necessary)"
   ]
  },
  {
   "cell_type": "code",
   "execution_count": 14,
   "metadata": {},
   "outputs": [],
   "source": [
    "#Training\n",
    "Tumour_samples = df_tumour_samples.to_numpy()\n",
    "np.random.shuffle(Tumour_samples)  #Shuffling\n",
    "y_tumour_samples = Tumour_samples[:,31] # creating the array with the classifications (B or M)\n",
    "N_tumour_samples = len(y_tumour_samples)\n",
    "X_tumour_samples = Tumour_samples[:,1:31] #creating a matrix storing the input data\n",
    "\n",
    "\n",
    "#We standardise\n",
    "X_tumour_samples = (X_tumour_samples-np.mean(X_tumour_samples))/np.std(X_tumour_samples)\n",
    "X_tumour_samples_lg=(X_tumour_samples.T).astype(float)\n",
    "\n",
    "#Testing\n",
    "Tumour_test = df_tumour_test.to_numpy()\n",
    "np.random.shuffle(Tumour_test)  #Shuffling\n",
    "y_tumour_test = Tumour_test[:,31] # creating the array with the classifications (B or M)\n",
    "N_tumour_test = len(y_tumour_test)\n",
    "X_tumour_test = Tumour_test[:,1:31] #creating a matrix storing the input data\n",
    "\n",
    "\n",
    "#We standardise\n",
    "X_tumour_test = (X_tumour_test-np.mean(X_tumour_test))/np.std(X_tumour_test)\n",
    "X_tumour_test_lg=(X_tumour_test.T).astype(float)\n",
    "\n"
   ]
  },
  {
   "cell_type": "code",
   "execution_count": 15,
   "metadata": {},
   "outputs": [
    {
     "data": {
      "text/html": [
       "<div>\n",
       "<style scoped>\n",
       "    .dataframe tbody tr th:only-of-type {\n",
       "        vertical-align: middle;\n",
       "    }\n",
       "\n",
       "    .dataframe tbody tr th {\n",
       "        vertical-align: top;\n",
       "    }\n",
       "\n",
       "    .dataframe thead th {\n",
       "        text-align: right;\n",
       "    }\n",
       "</style>\n",
       "<table border=\"1\" class=\"dataframe\">\n",
       "  <thead>\n",
       "    <tr style=\"text-align: right;\">\n",
       "      <th></th>\n",
       "      <th>Unnamed: 0</th>\n",
       "      <th>n1_radius</th>\n",
       "      <th>n1_texture</th>\n",
       "      <th>n1_perimeter</th>\n",
       "      <th>n1_area</th>\n",
       "      <th>n1_smoothness</th>\n",
       "      <th>n1_compactness</th>\n",
       "      <th>n1_concavity</th>\n",
       "      <th>n1_concave_points</th>\n",
       "      <th>n1_symmetry</th>\n",
       "      <th>...</th>\n",
       "      <th>n3_texture</th>\n",
       "      <th>n3_perimeter</th>\n",
       "      <th>n3_area</th>\n",
       "      <th>n3_smoothness</th>\n",
       "      <th>n3_compactness</th>\n",
       "      <th>n3_concavity</th>\n",
       "      <th>n3_concave_points</th>\n",
       "      <th>n3_symmetry</th>\n",
       "      <th>n3_fractal_dimension</th>\n",
       "      <th>DIAGNOSIS</th>\n",
       "    </tr>\n",
       "  </thead>\n",
       "  <tbody>\n",
       "    <tr>\n",
       "      <th>0</th>\n",
       "      <td>0</td>\n",
       "      <td>10.855170</td>\n",
       "      <td>15.248290</td>\n",
       "      <td>69.167041</td>\n",
       "      <td>359.534878</td>\n",
       "      <td>0.105488</td>\n",
       "      <td>0.080200</td>\n",
       "      <td>0.066410</td>\n",
       "      <td>0.034194</td>\n",
       "      <td>0.182796</td>\n",
       "      <td>...</td>\n",
       "      <td>18.984557</td>\n",
       "      <td>81.443134</td>\n",
       "      <td>466.879302</td>\n",
       "      <td>0.149080</td>\n",
       "      <td>0.200185</td>\n",
       "      <td>0.205695</td>\n",
       "      <td>0.111592</td>\n",
       "      <td>0.335999</td>\n",
       "      <td>0.093477</td>\n",
       "      <td>B</td>\n",
       "    </tr>\n",
       "    <tr>\n",
       "      <th>1</th>\n",
       "      <td>1</td>\n",
       "      <td>10.068958</td>\n",
       "      <td>15.532758</td>\n",
       "      <td>66.130635</td>\n",
       "      <td>330.040665</td>\n",
       "      <td>0.099813</td>\n",
       "      <td>0.109540</td>\n",
       "      <td>0.057583</td>\n",
       "      <td>0.023322</td>\n",
       "      <td>0.195650</td>\n",
       "      <td>...</td>\n",
       "      <td>22.840293</td>\n",
       "      <td>82.133171</td>\n",
       "      <td>473.367822</td>\n",
       "      <td>0.125478</td>\n",
       "      <td>0.330466</td>\n",
       "      <td>0.283304</td>\n",
       "      <td>0.088021</td>\n",
       "      <td>0.312882</td>\n",
       "      <td>0.096158</td>\n",
       "      <td>B</td>\n",
       "    </tr>\n",
       "    <tr>\n",
       "      <th>2</th>\n",
       "      <td>2</td>\n",
       "      <td>12.271409</td>\n",
       "      <td>18.100314</td>\n",
       "      <td>78.195610</td>\n",
       "      <td>421.537832</td>\n",
       "      <td>0.105147</td>\n",
       "      <td>0.095315</td>\n",
       "      <td>0.043317</td>\n",
       "      <td>0.031539</td>\n",
       "      <td>0.188801</td>\n",
       "      <td>...</td>\n",
       "      <td>26.365608</td>\n",
       "      <td>84.598334</td>\n",
       "      <td>620.586067</td>\n",
       "      <td>0.146766</td>\n",
       "      <td>0.118707</td>\n",
       "      <td>0.147900</td>\n",
       "      <td>0.050402</td>\n",
       "      <td>0.291805</td>\n",
       "      <td>0.069556</td>\n",
       "      <td>B</td>\n",
       "    </tr>\n",
       "    <tr>\n",
       "      <th>3</th>\n",
       "      <td>3</td>\n",
       "      <td>10.531733</td>\n",
       "      <td>18.452486</td>\n",
       "      <td>67.227069</td>\n",
       "      <td>340.063033</td>\n",
       "      <td>0.086041</td>\n",
       "      <td>0.049961</td>\n",
       "      <td>0.049709</td>\n",
       "      <td>0.011046</td>\n",
       "      <td>0.203093</td>\n",
       "      <td>...</td>\n",
       "      <td>24.385385</td>\n",
       "      <td>73.296855</td>\n",
       "      <td>429.675600</td>\n",
       "      <td>0.100060</td>\n",
       "      <td>0.143683</td>\n",
       "      <td>0.177225</td>\n",
       "      <td>0.028111</td>\n",
       "      <td>0.287749</td>\n",
       "      <td>0.073174</td>\n",
       "      <td>B</td>\n",
       "    </tr>\n",
       "    <tr>\n",
       "      <th>4</th>\n",
       "      <td>4</td>\n",
       "      <td>12.367686</td>\n",
       "      <td>14.399191</td>\n",
       "      <td>80.643814</td>\n",
       "      <td>460.849710</td>\n",
       "      <td>0.106410</td>\n",
       "      <td>0.101420</td>\n",
       "      <td>0.020806</td>\n",
       "      <td>0.021990</td>\n",
       "      <td>0.195326</td>\n",
       "      <td>...</td>\n",
       "      <td>19.614305</td>\n",
       "      <td>89.910502</td>\n",
       "      <td>472.323112</td>\n",
       "      <td>0.138135</td>\n",
       "      <td>0.276127</td>\n",
       "      <td>0.151098</td>\n",
       "      <td>0.074396</td>\n",
       "      <td>0.345258</td>\n",
       "      <td>0.095830</td>\n",
       "      <td>B</td>\n",
       "    </tr>\n",
       "    <tr>\n",
       "      <th>...</th>\n",
       "      <td>...</td>\n",
       "      <td>...</td>\n",
       "      <td>...</td>\n",
       "      <td>...</td>\n",
       "      <td>...</td>\n",
       "      <td>...</td>\n",
       "      <td>...</td>\n",
       "      <td>...</td>\n",
       "      <td>...</td>\n",
       "      <td>...</td>\n",
       "      <td>...</td>\n",
       "      <td>...</td>\n",
       "      <td>...</td>\n",
       "      <td>...</td>\n",
       "      <td>...</td>\n",
       "      <td>...</td>\n",
       "      <td>...</td>\n",
       "      <td>...</td>\n",
       "      <td>...</td>\n",
       "      <td>...</td>\n",
       "      <td>...</td>\n",
       "    </tr>\n",
       "    <tr>\n",
       "      <th>2561</th>\n",
       "      <td>2561</td>\n",
       "      <td>14.383173</td>\n",
       "      <td>19.454910</td>\n",
       "      <td>100.495126</td>\n",
       "      <td>637.413375</td>\n",
       "      <td>0.076174</td>\n",
       "      <td>0.224136</td>\n",
       "      <td>0.305786</td>\n",
       "      <td>0.073760</td>\n",
       "      <td>0.168884</td>\n",
       "      <td>...</td>\n",
       "      <td>23.016513</td>\n",
       "      <td>108.867289</td>\n",
       "      <td>731.638144</td>\n",
       "      <td>0.079317</td>\n",
       "      <td>0.410666</td>\n",
       "      <td>0.674672</td>\n",
       "      <td>0.146962</td>\n",
       "      <td>0.241495</td>\n",
       "      <td>0.106978</td>\n",
       "      <td>B</td>\n",
       "    </tr>\n",
       "    <tr>\n",
       "      <th>2562</th>\n",
       "      <td>2562</td>\n",
       "      <td>10.018359</td>\n",
       "      <td>18.661516</td>\n",
       "      <td>61.848450</td>\n",
       "      <td>291.512307</td>\n",
       "      <td>0.083671</td>\n",
       "      <td>0.048121</td>\n",
       "      <td>0.028997</td>\n",
       "      <td>0.007389</td>\n",
       "      <td>0.164375</td>\n",
       "      <td>...</td>\n",
       "      <td>24.919767</td>\n",
       "      <td>67.920361</td>\n",
       "      <td>374.629250</td>\n",
       "      <td>0.129882</td>\n",
       "      <td>0.081497</td>\n",
       "      <td>0.109356</td>\n",
       "      <td>0.028243</td>\n",
       "      <td>0.252432</td>\n",
       "      <td>0.081462</td>\n",
       "      <td>B</td>\n",
       "    </tr>\n",
       "    <tr>\n",
       "      <th>2563</th>\n",
       "      <td>2563</td>\n",
       "      <td>11.168036</td>\n",
       "      <td>12.651203</td>\n",
       "      <td>67.102303</td>\n",
       "      <td>376.640056</td>\n",
       "      <td>0.096154</td>\n",
       "      <td>0.050181</td>\n",
       "      <td>0.017739</td>\n",
       "      <td>0.022895</td>\n",
       "      <td>0.183905</td>\n",
       "      <td>...</td>\n",
       "      <td>17.412221</td>\n",
       "      <td>73.221040</td>\n",
       "      <td>421.681446</td>\n",
       "      <td>0.135757</td>\n",
       "      <td>0.089036</td>\n",
       "      <td>0.070456</td>\n",
       "      <td>0.039851</td>\n",
       "      <td>0.295527</td>\n",
       "      <td>0.070584</td>\n",
       "      <td>B</td>\n",
       "    </tr>\n",
       "    <tr>\n",
       "      <th>2564</th>\n",
       "      <td>2564</td>\n",
       "      <td>11.719646</td>\n",
       "      <td>18.933783</td>\n",
       "      <td>78.556817</td>\n",
       "      <td>426.631397</td>\n",
       "      <td>0.113492</td>\n",
       "      <td>0.091756</td>\n",
       "      <td>0.070046</td>\n",
       "      <td>0.039025</td>\n",
       "      <td>0.203736</td>\n",
       "      <td>...</td>\n",
       "      <td>26.677691</td>\n",
       "      <td>86.572055</td>\n",
       "      <td>539.508865</td>\n",
       "      <td>0.132254</td>\n",
       "      <td>0.194688</td>\n",
       "      <td>0.179610</td>\n",
       "      <td>0.071053</td>\n",
       "      <td>0.330223</td>\n",
       "      <td>0.079510</td>\n",
       "      <td>B</td>\n",
       "    </tr>\n",
       "    <tr>\n",
       "      <th>2565</th>\n",
       "      <td>2565</td>\n",
       "      <td>11.844247</td>\n",
       "      <td>20.689350</td>\n",
       "      <td>74.057823</td>\n",
       "      <td>391.547178</td>\n",
       "      <td>0.110264</td>\n",
       "      <td>0.090631</td>\n",
       "      <td>0.049565</td>\n",
       "      <td>0.019809</td>\n",
       "      <td>0.193889</td>\n",
       "      <td>...</td>\n",
       "      <td>31.513549</td>\n",
       "      <td>82.313581</td>\n",
       "      <td>468.522601</td>\n",
       "      <td>0.163906</td>\n",
       "      <td>0.168648</td>\n",
       "      <td>0.143961</td>\n",
       "      <td>0.073360</td>\n",
       "      <td>0.292210</td>\n",
       "      <td>0.091949</td>\n",
       "      <td>B</td>\n",
       "    </tr>\n",
       "  </tbody>\n",
       "</table>\n",
       "<p>2566 rows × 32 columns</p>\n",
       "</div>"
      ],
      "text/plain": [
       "      Unnamed: 0  n1_radius  n1_texture  n1_perimeter     n1_area  \\\n",
       "0              0  10.855170   15.248290     69.167041  359.534878   \n",
       "1              1  10.068958   15.532758     66.130635  330.040665   \n",
       "2              2  12.271409   18.100314     78.195610  421.537832   \n",
       "3              3  10.531733   18.452486     67.227069  340.063033   \n",
       "4              4  12.367686   14.399191     80.643814  460.849710   \n",
       "...          ...        ...         ...           ...         ...   \n",
       "2561        2561  14.383173   19.454910    100.495126  637.413375   \n",
       "2562        2562  10.018359   18.661516     61.848450  291.512307   \n",
       "2563        2563  11.168036   12.651203     67.102303  376.640056   \n",
       "2564        2564  11.719646   18.933783     78.556817  426.631397   \n",
       "2565        2565  11.844247   20.689350     74.057823  391.547178   \n",
       "\n",
       "      n1_smoothness  n1_compactness  n1_concavity  n1_concave_points  \\\n",
       "0          0.105488        0.080200      0.066410           0.034194   \n",
       "1          0.099813        0.109540      0.057583           0.023322   \n",
       "2          0.105147        0.095315      0.043317           0.031539   \n",
       "3          0.086041        0.049961      0.049709           0.011046   \n",
       "4          0.106410        0.101420      0.020806           0.021990   \n",
       "...             ...             ...           ...                ...   \n",
       "2561       0.076174        0.224136      0.305786           0.073760   \n",
       "2562       0.083671        0.048121      0.028997           0.007389   \n",
       "2563       0.096154        0.050181      0.017739           0.022895   \n",
       "2564       0.113492        0.091756      0.070046           0.039025   \n",
       "2565       0.110264        0.090631      0.049565           0.019809   \n",
       "\n",
       "      n1_symmetry  ...  n3_texture  n3_perimeter     n3_area  n3_smoothness  \\\n",
       "0        0.182796  ...   18.984557     81.443134  466.879302       0.149080   \n",
       "1        0.195650  ...   22.840293     82.133171  473.367822       0.125478   \n",
       "2        0.188801  ...   26.365608     84.598334  620.586067       0.146766   \n",
       "3        0.203093  ...   24.385385     73.296855  429.675600       0.100060   \n",
       "4        0.195326  ...   19.614305     89.910502  472.323112       0.138135   \n",
       "...           ...  ...         ...           ...         ...            ...   \n",
       "2561     0.168884  ...   23.016513    108.867289  731.638144       0.079317   \n",
       "2562     0.164375  ...   24.919767     67.920361  374.629250       0.129882   \n",
       "2563     0.183905  ...   17.412221     73.221040  421.681446       0.135757   \n",
       "2564     0.203736  ...   26.677691     86.572055  539.508865       0.132254   \n",
       "2565     0.193889  ...   31.513549     82.313581  468.522601       0.163906   \n",
       "\n",
       "      n3_compactness  n3_concavity  n3_concave_points  n3_symmetry  \\\n",
       "0           0.200185      0.205695           0.111592     0.335999   \n",
       "1           0.330466      0.283304           0.088021     0.312882   \n",
       "2           0.118707      0.147900           0.050402     0.291805   \n",
       "3           0.143683      0.177225           0.028111     0.287749   \n",
       "4           0.276127      0.151098           0.074396     0.345258   \n",
       "...              ...           ...                ...          ...   \n",
       "2561        0.410666      0.674672           0.146962     0.241495   \n",
       "2562        0.081497      0.109356           0.028243     0.252432   \n",
       "2563        0.089036      0.070456           0.039851     0.295527   \n",
       "2564        0.194688      0.179610           0.071053     0.330223   \n",
       "2565        0.168648      0.143961           0.073360     0.292210   \n",
       "\n",
       "      n3_fractal_dimension  DIAGNOSIS  \n",
       "0                 0.093477          B  \n",
       "1                 0.096158          B  \n",
       "2                 0.069556          B  \n",
       "3                 0.073174          B  \n",
       "4                 0.095830          B  \n",
       "...                    ...        ...  \n",
       "2561              0.106978          B  \n",
       "2562              0.081462          B  \n",
       "2563              0.070584          B  \n",
       "2564              0.079510          B  \n",
       "2565              0.091949          B  \n",
       "\n",
       "[2566 rows x 32 columns]"
      ]
     },
     "execution_count": 15,
     "metadata": {},
     "output_type": "execute_result"
    }
   ],
   "source": [
    "df_tumour_samples"
   ]
  },
  {
   "cell_type": "markdown",
   "metadata": {},
   "source": [
    "We introduce a function that transforms the diagnosis result from 'B' and 'M' to 1 and 0"
   ]
  },
  {
   "cell_type": "code",
   "execution_count": 16,
   "metadata": {},
   "outputs": [],
   "source": [
    "def transform_diagnosis_lg(y):\n",
    "    #taked a vector of diagnosis and return a vector long the same containing +1 instead of 'M' and 0 instead of 'B'\n",
    "    N = len(y)\n",
    "    y_tr = np.zeros(N)\n",
    "    for i in range(N):\n",
    "        if y[i] == 'M':\n",
    "            y_tr[i]+=1\n",
    "        elif y[i] == 'B':\n",
    "            y_tr[i]+=0\n",
    "    return y_tr"
   ]
  },
  {
   "cell_type": "code",
   "execution_count": 17,
   "metadata": {},
   "outputs": [],
   "source": [
    "#transforming the diagnosis from 'M's and 'B's to +-1\n",
    "\n",
    "y_tumour_samples_tr = transform_diagnosis_lg(y_tumour_samples).astype(int)\n",
    "y_tumour_test_tr = transform_diagnosis_lg(y_tumour_test).astype(int)"
   ]
  },
  {
   "cell_type": "markdown",
   "metadata": {},
   "source": [
    "We are going to use logistic regression to classificate. In particular we will compute the probabulity that a certain 'sample/diagnosis/element' is =1  ( we will do that using: \n",
    "$$\n",
    "P(y=1) = \\frac{1}{1 + e^{-\\beta^T  x \\ + \\beta_0}}\n",
    "$$\n",
    "where $ \\beta$, $\\beta_0$  are parameters that we will find  minimising the cost/loss function), and we will use a threshold $=0.5$. This means that if the probability that we calculated is $\\le 0.5$, then we assign 0, otherwise we predict 1."
   ]
  },
  {
   "cell_type": "code",
   "execution_count": 19,
   "metadata": {},
   "outputs": [],
   "source": [
    "def logistic(x):                 #logistic function\n",
    "    return 1. / (1. + np.exp(-x))\n",
    "\n",
    "\n",
    "def predict_log(X, beta, beta_0):\n",
    "    y_log = logistic(X.T @ beta + beta_0)  \n",
    "    return y_log.squeeze()\n",
    "\n",
    "\n",
    "def initialise(d):\n",
    "    \"\"\"    \n",
    "    Argument:\n",
    "    d: size of the beta vector (or number of parameters)\n",
    "  \n",
    "    Returns:\n",
    "    beta: initialised vector of shape (d, 1)\n",
    "    beta_0: initialised scalar (corresponds to the offset)\n",
    "    \"\"\"\n",
    "  \n",
    "    beta = np.zeros(shape=(d, 1), dtype=np.float32)\n",
    "    beta_0 = 0\n",
    "  \n",
    "    assert(beta.shape==(d, 1))\n",
    "    assert(isinstance(beta_0, float) or isinstance(beta_0, int))\n",
    "  \n",
    "    return beta, beta_0"
   ]
  },
  {
   "cell_type": "code",
   "execution_count": 20,
   "metadata": {},
   "outputs": [],
   "source": [
    "def propagate(X, y, beta, beta_0):\n",
    "    \"\"\"\n",
    "  Arguments:\n",
    "  X: data of size (d, n)\n",
    "  y: true label vector of size (1, n)\n",
    "  beta: parameters, a numpy array of size (d, 1)\n",
    "  beta_0: offset, a scalar\n",
    "\n",
    "  Returns:\n",
    "  cost: negative log-likelihood cost for logistic regression\n",
    "  dbeta: gradient of the loss with respect to beta\n",
    "  dbeta_0: gradient of the loss with respect to beta_0\n",
    "    \"\"\"\n",
    "    n = X.shape[1]\n",
    "    y_log = predict_log(X, beta, beta_0)\n",
    "\n",
    "    # cost function\n",
    "    cost = - (y * np.log(y_log) + (1-y) * np.log(1 - y_log)).mean()\n",
    "\n",
    "    # derivatives\n",
    "    dbeta = (X * (y_log - y)).mean(axis=1).reshape(-1, 1) \n",
    "    dbeta_0 =  (y_log - y).mean() \n",
    "\n",
    "    assert(dbeta.shape==beta.shape)\n",
    "    assert(dbeta_0.dtype==float)\n",
    "    cost = np.squeeze(cost)\n",
    "    assert(cost.shape==())\n",
    "  \n",
    "    # store gradients in a dictionary\n",
    "    grads = {\"dbeta\": dbeta, \"dbeta_0\": dbeta_0}\n",
    "    \n",
    "    return grads, cost"
   ]
  },
  {
   "cell_type": "markdown",
   "metadata": {},
   "source": [
    "We want to minimize the cost function $$\n",
    "\\mathcal L = - \\frac{1}{n} \\sum_{i=1}^n y^{(i)} \\log(\\hat{y}_{\\text{log}}^{(i)}) + (1-y^{(i)}) \\log (1-\\hat{y}_{\\text{log}}^{(i)}) \\, .\n",
    "$$\n",
    "So in this way we will use gradiend descend to find the optimal values of $\\beta$ and $\\beta_0$. In particular we will use 5000 iterations and a learning rate of 0.005."
   ]
  },
  {
   "cell_type": "code",
   "execution_count": 21,
   "metadata": {},
   "outputs": [],
   "source": [
    "def optimise(X, y, beta, beta_0, num_iterations=5000, learning_rate=0.005, print_cost=False):\n",
    "    \"\"\"\n",
    "  Arguments:\n",
    "  X: data of size (d, n)\n",
    "  y: true label vector of size (1, n)\n",
    "  beta: parameters, a numpy array of size (d, 1)\n",
    "  beta_0: offset, a scalar\n",
    "  num_iterations: number of iterations gradient descent shall update the parameters\n",
    "  learning_rate: step size in updating procedure\n",
    "  print_cost: whether to print the cost every 100 iterations or not\n",
    "\n",
    "  Returns:\n",
    "  params: dictionary containing the parameters beta and offset beta_0\n",
    "  grads: dictionary containing the gradients\n",
    "  costs: list of all the costs computed during the optimisation (can be used to plot the learning curve).\n",
    "  \"\"\"\n",
    "    costs = []\n",
    "    \n",
    "    for i in range(num_iterations):\n",
    "\n",
    "        # calculate cost and gradients using the function 'propagate'\n",
    "        grads, cost = propagate(X, y, beta, beta_0)\n",
    "      \n",
    "        # retrieve derivatives from grads dictionary\n",
    "        dbeta = grads[\"dbeta\"]\n",
    "        dbeta_0 = grads[\"dbeta_0\"]\n",
    "\n",
    "        # update parameters\n",
    "        beta = beta -learning_rate*dbeta\n",
    "        beta_0 = beta_0 - learning_rate*dbeta_0\n",
    "\n",
    "        # record the costs\n",
    "        if i % 100 == 0:\n",
    "            costs.append(cost)\n",
    "\n",
    "        # print the cost every 100 iterations\n",
    "        if print_cost and i % 100 == 0:\n",
    "            print (\"cost after iteration %i: %f\" %(i, cost))\n",
    "  \n",
    "    # save parameters and the gradients in dictionaries\n",
    "    params = {\"beta\": beta, \"beta_0\": beta_0}\n",
    "    grads = {\"dbeta\": dbeta, \"dbeta_0\": dbeta_0}\n",
    "  \n",
    "    return params, grads, costs"
   ]
  },
  {
   "cell_type": "markdown",
   "metadata": {},
   "source": [
    "The following function is the one used to predict. Notice that we use $\\texttt{.round()}$, instead of the threshold comparison, since the threshold is 0.5, and so these two things are equivalent. In fact $\\texttt{.round()}$ assigns 1 for values $>0.5$ and $0$ otherwise"
   ]
  },
  {
   "cell_type": "code",
   "execution_count": 22,
   "metadata": {},
   "outputs": [],
   "source": [
    "def predict(X_test, beta, beta_0, return_y_log = False):\n",
    "  \"\"\"\n",
    "  Arguments:\n",
    "  X_test: test data of size (d, n)\n",
    "  beta: parameters, a numpy array of size (d, 1)\n",
    "  beta_0: offset, a scalar\n",
    "\n",
    "  Returns:\n",
    "  y_pred: vector containing all binary predictions (0/1) for the examples in X_test\n",
    "  \"\"\"\n",
    "  n = X_test.shape[1]\n",
    "  y_pred = np.zeros((1,n))\n",
    "  beta = beta.reshape(X_test.shape[0], 1)\n",
    "  \n",
    "  # compute vector y_log predicting the probabilities\n",
    "  y_log = predict_log(X_test, beta, beta_0)\n",
    "  \n",
    "  y_pred = y_log.round().reshape(1, -1) \n",
    "  \n",
    "  assert(y_pred.shape==(1, n))\n",
    "  \n",
    "  if return_y_log == False:\n",
    "    return y_pred\n",
    "  else:\n",
    "        return y_pred, y_log"
   ]
  },
  {
   "cell_type": "markdown",
   "metadata": {},
   "source": [
    "This is our final function. In it we define also the accuracy cost, which relies basically on the number of accurate predictions."
   ]
  },
  {
   "cell_type": "code",
   "execution_count": 23,
   "metadata": {},
   "outputs": [],
   "source": [
    "def model(X_train, y_train, X_test, y_test, num_iterations=5000, learning_rate=0.005, print_cost=False):\n",
    "  # initialize parameters with zeros\n",
    "  beta, beta_0 = initialise(X_train.shape[0])\n",
    "\n",
    "  # gradient descent\n",
    "  parameters, grads, costs = optimise(X_train, y_train, beta, beta_0, num_iterations, learning_rate, print_cost=print_cost)\n",
    "\n",
    "  # retrieve parameters beta and beta_0 from dictionary \"parameters\"\n",
    "  beta = parameters[\"beta\"]\n",
    "  beta_0 = parameters[\"beta_0\"]\n",
    "\n",
    "  # predict test and train set examples\n",
    "  y_pred_test = predict(X_test, beta, beta_0)\n",
    "  y_pred_train = predict(X_train, beta, beta_0)\n",
    "\n",
    "  # print train/test Errors\n",
    "  print(\"train accuracy: {} %\".format(100 - np.mean(np.abs(y_pred_train - y_train)) * 100))\n",
    "  print(\"test accuracy: {} %\".format(100 - np.mean(np.abs(y_pred_test - y_test)) * 100))\n",
    "\n",
    "  # saving all information\n",
    "  d = {\"costs\": costs, \"y_pred_test\": y_pred_test, \"y_pred_train\": y_pred_train, \"beta\": beta, \"beta_0\": beta_0, \"learning_rate\": learning_rate, \"num_iterations\": num_iterations}\n",
    "  \n",
    "  return d"
   ]
  },
  {
   "cell_type": "markdown",
   "metadata": {},
   "source": [
    "Finally we apply the logistic regression to our problem and get the following accuracies"
   ]
  },
  {
   "cell_type": "code",
   "execution_count": 24,
   "metadata": {},
   "outputs": [
    {
     "name": "stdout",
     "output_type": "stream",
     "text": [
      "train accuracy: 94.1153546375682 %\n",
      "test accuracy: 82.5 %\n"
     ]
    }
   ],
   "source": [
    "d = model(X_tumour_samples_lg, y_tumour_samples_tr, X_tumour_test_lg,y_tumour_test_tr, num_iterations=5000, learning_rate=0.005, print_cost=False)"
   ]
  },
  {
   "cell_type": "markdown",
   "metadata": {},
   "source": [
    "### 3.1.2"
   ]
  },
  {
   "cell_type": "code",
   "execution_count": 25,
   "metadata": {},
   "outputs": [],
   "source": [
    "from numpy import random\n",
    "import numpy as np"
   ]
  },
  {
   "cell_type": "markdown",
   "metadata": {},
   "source": [
    "We want to apply bagging to the logistic regression classifier. So we will take $R$ random samples with $N'<N$ elements from the data set. We will apply logistic regression to all of them, obtaining so R probability vectors. We average them all and at the end compare the average vector with the threshold."
   ]
  },
  {
   "cell_type": "markdown",
   "metadata": {},
   "source": [
    "First of all we modify our function 'model' defined in the previous exercise 3.1.1. This function train the logistic model and returns the probability vector for the testing samples. (So a probability vector which gives for each element in the testing sample the probability of being diagnosed 'M')"
   ]
  },
  {
   "cell_type": "code",
   "execution_count": 26,
   "metadata": {},
   "outputs": [],
   "source": [
    "def model_modified(X_train, y_train, X_test, y_test, num_iterations=2000, learning_rate=0.005, print_cost=False):\n",
    "    \n",
    "  \"\"\"This function returns the 'not rounded prediction', so before the comparison with the threshold\"\"\"\n",
    "  # initialize parameters with zeros\n",
    "  beta, beta_0 = initialise(X_train.shape[0])\n",
    "\n",
    "  # gradient descent\n",
    "  parameters, grads, costs = optimise(X_train, y_train, beta, beta_0, num_iterations, learning_rate, print_cost=print_cost)\n",
    "\n",
    "  # retrieve parameters beta and beta_0 from dictionary \"parameters\"\n",
    "  beta = parameters[\"beta\"]\n",
    "  beta_0 = parameters[\"beta_0\"]\n",
    "\n",
    "  # predict test and train set examples\n",
    "  y_pred_test, y_log_test = predict(X_test, beta, beta_0,return_y_log = True )\n",
    "  y_pred_train = predict(X_train, beta, beta_0)\n",
    "  \n",
    "  return y_log_test"
   ]
  },
  {
   "cell_type": "markdown",
   "metadata": {},
   "source": [
    "The following function applies bagging, generating R random sample (with 500 elements taken from the training dataset), trains the logistic model with all of them, calculates the average probability vector for the prediction and compares with a threshold equal to 0.5 (using the function $\\texttt{round()}$. Finally it calculates the accuracy on the testing dataset given as an input.\n",
    "This function relies in part to the functions given in the previous exercise and works with 5000 iterations and a learning rate of 0.005"
   ]
  },
  {
   "cell_type": "code",
   "execution_count": 81,
   "metadata": {},
   "outputs": [],
   "source": [
    "def bagging_logistic(R, X_train, y_train, X_test, y_test, num_iterations=5000, learning_rate=0.005, print_cost=False):\n",
    "    \"\"\"R: number of samples we will use for bagging\n",
    "    The other inputs are the same of the previous function\n",
    "    \n",
    "    Output: the average accuracy\"\"\"\n",
    "    \n",
    "    # I initialize my prediction vector for the testing set\n",
    "    y_pred = np.zeros(len(y_test))\n",
    "    \n",
    "    N = X_train.shape[1] #it's going to me the max bound in random.randint\n",
    "    \n",
    "    # I start a loop long R, where R is the number of the samples I am considering\n",
    "    for j in range (R):\n",
    "        k_j = random.randint(0,N,500)    #I choose the indexes in order to collect random samples\n",
    "        \n",
    "        # I calculate y_log using logistic regression (I don't use the threshold yet to obtain the final prediction)\n",
    "        y_log_test = model_modified(X_train[:,k_j], y_train[k_j], X_test, y_test, num_iterations=5000, learning_rate=0.005, print_cost=False)\n",
    "        \n",
    "        #I add my resulting array to the prediction array\n",
    "        y_pred += y_log_test\n",
    "    #I calculate the average\n",
    "    y_pred = y_pred/R     #This is the average vector I get using logistic regression on R random samples\n",
    "    \n",
    "    #NOw I use a threshold equal to 0.5 (I can do that just rounding the element of my vector, such that if they are <=0.5, they are rounded to 0 and viceversa they are rounded to 1 when ther are >0.5)\n",
    "    \n",
    "    y_pred = y_pred.round().reshape(1, -1)\n",
    "    \n",
    "    #Now I can calculate the accuracy on the testing set\n",
    "    test_accuracy = 100 - np.mean(np.abs(y_pred - y_test)) * 100\n",
    "    \n",
    "    return  test_accuracy"
   ]
  },
  {
   "cell_type": "markdown",
   "metadata": {},
   "source": [
    "We define the folds"
   ]
  },
  {
   "cell_type": "code",
   "execution_count": 85,
   "metadata": {},
   "outputs": [],
   "source": [
    "folds_indexes_tumour_samples = np.split(np.arange(len(y_tumour_samples)-1), 5)"
   ]
  },
  {
   "cell_type": "markdown",
   "metadata": {},
   "source": [
    "We finally implement 5 folds cross validation (as in the previous results)"
   ]
  },
  {
   "cell_type": "code",
   "execution_count": 86,
   "metadata": {},
   "outputs": [],
   "source": [
    "def cross_validation_score_logistic_bagging(X_train, y_train, folds,number_of_samples):\n",
    "    #performs 5 cross validation and returns the average accuracy\n",
    "  scores = []\n",
    "  for i in range(len(folds)):\n",
    "    val_indexes = folds[i]\n",
    "    train_indexes = list(set(range(y_train.shape[0]-1)) - set(val_indexes))\n",
    "    \n",
    "    X_train_i = X_train[train_indexes, :]\n",
    "    y_train_i = y_train[train_indexes]\n",
    "\n",
    "\n",
    "    X_val_i = X_train[val_indexes, :] \n",
    "    y_val_i = y_train[val_indexes] \n",
    "    \n",
    "    score_lb = bagging_logistic(number_of_samples,X_train_i.T, y_train_i, X_val_i.T,y_val_i, num_iterations=5000, learning_rate=0.005, print_cost=False)\n",
    "\n",
    "    scores.append(score_lb)\n",
    "\n",
    "  # Return the average score\n",
    "  return np.mean(scores)"
   ]
  },
  {
   "cell_type": "code",
   "execution_count": 87,
   "metadata": {},
   "outputs": [],
   "source": [
    "def choose_best_number_log_bg(X_train, y_train, folds, numb_range):   #This function is strongly inspired by the weekly notebooks of this module\n",
    "  numb_scores = np.zeros((len(numb_range),))\n",
    "  \n",
    "  for i, numb in enumerate(numb_range):\n",
    "    numb_scores[i] = cross_validation_score_logistic_bagging(X_train, y_train, folds, numb)  #numb is the number of samples\n",
    "    print(f'Hyperparameter number of samples={numb}: {numb_scores[i]:f}')\n",
    "\n",
    "  best_numb_index = np.argmax(numb_scores)  #I choose the one with greater accusacy\n",
    "  return numb_range[best_numb_index]\n",
    "\n",
    "\n"
   ]
  },
  {
   "cell_type": "markdown",
   "metadata": {},
   "source": [
    "We take the following numbers of sets to use in the cross validation. Being the research of an hyperparameter a never ending research and being this algorithm quite slow we will limite ourselves to only 6 possible parameters."
   ]
  },
  {
   "cell_type": "code",
   "execution_count": 88,
   "metadata": {},
   "outputs": [
    {
     "data": {
      "text/plain": [
       "array([ 8, 15, 22, 29, 36, 43])"
      ]
     },
     "execution_count": 88,
     "metadata": {},
     "output_type": "execute_result"
    }
   ],
   "source": [
    "numb_range = np.arange(8,50,7)\n",
    "numb_range"
   ]
  },
  {
   "cell_type": "code",
   "execution_count": 89,
   "metadata": {},
   "outputs": [
    {
     "name": "stdout",
     "output_type": "stream",
     "text": [
      "Hyperparameter number of samples=8: 94.074074\n",
      "Hyperparameter number of samples=15: 94.152047\n",
      "Hyperparameter number of samples=22: 94.113060\n",
      "Hyperparameter number of samples=29: 94.152047\n",
      "Hyperparameter number of samples=36: 94.113060\n",
      "Hyperparameter number of samples=43: 94.074074\n",
      "best number of samples: 15\n"
     ]
    }
   ],
   "source": [
    "best_numb = choose_best_number_log_bg(X_tumour_samples.astype(float), y_tumour_samples_tr, folds_indexes_tumour_samples, numb_range)\n",
    "print('best number of samples:', best_numb)\n",
    "\n"
   ]
  },
  {
   "cell_type": "markdown",
   "metadata": {},
   "source": [
    "We can see that our optimal parameter is 15, so the number of samples we will use for the bagging is 15."
   ]
  },
  {
   "cell_type": "markdown",
   "metadata": {},
   "source": [
    "### 3.1.3"
   ]
  },
  {
   "cell_type": "markdown",
   "metadata": {},
   "source": [
    "The function $\\texttt{bagging_logistic}$ returns the accuracy (we still use 0.5 as a threshold)"
   ]
  },
  {
   "cell_type": "code",
   "execution_count": 109,
   "metadata": {},
   "outputs": [
    {
     "data": {
      "text/plain": [
       "83.5"
      ]
     },
     "execution_count": 109,
     "metadata": {},
     "output_type": "execute_result"
    }
   ],
   "source": [
    "precision_15_ = bagging_logistic(15, X_tumour_samples_lg, y_tumour_samples_tr, X_tumour_test_lg, y_tumour_test_tr, num_iterations=5000, learning_rate=0.005, print_cost=False)\n",
    "precision_15_\n",
    "\n"
   ]
  },
  {
   "cell_type": "markdown",
   "metadata": {},
   "source": [
    "Our final accuracy on the testing data set is $83.5\\%$, which is slightly better than the one we got with the logistic regression without bagging. However we don't see an heavy improvement, which doesn't give us any reason to use bagging with logistic regression (which is slower and has higher computational costs) instead of classic logistic regression. \n",
    "\n",
    "(I may guess (but I am not sure about this ) that this may be the reason bagging is more common with decision trees rather than with logistic regression."
   ]
  },
  {
   "cell_type": "markdown",
   "metadata": {},
   "source": [
    "We conclude with some little comments:\n",
    "1. We choose as cardinality N' of the random sub samples 500, but we could take different N' and do a research for the optimal N' parameter.\n",
    "2. The component of randomness in the choice of the elements of each sample could lead to slightly different results in the accuracy, but they can ignored."
   ]
  },
  {
   "cell_type": "markdown",
   "metadata": {
    "id": "9XbuLm6qy100"
   },
   "source": [
    "<a name=\"q32\"></a>\n",
    "\n",
    "## 3.2 [^](#outline)"
   ]
  },
  {
   "cell_type": "markdown",
   "metadata": {},
   "source": [
    "We want to minimize \n",
    "\n",
    "$min_{w_z}||w_z||^2+\\frac{\\lambda}{n}\\sum_i max\\{0,1-(z^{(i)}\\cdot w_z+b)y^{(i)}$. We take the kernel $k(x,y)=e^{-\\frac{||x-y||^2}{\\sigma}}$. So $||w_z||^2 = w_z\\cdot w_x = k(w,w) = 1$, which means that we can just focus on minimizing $\\sum_i max\\{0,1-(z^{(i)}\\cdot w_z+b)y^{(i)}=\\sum_i max\\{0,1-(k(x^{(i)},w)+b)y^{(i)}$"
   ]
  },
  {
   "cell_type": "markdown",
   "metadata": {},
   "source": [
    "We import the data"
   ]
  },
  {
   "cell_type": "code",
   "execution_count": 189,
   "metadata": {},
   "outputs": [],
   "source": [
    "#Training set\n",
    "Tumour_samples = df_tumour_samples.to_numpy()\n",
    "y_tumour_samples = Tumour_samples[:,31] # creating the array with the classifications (B or M)\n",
    "N_tumour_samples = len(y_tumour_samples)\n",
    "X_tumour_samples = Tumour_samples[:,1:31] #creating a matrix storing the input data\n",
    "\n",
    "\n",
    "#We standardise\n",
    "X_tumour_samples_3 = (X_tumour_samples-np.mean(X_tumour_samples))/np.std(X_tumour_samples)\n",
    "\n",
    "#We augment\n",
    "X_tumour_samples_kern = np.hstack([X_tumour_samples_3,1.0 * np.ones((len(y_tumour_samples),1))])\n",
    "\n",
    "#Testing set\n",
    "Tumour_test = df_tumour_test.to_numpy()\n",
    "y_tumour_test = Tumour_test[:,31] # creating the array with the classifications (B or M)\n",
    "N_tumour_test = len(y_tumour_test)\n",
    "X_tumour_test = Tumour_test[:,1:31] #creating a matrix storing the input data\n",
    "\n",
    "\n",
    "#We standardise\n",
    "X_tumour_test_3 = (X_tumour_test-np.mean(X_tumour_test))/np.std(X_tumour_test)\n",
    "\n",
    "\n",
    "#We augment\n",
    "X_tumour_test_kern = np.hstack([X_tumour_test_3,1.0 * np.ones((len(y_tumour_test),1))])\n",
    "\n",
    "\n"
   ]
  },
  {
   "cell_type": "markdown",
   "metadata": {},
   "source": [
    "We write the cost function"
   ]
  },
  {
   "cell_type": "code",
   "execution_count": 452,
   "metadata": {},
   "outputs": [],
   "source": [
    "def compute_cost_kern(w,sigma, X, y):\n",
    "    n = X.shape[0]\n",
    "    distances = []\n",
    "    for i in range(n):\n",
    "        distance = 1 - y[i]*(np.exp(-np.linalg.norm(X[i,:]-w)**2/sigma))\n",
    "        if distance <0:\n",
    "            distances.append(0)\n",
    "        else:\n",
    "            distances.append(distance)\n",
    "    hinge = np.sum(distances)   #the sum is our new cost function\n",
    "\n",
    "    # calculate cost\n",
    "    return hinge\n",
    "\n"
   ]
  },
  {
   "cell_type": "markdown",
   "metadata": {},
   "source": [
    "We write the gradient of the cost function"
   ]
  },
  {
   "cell_type": "code",
   "execution_count": 459,
   "metadata": {},
   "outputs": [],
   "source": [
    "def calculate_cost_gradient_kern(w, X_batch, y_batch, sigma):\n",
    "    # if only one example is passed\n",
    "    if type(y_batch) == np.float64:\n",
    "        y_batch = np.asarray([y_batch])\n",
    "        X_batch = np.asarray([X_batch])  # gives multidimensional array\n",
    "    \n",
    "    dw = np.zeros(len(w), dtype = float)\n",
    "    for i in range (X_batch.shape[0]):\n",
    "        if max(0, 1 - y_batch[i]*(np.exp(-np.linalg.norm(X_batch[i,:]-w)**2/sigma)))==0:\n",
    "            dw += 0\n",
    "        else:\n",
    "            for j in range(len(w)):\n",
    "                dw[j] +=  -(2*y_batch[i] *(np.exp(-np.linalg.norm(X_batch[i,:]-w)**2/sigma))*((X_batch[i,j]-w[j])))/sigma\n",
    "    return dw"
   ]
  },
  {
   "cell_type": "code",
   "execution_count": 460,
   "metadata": {},
   "outputs": [],
   "source": [
    "def sgd_kern(X, y,sigma, batch_size=16, max_iterations=50000, stop_criterion=0.01, learning_rate=1e-5, regul_strength=1e5, print_outcome=False):\n",
    "    # initialise zero weights\n",
    "    weights = np.zeros(X.shape[1])\n",
    "    nth = 0\n",
    "    # initialise starting cost as infinity\n",
    "    prev_cost = np.inf\n",
    "    \n",
    "    # stochastic gradient descent\n",
    "    indices = np.arange(len(y))\n",
    "    for iteration in range(1, max_iterations):\n",
    "        # shuffle to prevent repeating update cycles\n",
    "        np.random.shuffle(indices)\n",
    "        batch_idx = indices[:batch_size]\n",
    "        X_b, y_b = X[batch_idx], y[batch_idx]\n",
    "        for xi, yi in zip(X_b, y_b):\n",
    "            ascent = calculate_cost_gradient_kern(weights, xi, yi, sigma) \n",
    "            weights = weights - (learning_rate * ascent)\n",
    "\n",
    "        # convergence check on 2^n'th iteration\n",
    "        if iteration==2**nth or iteration==max_iterations-1:\n",
    "            # compute cost\n",
    "            cost = compute_cost_kern(weights,sigma, X, y)\n",
    "            if print_outcome:\n",
    "                print(\"Iteration is: {}, Cost is: {}\".format(iteration, cost))\n",
    "            # stop criterion\n",
    "            \n",
    "              \n",
    "            prev_cost = cost\n",
    "            nth += 1\n",
    "    \n",
    "    return weights\n",
    "\n"
   ]
  },
  {
   "cell_type": "code",
   "execution_count": 461,
   "metadata": {},
   "outputs": [],
   "source": [
    "\n",
    "def transform_diagnosis_kern(y):\n",
    "    #taked a vector of diagnosis and return a vector long the same containing +1 instead of 'M' and -1 instead of 'B'\n",
    "    N = len(y)\n",
    "    y_tr = np.zeros(N)\n",
    "    for i in range(N):\n",
    "        if y[i] == 'M':\n",
    "            y_tr[i]+=1.0\n",
    "        elif y[i] == 'B':\n",
    "            y_tr[i]-=1.0\n",
    "    return y_tr\n",
    "\n",
    "\n",
    "\n",
    "def score_kern(w, X, y):\n",
    "    y_preds = np.sign(X @ w)\n",
    "    return np.mean(y_preds == y)"
   ]
  },
  {
   "cell_type": "code",
   "execution_count": 462,
   "metadata": {},
   "outputs": [],
   "source": [
    "y_tumour_samples_kern = transform_diagnosis_kern( y_tumour_samples)\n",
    "y_tumour_test_kern = transform_diagnosis_kern( y_tumour_test)\n",
    "\n"
   ]
  },
  {
   "cell_type": "code",
   "execution_count": 463,
   "metadata": {},
   "outputs": [
    {
     "name": "stdout",
     "output_type": "stream",
     "text": [
      "Iteration is: 1, Cost is: 2567.171158292329\n",
      "Iteration is: 2, Cost is: 2567.1711307279625\n",
      "Iteration is: 4, Cost is: 2567.1710978952906\n",
      "Iteration is: 8, Cost is: 2567.1710287898754\n",
      "Iteration is: 16, Cost is: 2567.1708604713986\n",
      "Iteration is: 32, Cost is: 2567.1705358441486\n",
      "Iteration is: 64, Cost is: 2567.1699341389067\n",
      "Iteration is: 128, Cost is: 2567.168639255805\n",
      "Iteration is: 256, Cost is: 2567.166096412904\n",
      "Iteration is: 512, Cost is: 2567.1609034436233\n",
      "Iteration is: 1024, Cost is: 2567.15067108759\n",
      "Iteration is: 2048, Cost is: 2567.130920674679\n",
      "Iteration is: 4096, Cost is: 2567.092852220184\n",
      "Iteration is: 8192, Cost is: 2567.0231354624966\n",
      "Iteration is: 9999, Cost is: 2566.994671307575\n"
     ]
    }
   ],
   "source": [
    "w_kern = sgd_kern(X_tumour_samples_kern, y_tumour_samples_kern,1, 200, 10000, 0.001, 1e-5, regul_strength=2, print_outcome=True)"
   ]
  },
  {
   "cell_type": "code",
   "execution_count": 464,
   "metadata": {},
   "outputs": [
    {
     "name": "stdout",
     "output_type": "stream",
     "text": [
      "[ 0.00395797  0.00304685 -0.0001982  -0.01438712  0.00473178  0.00473287\n",
      "  0.00473664  0.00473964  0.00472336  0.00473407  0.00471475  0.00460263\n",
      "  0.00456057  0.00337331  0.00473974  0.00473825  0.00473761  0.00474008\n",
      "  0.00473828  0.0047403   0.0038742   0.00256184 -0.00080267 -0.01873447\n",
      "  0.0047278   0.0047246   0.0047267   0.00473716  0.00471415  0.00473218\n",
      " -0.0169119 ]\n"
     ]
    }
   ],
   "source": [
    "print(w_kern)"
   ]
  },
  {
   "cell_type": "code",
   "execution_count": 465,
   "metadata": {},
   "outputs": [
    {
     "data": {
      "text/plain": [
       "0.8347622759158223"
      ]
     },
     "execution_count": 465,
     "metadata": {},
     "output_type": "execute_result"
    }
   ],
   "source": [
    "score_kern(w_kern, X_tumour_samples_kern, y_tumour_samples_kern)"
   ]
  },
  {
   "cell_type": "code",
   "execution_count": 466,
   "metadata": {},
   "outputs": [
    {
     "data": {
      "text/plain": [
       "0.635"
      ]
     },
     "execution_count": 466,
     "metadata": {},
     "output_type": "execute_result"
    }
   ],
   "source": [
    "score_kern(w_kern, X_tumour_test_kern, y_tumour_test_kern)"
   ]
  },
  {
   "cell_type": "markdown",
   "metadata": {},
   "source": [
    "This exercise has not been finished, but the way to proceed is just to implement cross validation as in the previous exercises, to find the optimal parameter $\\sigma$."
   ]
  },
  {
   "cell_type": "code",
   "execution_count": null,
   "metadata": {},
   "outputs": [],
   "source": []
  }
 ],
 "metadata": {
  "colab": {
   "collapsed_sections": [],
   "name": "SurnameCID_CW1.ipynb",
   "provenance": []
  },
  "kernelspec": {
   "display_name": "Python 3 (ipykernel)",
   "language": "python",
   "name": "python3"
  },
  "language_info": {
   "codemirror_mode": {
    "name": "ipython",
    "version": 3
   },
   "file_extension": ".py",
   "mimetype": "text/x-python",
   "name": "python",
   "nbconvert_exporter": "python",
   "pygments_lexer": "ipython3",
   "version": "3.7.11"
  }
 },
 "nbformat": 4,
 "nbformat_minor": 1
}
